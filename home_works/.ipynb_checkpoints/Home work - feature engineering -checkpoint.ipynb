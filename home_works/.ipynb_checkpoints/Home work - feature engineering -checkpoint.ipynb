{
 "cells": [
  {
   "cell_type": "markdown",
   "id": "c96fa222",
   "metadata": {},
   "source": [
    "Home work - feature engineering \n",
    "--- \n",
    "\n",
    "На лекциях 6 и 7 мы рассмотрели много приемов, как можно строить прогнозы, используя не только классические модели временных рядов. \n",
    "\n",
    "В этом домашнем задании я предлагаю вам проявить свободу творчества и попробовать различные методы. \n",
    "Здесь будут гайдлайны - советы, но им не обязательно следовать строго.\n",
    "\n",
    "Вы можете приложить два ноутбука - один \"черновик\", где вы пробуете различные методы и делаете свои выводы. Второй - \"чистовик\" с оптимальной моделью, графиком и результатами.\n",
    "\n",
    "Временной ряд №1\n",
    "----"
   ]
  },
  {
   "cell_type": "code",
   "execution_count": 1,
   "id": "74cbd634",
   "metadata": {},
   "outputs": [
    {
     "data": {
      "text/html": [
       "        <script type=\"text/javascript\">\n",
       "        window.PlotlyConfig = {MathJaxConfig: 'local'};\n",
       "        if (window.MathJax && window.MathJax.Hub && window.MathJax.Hub.Config) {window.MathJax.Hub.Config({SVG: {font: \"STIX-Web\"}});}\n",
       "        if (typeof require !== 'undefined') {\n",
       "        require.undef(\"plotly\");\n",
       "        requirejs.config({\n",
       "            paths: {\n",
       "                'plotly': ['https://cdn.plot.ly/plotly-2.12.1.min']\n",
       "            }\n",
       "        });\n",
       "        require(['plotly'], function(Plotly) {\n",
       "            window._Plotly = Plotly;\n",
       "        });\n",
       "        }\n",
       "        </script>\n",
       "        "
      ]
     },
     "metadata": {},
     "output_type": "display_data"
    }
   ],
   "source": [
    "import pandas as pd\n",
    "from plotly.offline import init_notebook_mode,iplot\n",
    "init_notebook_mode(connected=True)\n",
    "from plotly.graph_objects import * \n",
    "import warnings\n",
    "import numpy as np\n",
    "warnings.filterwarnings('ignore')\n",
    "import matplotlib.dates as mdates\n",
    "from xgboost import XGBRegressor\n",
    "%matplotlib inline\n",
    "import matplotlib.pyplot as plt\n",
    "import seaborn; seaborn.set()\n",
    "from sklearn.metrics import r2_score\n",
    "from lightgbm import LGBMRegressor\n",
    "import category_encoders as ce\n",
    "from sklearn.metrics import mean_absolute_error\n",
    "import category_encoders as ce\n",
    "from sklearn.linear_model import LinearRegression\n",
    "from sklearn.linear_model import SGDRegressor\n",
    "import seaborn as sns\n",
    "# Use seaborn style defaults and set the default figure size\n",
    "# sns.set(rc={'figure.figsize':(12, 8)})\n",
    "# sns.set(font_scale=2)\n",
    "# sns.set_style(\"whitegrid\")\n",
    "\n",
    "\n",
    "from sklearn.ensemble import RandomForestRegressor"
   ]
  },
  {
   "cell_type": "code",
   "execution_count": 2,
   "id": "0cb63fee",
   "metadata": {},
   "outputs": [],
   "source": [
    "df1 = pd.read_csv('../datatest/monthly-car-sales.csv')"
   ]
  },
  {
   "cell_type": "markdown",
   "id": "b79dfe8f",
   "metadata": {},
   "source": [
    "Задание:\n",
    "---\n",
    "* Задача стоит построить прогноз на следующий год на все 12 месяцев.\n",
    "* Построить признаки, основанные на времени (месяц, код), а также используя target encoding\n",
    "* Построить признаки, основанные на lagged values\n",
    "* Посмотреть, какие признаки работают лучше, возможно стоит скомбинировать? \n",
    "* При тестировании лучше всего пользоваться кросс-валидацией. Можно библиотекой. "
   ]
  },
  {
   "cell_type": "code",
   "execution_count": 3,
   "id": "887c9a6d",
   "metadata": {},
   "outputs": [
    {
     "data": {
      "text/plain": [
       "<AxesSubplot:>"
      ]
     },
     "execution_count": 3,
     "metadata": {},
     "output_type": "execute_result"
    },
    {
     "data": {
      "image/png": "[encoded data removed]",
      "text/plain": [
       "<Figure size 432x288 with 1 Axes>"
      ]
     },
     "metadata": {},
     "output_type": "display_data"
    }
   ],
   "source": [
    "df1.plot()"
   ]
  },
  {
   "cell_type": "code",
   "execution_count": 100,
   "id": "1488710d",
   "metadata": {},
   "outputs": [],
   "source": [
    "df2 = df1.copy()\n",
    "df2['ms'] = pd.to_datetime(df2['Month'])\n",
    "df2['month'] = df2['ms'].dt.month\n",
    "df2['year'] = df2['ms'].dt.year\n",
    "\n",
    "df2.drop('Month',axis=1,inplace=True)\n",
    "df2.set_index('ms', inplace=True)"
   ]
  },
  {
   "cell_type": "markdown",
   "id": "dadec579",
   "metadata": {},
   "source": [
    "# Add features"
   ]
  },
  {
   "cell_type": "code",
   "execution_count": 101,
   "id": "a6d24dda",
   "metadata": {},
   "outputs": [],
   "source": [
    "### lagged features\n",
    "\n",
    "features = [f'i-{i}' for i in range(12,25)]\n",
    "for i in range(12,25): \n",
    "    df2['i-'+str(i)] = df2['Sales'].shift(i)"
   ]
  },
  {
   "cell_type": "code",
   "execution_count": 102,
   "id": "6fc0fa71",
   "metadata": {},
   "outputs": [],
   "source": [
    "### rolling feature\n",
    "\n",
    "df2['rolling_mean_3m'] = df2['Sales'].rolling(window=3, closed='left').mean()"
   ]
  },
  {
   "cell_type": "code",
   "execution_count": 103,
   "id": "677d7809",
   "metadata": {},
   "outputs": [],
   "source": [
    "### rolling mean by calendar years\n",
    "\n",
    "rolling_month = pd.DataFrame(columns=['Sales'])\n",
    "for i in range(1,13): \n",
    "    rolling_month_tmp = df2[df2.month==i][['Sales']].rolling(window=3, closed='left').mean()\n",
    "    rolling_month = pd.concat([rolling_month,rolling_month_tmp])\n",
    "    \n",
    "rolling_month.dropna(inplace=True)\n",
    "rolling_month.rename({'Sales':'rolling_mean_by_3m'},axis=1,inplace=True)"
   ]
  },
  {
   "cell_type": "code",
   "execution_count": 104,
   "id": "2b485250",
   "metadata": {},
   "outputs": [],
   "source": [
    "df2 = pd.merge(df2, rolling_month,how='left', left_index=True, right_index=True)"
   ]
  },
  {
   "cell_type": "code",
   "execution_count": 105,
   "id": "b3b45269",
   "metadata": {},
   "outputs": [],
   "source": [
    "test_size = 12\n",
    "train, test = df2[:-test_size], df2[-test_size:]"
   ]
  },
  {
   "cell_type": "code",
   "execution_count": 106,
   "id": "acf3453a",
   "metadata": {},
   "outputs": [],
   "source": [
    "mu = 0.5\n",
    "month_avg = train.groupby('month')[['Sales']].mean()\n",
    "month_cnt = train.groupby('month')[['Sales']].count()\n",
    "avg_sales = train['Sales'].mean()"
   ]
  },
  {
   "cell_type": "code",
   "execution_count": 107,
   "id": "556c5928",
   "metadata": {},
   "outputs": [],
   "source": [
    "mu_estimate = ((month_cnt * month_avg + \\\n",
    "                mu*avg_sales) / (month_cnt + mu)).reset_index().rename({'Sales':'mu_month'},axis=1)"
   ]
  },
  {
   "cell_type": "code",
   "execution_count": 108,
   "id": "2b41a73c",
   "metadata": {},
   "outputs": [],
   "source": [
    "df2 = pd.merge(df2, mu_estimate, how='left', on=['month'])"
   ]
  },
  {
   "cell_type": "code",
   "execution_count": 109,
   "id": "806cec0d",
   "metadata": {
    "scrolled": false
   },
   "outputs": [
    {
     "data": {
      "text/plain": [
       "Index(['Sales', 'month', 'year', 'i-12', 'i-13', 'i-14', 'i-15', 'i-16',\n",
       "       'i-17', 'i-18', 'i-19', 'i-20', 'i-21', 'i-22', 'i-23', 'i-24',\n",
       "       'rolling_mean_3m', 'rolling_mean_by_3m', 'mu_month'],\n",
       "      dtype='object')"
      ]
     },
     "execution_count": 109,
     "metadata": {},
     "output_type": "execute_result"
    }
   ],
   "source": [
    "df2.columns"
   ]
  },
  {
   "cell_type": "markdown",
   "id": "7c2bb86d",
   "metadata": {},
   "source": [
    "# Build model"
   ]
  },
  {
   "cell_type": "code",
   "execution_count": 110,
   "id": "112eb65f",
   "metadata": {},
   "outputs": [],
   "source": [
    "features = ['month', 'year', 'i-12','i-18', 'i-17','i-20', 'i-24', 'rolling_mean_by_3m', 'mu_month']"
   ]
  },
  {
   "cell_type": "code",
   "execution_count": 111,
   "id": "2c643885",
   "metadata": {},
   "outputs": [
    {
     "name": "stdout",
     "output_type": "stream",
     "text": [
      "MAE = 1558.4416666666666, R2 = 0.7207243616918504\n"
     ]
    }
   ],
   "source": [
    "# your code\n",
    "df3 = df2[['Sales'] + features].dropna().copy()\n",
    "df3 = df3.reset_index(drop=True)\n",
    "\n",
    "r2_list = list()\n",
    "mae_list = list()\n",
    "n_splits = 4 \n",
    "test_size = 12 \n",
    "s = df3\n",
    "size = len(s)\n",
    "for i in reversed(range(n_splits)):\n",
    "    idx = size - (i+1)*test_size\n",
    "    train = s[0:idx]\n",
    "    test = s[idx:idx+test_size]\n",
    "    rest = s[idx+test_size:]\n",
    "    \n",
    "    mod = RandomForestRegressor()\n",
    "    mod.fit(train[features], train['Sales'])\n",
    "    predictions = mod.predict(test[features])\n",
    "    \n",
    "    mae_list.append(mean_absolute_error(test['Sales'], predictions))\n",
    "    r2_list.append(r2_score(test['Sales'], predictions))\n",
    "print(f'MAE = {np.mean(mae_list)}, R2 = {np.mean(r2_list)}')"
   ]
  },
  {
   "cell_type": "code",
   "execution_count": 40,
   "id": "4e00704a",
   "metadata": {},
   "outputs": [
    {
     "data": {
      "text/plain": [
       "mu_month              0.332136\n",
       "rolling_mean_by_2m    0.225869\n",
       "i-12                  0.224011\n",
       "i-24                  0.092072\n",
       "i-18                  0.027270\n",
       "month                 0.015053\n",
       "i-20                  0.013745\n",
       "i-17                  0.013676\n",
       "i-23                  0.008233\n",
       "i-16                  0.008079\n",
       "i-19                  0.008004\n",
       "i-13                  0.007025\n",
       "i-15                  0.006516\n",
       "i-22                  0.005612\n",
       "i-21                  0.005587\n",
       "i-14                  0.004363\n",
       "year                  0.002749\n",
       "dtype: float64"
      ]
     },
     "execution_count": 40,
     "metadata": {},
     "output_type": "execute_result"
    }
   ],
   "source": [
    "### check all features and leave most important\n",
    "s = pd.Series(index=features, data = mod.feature_importances_).sort_values(ascending=False)\n",
    "s"
   ]
  },
  {
   "cell_type": "code",
   "execution_count": null,
   "id": "b664f7f4",
   "metadata": {},
   "outputs": [],
   "source": []
  },
  {
   "cell_type": "markdown",
   "id": "38ed4c62",
   "metadata": {},
   "source": [
    "Временной ряд №2\n",
    "---\n",
    "Колонки\n",
    "* Period - дата \n",
    "* Revenue - Доход (таргет)\n",
    "* Sales_quantity - количество проданных товаров. Можно использовать как признак, но только не в текущий момент времени, так как мы не знаем, сколько мы товаров продадим на момент прогноза\n",
    "* Average_cost - средняя цена товара (Revenue / Sales_quantity) "
   ]
  },
  {
   "cell_type": "code",
   "execution_count": 2,
   "id": "c4796591",
   "metadata": {},
   "outputs": [],
   "source": [
    "df2 = pd.read_csv('../datatest/month_value.csv')"
   ]
  },
  {
   "cell_type": "code",
   "execution_count": 3,
   "id": "4a596193",
   "metadata": {},
   "outputs": [
    {
     "data": {
      "text/html": [
       "<div>\n",
       "<style scoped>\n",
       "    .dataframe tbody tr th:only-of-type {\n",
       "        vertical-align: middle;\n",
       "    }\n",
       "\n",
       "    .dataframe tbody tr th {\n",
       "        vertical-align: top;\n",
       "    }\n",
       "\n",
       "    .dataframe thead th {\n",
       "        text-align: right;\n",
       "    }\n",
       "</style>\n",
       "<table border=\"1\" class=\"dataframe\">\n",
       "  <thead>\n",
       "    <tr style=\"text-align: right;\">\n",
       "      <th></th>\n",
       "      <th>Period</th>\n",
       "      <th>Revenue</th>\n",
       "      <th>Sales_quantity</th>\n",
       "      <th>Average_cost</th>\n",
       "    </tr>\n",
       "  </thead>\n",
       "  <tbody>\n",
       "    <tr>\n",
       "      <th>0</th>\n",
       "      <td>01.01.2015</td>\n",
       "      <td>1.601007e+07</td>\n",
       "      <td>12729.0</td>\n",
       "      <td>1257.763541</td>\n",
       "    </tr>\n",
       "    <tr>\n",
       "      <th>1</th>\n",
       "      <td>01.02.2015</td>\n",
       "      <td>1.580759e+07</td>\n",
       "      <td>11636.0</td>\n",
       "      <td>1358.507000</td>\n",
       "    </tr>\n",
       "    <tr>\n",
       "      <th>2</th>\n",
       "      <td>01.03.2015</td>\n",
       "      <td>2.204715e+07</td>\n",
       "      <td>15922.0</td>\n",
       "      <td>1384.697024</td>\n",
       "    </tr>\n",
       "    <tr>\n",
       "      <th>3</th>\n",
       "      <td>01.04.2015</td>\n",
       "      <td>1.881458e+07</td>\n",
       "      <td>15227.0</td>\n",
       "      <td>1235.606705</td>\n",
       "    </tr>\n",
       "    <tr>\n",
       "      <th>4</th>\n",
       "      <td>01.05.2015</td>\n",
       "      <td>1.402148e+07</td>\n",
       "      <td>8620.0</td>\n",
       "      <td>1626.621765</td>\n",
       "    </tr>\n",
       "  </tbody>\n",
       "</table>\n",
       "</div>"
      ],
      "text/plain": [
       "       Period       Revenue  Sales_quantity  Average_cost\n",
       "0  01.01.2015  1.601007e+07         12729.0   1257.763541\n",
       "1  01.02.2015  1.580759e+07         11636.0   1358.507000\n",
       "2  01.03.2015  2.204715e+07         15922.0   1384.697024\n",
       "3  01.04.2015  1.881458e+07         15227.0   1235.606705\n",
       "4  01.05.2015  1.402148e+07          8620.0   1626.621765"
      ]
     },
     "execution_count": 3,
     "metadata": {},
     "output_type": "execute_result"
    }
   ],
   "source": [
    "df2.head()"
   ]
  },
  {
   "cell_type": "code",
   "execution_count": 4,
   "id": "acd40f7b",
   "metadata": {},
   "outputs": [
    {
     "data": {
      "text/html": [
       "<div>\n",
       "<style scoped>\n",
       "    .dataframe tbody tr th:only-of-type {\n",
       "        vertical-align: middle;\n",
       "    }\n",
       "\n",
       "    .dataframe tbody tr th {\n",
       "        vertical-align: top;\n",
       "    }\n",
       "\n",
       "    .dataframe thead th {\n",
       "        text-align: right;\n",
       "    }\n",
       "</style>\n",
       "<table border=\"1\" class=\"dataframe\">\n",
       "  <thead>\n",
       "    <tr style=\"text-align: right;\">\n",
       "      <th></th>\n",
       "      <th>Revenue</th>\n",
       "      <th>Sales_quantity</th>\n",
       "      <th>Average_cost</th>\n",
       "    </tr>\n",
       "  </thead>\n",
       "  <tbody>\n",
       "    <tr>\n",
       "      <th>Revenue</th>\n",
       "      <td>1.000000</td>\n",
       "      <td>0.887570</td>\n",
       "      <td>0.358278</td>\n",
       "    </tr>\n",
       "    <tr>\n",
       "      <th>Sales_quantity</th>\n",
       "      <td>0.887570</td>\n",
       "      <td>1.000000</td>\n",
       "      <td>-0.093599</td>\n",
       "    </tr>\n",
       "    <tr>\n",
       "      <th>Average_cost</th>\n",
       "      <td>0.358278</td>\n",
       "      <td>-0.093599</td>\n",
       "      <td>1.000000</td>\n",
       "    </tr>\n",
       "  </tbody>\n",
       "</table>\n",
       "</div>"
      ],
      "text/plain": [
       "                 Revenue  Sales_quantity  Average_cost\n",
       "Revenue         1.000000        0.887570      0.358278\n",
       "Sales_quantity  0.887570        1.000000     -0.093599\n",
       "Average_cost    0.358278       -0.093599      1.000000"
      ]
     },
     "execution_count": 4,
     "metadata": {},
     "output_type": "execute_result"
    }
   ],
   "source": [
    "# correlations\n",
    "df2.corr()"
   ]
  },
  {
   "cell_type": "markdown",
   "id": "4a89962e",
   "metadata": {},
   "source": [
    "Задание \n",
    "---\n",
    "Используя предыдущие приемы, а так же добавив еще признаки из датасета, так же построить прогноз на 3 месяца и на год вперед"
   ]
  },
  {
   "cell_type": "code",
   "execution_count": null,
   "id": "bf86fcd8",
   "metadata": {},
   "outputs": [],
   "source": []
  }
 ],
 "metadata": {
  "kernelspec": {
   "display_name": "Python 3 (ipykernel)",
   "language": "python",
   "name": "python3"
  },
  "language_info": {
   "codemirror_mode": {
    "name": "ipython",
    "version": 3
   },
   "file_extension": ".py",
   "mimetype": "text/x-python",
   "name": "python",
   "nbconvert_exporter": "python",
   "pygments_lexer": "ipython3",
   "version": "3.8.13"
  }
 },
 "nbformat": 4,
 "nbformat_minor": 5
}

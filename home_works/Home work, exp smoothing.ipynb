{
 "cells": [
  {
   "cell_type": "code",
   "execution_count": 31,
   "id": "70114cc1",
   "metadata": {},
   "outputs": [
    {
     "data": {
      "text/html": [
       "        <script type=\"text/javascript\">\n",
       "        window.PlotlyConfig = {MathJaxConfig: 'local'};\n",
       "        if (window.MathJax && window.MathJax.Hub && window.MathJax.Hub.Config) {window.MathJax.Hub.Config({SVG: {font: \"STIX-Web\"}});}\n",
       "        if (typeof require !== 'undefined') {\n",
       "        require.undef(\"plotly\");\n",
       "        requirejs.config({\n",
       "            paths: {\n",
       "                'plotly': ['https://cdn.plot.ly/plotly-2.12.1.min']\n",
       "            }\n",
       "        });\n",
       "        require(['plotly'], function(Plotly) {\n",
       "            window._Plotly = Plotly;\n",
       "        });\n",
       "        }\n",
       "        </script>\n",
       "        "
      ]
     },
     "metadata": {},
     "output_type": "display_data"
    }
   ],
   "source": [
    "import pandas as pd\n",
    "from plotly.offline import init_notebook_mode,iplot\n",
    "init_notebook_mode(connected=True)\n",
    "from plotly.graph_objects import * \n",
    "import warnings\n",
    "from sklearn.metrics import mean_absolute_error, r2_score\n",
    "warnings.filterwarnings('ignore')\n",
    "from statsmodels.tsa.seasonal import seasonal_decompose\n",
    "from statsmodels.tsa.holtwinters import SimpleExpSmoothing   \n",
    "\n",
    "\n",
    "import matplotlib\n",
    "import matplotlib.pyplot as plt\n",
    "from statsmodels.tsa.holtwinters import ExponentialSmoothing\n",
    "\n",
    "import numpy as np"
   ]
  },
  {
   "cell_type": "markdown",
   "id": "5c00652a",
   "metadata": {},
   "source": [
    "Загрузка данных\n",
    "====="
   ]
  },
  {
   "cell_type": "code",
   "execution_count": 2,
   "id": "8c4d84b6",
   "metadata": {},
   "outputs": [],
   "source": [
    "df = pd.read_csv('../datatest/monthly-car-sales.csv')"
   ]
  },
  {
   "cell_type": "code",
   "execution_count": 3,
   "id": "bc40e7b6",
   "metadata": {},
   "outputs": [
    {
     "data": {
      "text/html": [
       "<div>\n",
       "<style scoped>\n",
       "    .dataframe tbody tr th:only-of-type {\n",
       "        vertical-align: middle;\n",
       "    }\n",
       "\n",
       "    .dataframe tbody tr th {\n",
       "        vertical-align: top;\n",
       "    }\n",
       "\n",
       "    .dataframe thead th {\n",
       "        text-align: right;\n",
       "    }\n",
       "</style>\n",
       "<table border=\"1\" class=\"dataframe\">\n",
       "  <thead>\n",
       "    <tr style=\"text-align: right;\">\n",
       "      <th></th>\n",
       "      <th>Month</th>\n",
       "      <th>Sales</th>\n",
       "    </tr>\n",
       "  </thead>\n",
       "  <tbody>\n",
       "    <tr>\n",
       "      <th>0</th>\n",
       "      <td>1960-01</td>\n",
       "      <td>6550</td>\n",
       "    </tr>\n",
       "    <tr>\n",
       "      <th>1</th>\n",
       "      <td>1960-02</td>\n",
       "      <td>8728</td>\n",
       "    </tr>\n",
       "    <tr>\n",
       "      <th>2</th>\n",
       "      <td>1960-03</td>\n",
       "      <td>12026</td>\n",
       "    </tr>\n",
       "    <tr>\n",
       "      <th>3</th>\n",
       "      <td>1960-04</td>\n",
       "      <td>14395</td>\n",
       "    </tr>\n",
       "    <tr>\n",
       "      <th>4</th>\n",
       "      <td>1960-05</td>\n",
       "      <td>14587</td>\n",
       "    </tr>\n",
       "  </tbody>\n",
       "</table>\n",
       "</div>"
      ],
      "text/plain": [
       "     Month  Sales\n",
       "0  1960-01   6550\n",
       "1  1960-02   8728\n",
       "2  1960-03  12026\n",
       "3  1960-04  14395\n",
       "4  1960-05  14587"
      ]
     },
     "execution_count": 3,
     "metadata": {},
     "output_type": "execute_result"
    }
   ],
   "source": [
    "df.head()"
   ]
  },
  {
   "cell_type": "markdown",
   "id": "bf5905a9",
   "metadata": {},
   "source": [
    "Создадим серию, у которой в качестве индекса будет Month, а в качестве значений - количество продаж Sales"
   ]
  },
  {
   "cell_type": "code",
   "execution_count": 4,
   "id": "4ce993fd",
   "metadata": {},
   "outputs": [
    {
     "data": {
      "text/plain": [
       "<AxesSubplot:xlabel='Month'>"
      ]
     },
     "execution_count": 4,
     "metadata": {},
     "output_type": "execute_result"
    },
    {
     "data": {
      "image/png": "[encoded data removed]",
      "text/plain": [
       "<Figure size 432x288 with 1 Axes>"
      ]
     },
     "metadata": {
      "needs_background": "light"
     },
     "output_type": "display_data"
    }
   ],
   "source": [
    "df['Month']=pd.to_datetime(df['Month'])\n",
    "df.set_index('Month',inplace=True)\n",
    "s = df['Sales']\n",
    "s.index.freq = 'MS'\n",
    "s.plot()"
   ]
  },
  {
   "cell_type": "markdown",
   "id": "0fd10f22",
   "metadata": {},
   "source": [
    "Задание №1\n",
    "===\n",
    "\n",
    "Разделить данные на train и test, оставив на test два года"
   ]
  },
  {
   "cell_type": "code",
   "execution_count": 5,
   "id": "52f8abf0",
   "metadata": {},
   "outputs": [],
   "source": [
    "# your code \n",
    "train, test = df[:-24], df[-24:]"
   ]
  },
  {
   "cell_type": "code",
   "execution_count": 6,
   "id": "565ec236",
   "metadata": {},
   "outputs": [
    {
     "data": {
      "text/plain": [
       "(            Sales\n",
       " Month            \n",
       " 1966-08-01  15113\n",
       " 1966-09-01  13401\n",
       " 1966-10-01  16135\n",
       " 1966-11-01  17562\n",
       " 1966-12-01  14720,\n",
       "             Sales\n",
       " Month            \n",
       " 1967-01-01  12225\n",
       " 1967-02-01  11608\n",
       " 1967-03-01  20985\n",
       " 1967-04-01  19692\n",
       " 1967-05-01  24081)"
      ]
     },
     "execution_count": 6,
     "metadata": {},
     "output_type": "execute_result"
    }
   ],
   "source": [
    "train.tail(), test.head()"
   ]
  },
  {
   "cell_type": "markdown",
   "id": "90dbbba1",
   "metadata": {},
   "source": [
    "Задание №2\n",
    "===\n",
    "\n",
    "* Создать модель <code> SimpleExpSmoothing </code>\n",
    "* Натренировать ее на train данных\n",
    "* Сделать предсказания как для train, так и для test\n",
    "* Выбрать метрики и посчитать качества предсказаний для train и для test\n",
    "* Построить графики, на которых будут как реальные данные, так и предсказания\n",
    "\n",
    "\n"
   ]
  },
  {
   "cell_type": "code",
   "execution_count": 7,
   "id": "663c9f80",
   "metadata": {},
   "outputs": [],
   "source": [
    "def print_errors(orig, predict, test_size): \n",
    "    mae_train = np.round(mean_absolute_error(orig[:-test_size], predict[:-test_size]),2)\n",
    "    mae_test = np.round(mean_absolute_error(orig[-test_size:], predict[-test_size:]),2)\n",
    "    r2_train = np.round(r2_score(orig[:-test_size], predict[:-test_size]),2)\n",
    "    r2_test = np.round(r2_score(orig[-test_size:], predict[-test_size:]),2)\n",
    "    print('       >>> Train <<<')\n",
    "    print(f'MAE = {mae_train}, R2 = {r2_train}\\n')\n",
    "    print('       >>> Test <<<')\n",
    "    print(f'MAE = {mae_test}, R2 = {r2_test}\\n')\n",
    "    "
   ]
  },
  {
   "cell_type": "code",
   "execution_count": 8,
   "id": "158f7831",
   "metadata": {},
   "outputs": [
    {
     "name": "stderr",
     "output_type": "stream",
     "text": [
      "/Users/rom25/miniforge3/envs/myenv/lib/python3.8/site-packages/statsmodels/tsa/holtwinters/model.py:915: ConvergenceWarning:\n",
      "\n",
      "Optimization failed to converge. Check mle_retvals.\n",
      "\n",
      "/Users/rom25/miniforge3/envs/myenv/lib/python3.8/site-packages/statsmodels/tsa/holtwinters/model.py:915: ConvergenceWarning:\n",
      "\n",
      "Optimization failed to converge. Check mle_retvals.\n",
      "\n",
      "/Users/rom25/miniforge3/envs/myenv/lib/python3.8/site-packages/statsmodels/tsa/holtwinters/model.py:915: ConvergenceWarning:\n",
      "\n",
      "Optimization failed to converge. Check mle_retvals.\n",
      "\n",
      "/Users/rom25/miniforge3/envs/myenv/lib/python3.8/site-packages/statsmodels/tsa/holtwinters/model.py:915: ConvergenceWarning:\n",
      "\n",
      "Optimization failed to converge. Check mle_retvals.\n",
      "\n",
      "/Users/rom25/miniforge3/envs/myenv/lib/python3.8/site-packages/statsmodels/tsa/holtwinters/model.py:915: ConvergenceWarning:\n",
      "\n",
      "Optimization failed to converge. Check mle_retvals.\n",
      "\n",
      "/Users/rom25/miniforge3/envs/myenv/lib/python3.8/site-packages/statsmodels/tsa/holtwinters/model.py:915: ConvergenceWarning:\n",
      "\n",
      "Optimization failed to converge. Check mle_retvals.\n",
      "\n",
      "/Users/rom25/miniforge3/envs/myenv/lib/python3.8/site-packages/statsmodels/tsa/holtwinters/model.py:915: ConvergenceWarning:\n",
      "\n",
      "Optimization failed to converge. Check mle_retvals.\n",
      "\n",
      "/Users/rom25/miniforge3/envs/myenv/lib/python3.8/site-packages/statsmodels/tsa/holtwinters/model.py:915: ConvergenceWarning:\n",
      "\n",
      "Optimization failed to converge. Check mle_retvals.\n",
      "\n",
      "/Users/rom25/miniforge3/envs/myenv/lib/python3.8/site-packages/statsmodels/tsa/holtwinters/model.py:915: ConvergenceWarning:\n",
      "\n",
      "Optimization failed to converge. Check mle_retvals.\n",
      "\n",
      "/Users/rom25/miniforge3/envs/myenv/lib/python3.8/site-packages/statsmodels/tsa/holtwinters/model.py:915: ConvergenceWarning:\n",
      "\n",
      "Optimization failed to converge. Check mle_retvals.\n",
      "\n",
      "/Users/rom25/miniforge3/envs/myenv/lib/python3.8/site-packages/statsmodels/tsa/holtwinters/model.py:915: ConvergenceWarning:\n",
      "\n",
      "Optimization failed to converge. Check mle_retvals.\n",
      "\n",
      "/Users/rom25/miniforge3/envs/myenv/lib/python3.8/site-packages/statsmodels/tsa/holtwinters/model.py:915: ConvergenceWarning:\n",
      "\n",
      "Optimization failed to converge. Check mle_retvals.\n",
      "\n",
      "/Users/rom25/miniforge3/envs/myenv/lib/python3.8/site-packages/statsmodels/tsa/holtwinters/model.py:915: ConvergenceWarning:\n",
      "\n",
      "Optimization failed to converge. Check mle_retvals.\n",
      "\n",
      "/Users/rom25/miniforge3/envs/myenv/lib/python3.8/site-packages/statsmodels/tsa/holtwinters/model.py:915: ConvergenceWarning:\n",
      "\n",
      "Optimization failed to converge. Check mle_retvals.\n",
      "\n",
      "/Users/rom25/miniforge3/envs/myenv/lib/python3.8/site-packages/statsmodels/tsa/holtwinters/model.py:915: ConvergenceWarning:\n",
      "\n",
      "Optimization failed to converge. Check mle_retvals.\n",
      "\n",
      "/Users/rom25/miniforge3/envs/myenv/lib/python3.8/site-packages/statsmodels/tsa/holtwinters/model.py:915: ConvergenceWarning:\n",
      "\n",
      "Optimization failed to converge. Check mle_retvals.\n",
      "\n",
      "/Users/rom25/miniforge3/envs/myenv/lib/python3.8/site-packages/statsmodels/tsa/holtwinters/model.py:915: ConvergenceWarning:\n",
      "\n",
      "Optimization failed to converge. Check mle_retvals.\n",
      "\n",
      "/Users/rom25/miniforge3/envs/myenv/lib/python3.8/site-packages/statsmodels/tsa/holtwinters/model.py:915: ConvergenceWarning:\n",
      "\n",
      "Optimization failed to converge. Check mle_retvals.\n",
      "\n",
      "/Users/rom25/miniforge3/envs/myenv/lib/python3.8/site-packages/statsmodels/tsa/holtwinters/model.py:915: ConvergenceWarning:\n",
      "\n",
      "Optimization failed to converge. Check mle_retvals.\n",
      "\n",
      "/Users/rom25/miniforge3/envs/myenv/lib/python3.8/site-packages/statsmodels/tsa/holtwinters/model.py:915: ConvergenceWarning:\n",
      "\n",
      "Optimization failed to converge. Check mle_retvals.\n",
      "\n",
      "/Users/rom25/miniforge3/envs/myenv/lib/python3.8/site-packages/statsmodels/tsa/holtwinters/model.py:915: ConvergenceWarning:\n",
      "\n",
      "Optimization failed to converge. Check mle_retvals.\n",
      "\n",
      "/Users/rom25/miniforge3/envs/myenv/lib/python3.8/site-packages/statsmodels/tsa/holtwinters/model.py:915: ConvergenceWarning:\n",
      "\n",
      "Optimization failed to converge. Check mle_retvals.\n",
      "\n",
      "/Users/rom25/miniforge3/envs/myenv/lib/python3.8/site-packages/statsmodels/tsa/holtwinters/model.py:915: ConvergenceWarning:\n",
      "\n",
      "Optimization failed to converge. Check mle_retvals.\n",
      "\n",
      "/Users/rom25/miniforge3/envs/myenv/lib/python3.8/site-packages/statsmodels/tsa/holtwinters/model.py:915: ConvergenceWarning:\n",
      "\n",
      "Optimization failed to converge. Check mle_retvals.\n",
      "\n",
      "/Users/rom25/miniforge3/envs/myenv/lib/python3.8/site-packages/statsmodels/tsa/holtwinters/model.py:915: ConvergenceWarning:\n",
      "\n",
      "Optimization failed to converge. Check mle_retvals.\n",
      "\n"
     ]
    }
   ],
   "source": [
    "# predictions for train \n",
    "mod = SimpleExpSmoothing(train).fit(optimized=True)\n",
    "pred_s = mod.predict(0,len(train)-1)\n",
    "train_s = train['Sales']\n",
    "\n",
    "\n",
    "# predictions for test\n",
    "test_size = len(test)\n",
    "time_index = test['Sales'].index\n",
    "\n",
    "test_pred = []\n",
    "for i in range(len(test)): \n",
    "    mod_tmp = SimpleExpSmoothing(train_s).fit(optimized=True)\n",
    "    forecast_tmp = mod_tmp.forecast(1)\n",
    "    pred_s = pred_s.append(mod_tmp.forecast(1))\n",
    "    train_s = df.loc[:time_index[i], 'Sales']\n",
    "    "
   ]
  },
  {
   "cell_type": "code",
   "execution_count": 9,
   "id": "4228f9e0",
   "metadata": {},
   "outputs": [
    {
     "name": "stdout",
     "output_type": "stream",
     "text": [
      "       >>> Train <<<\n",
      "MAE = 2463.45, R2 = 0.49\n",
      "\n",
      "       >>> Test <<<\n",
      "MAE = 3120.88, R2 = 0.01\n",
      "\n"
     ]
    }
   ],
   "source": [
    "print_errors(train_s, pred_s, test_size)"
   ]
  },
  {
   "cell_type": "code",
   "execution_count": 10,
   "id": "41274b24",
   "metadata": {
    "scrolled": false
   },
   "outputs": [
    {
     "data": {
      "application/vnd.plotly.v1+json": {
       "config": {
        "linkText": "Export to plot.ly",
        "plotlyServerURL": "https://plot.ly",
        "showLink": false
       },
       "data": [
        {
         "name": "Original data",
         "type": "scatter",
         "x": [
          "1960-01-01T00:00:00",
          "1960-02-01T00:00:00",
          "1960-03-01T00:00:00",
          "1960-04-01T00:00:00",
          "1960-05-01T00:00:00",
          "1960-06-01T00:00:00",
          "1960-07-01T00:00:00",
          "1960-08-01T00:00:00",
          "1960-09-01T00:00:00",
          "1960-10-01T00:00:00",
          "1960-11-01T00:00:00",
          "1960-12-01T00:00:00",
          "1961-01-01T00:00:00",
          "1961-02-01T00:00:00",
          "1961-03-01T00:00:00",
          "1961-04-01T00:00:00",
          "1961-05-01T00:00:00",
          "1961-06-01T00:00:00",
          "1961-07-01T00:00:00",
          "1961-08-01T00:00:00",
          "1961-09-01T00:00:00",
          "1961-10-01T00:00:00",
          "1961-11-01T00:00:00",
          "1961-12-01T00:00:00",
          "1962-01-01T00:00:00",
          "1962-02-01T00:00:00",
          "1962-03-01T00:00:00",
          "1962-04-01T00:00:00",
          "1962-05-01T00:00:00",
          "1962-06-01T00:00:00",
          "1962-07-01T00:00:00",
          "1962-08-01T00:00:00",
          "1962-09-01T00:00:00",
          "1962-10-01T00:00:00",
          "1962-11-01T00:00:00",
          "1962-12-01T00:00:00",
          "1963-01-01T00:00:00",
          "1963-02-01T00:00:00",
          "1963-03-01T00:00:00",
          "1963-04-01T00:00:00",
          "1963-05-01T00:00:00",
          "1963-06-01T00:00:00",
          "1963-07-01T00:00:00",
          "1963-08-01T00:00:00",
          "1963-09-01T00:00:00",
          "1963-10-01T00:00:00",
          "1963-11-01T00:00:00",
          "1963-12-01T00:00:00",
          "1964-01-01T00:00:00",
          "1964-02-01T00:00:00",
          "1964-03-01T00:00:00",
          "1964-04-01T00:00:00",
          "1964-05-01T00:00:00",
          "1964-06-01T00:00:00",
          "1964-07-01T00:00:00",
          "1964-08-01T00:00:00",
          "1964-09-01T00:00:00",
          "1964-10-01T00:00:00",
          "1964-11-01T00:00:00",
          "1964-12-01T00:00:00",
          "1965-01-01T00:00:00",
          "1965-02-01T00:00:00",
          "1965-03-01T00:00:00",
          "1965-04-01T00:00:00",
          "1965-05-01T00:00:00",
          "1965-06-01T00:00:00",
          "1965-07-01T00:00:00",
          "1965-08-01T00:00:00",
          "1965-09-01T00:00:00",
          "1965-10-01T00:00:00",
          "1965-11-01T00:00:00",
          "1965-12-01T00:00:00",
          "1966-01-01T00:00:00",
          "1966-02-01T00:00:00",
          "1966-03-01T00:00:00",
          "1966-04-01T00:00:00",
          "1966-05-01T00:00:00",
          "1966-06-01T00:00:00",
          "1966-07-01T00:00:00",
          "1966-08-01T00:00:00",
          "1966-09-01T00:00:00",
          "1966-10-01T00:00:00",
          "1966-11-01T00:00:00",
          "1966-12-01T00:00:00",
          "1967-01-01T00:00:00",
          "1967-02-01T00:00:00",
          "1967-03-01T00:00:00",
          "1967-04-01T00:00:00",
          "1967-05-01T00:00:00",
          "1967-06-01T00:00:00",
          "1967-07-01T00:00:00",
          "1967-08-01T00:00:00",
          "1967-09-01T00:00:00",
          "1967-10-01T00:00:00",
          "1967-11-01T00:00:00",
          "1967-12-01T00:00:00",
          "1968-01-01T00:00:00",
          "1968-02-01T00:00:00",
          "1968-03-01T00:00:00",
          "1968-04-01T00:00:00",
          "1968-05-01T00:00:00",
          "1968-06-01T00:00:00",
          "1968-07-01T00:00:00",
          "1968-08-01T00:00:00",
          "1968-09-01T00:00:00",
          "1968-10-01T00:00:00",
          "1968-11-01T00:00:00",
          "1968-12-01T00:00:00"
         ],
         "y": [
          6550,
          8728,
          12026,
          14395,
          14587,
          13791,
          9498,
          8251,
          7049,
          9545,
          9364,
          8456,
          7237,
          9374,
          11837,
          13784,
          15926,
          13821,
          11143,
          7975,
          7610,
          10015,
          12759,
          8816,
          10677,
          10947,
          15200,
          17010,
          20900,
          16205,
          12143,
          8997,
          5568,
          11474,
          12256,
          10583,
          10862,
          10965,
          14405,
          20379,
          20128,
          17816,
          12268,
          8642,
          7962,
          13932,
          15936,
          12628,
          12267,
          12470,
          18944,
          21259,
          22015,
          18581,
          15175,
          10306,
          10792,
          14752,
          13754,
          11738,
          12181,
          12965,
          19990,
          23125,
          23541,
          21247,
          15189,
          14767,
          10895,
          17130,
          17697,
          16611,
          12674,
          12760,
          20249,
          22135,
          20677,
          19933,
          15388,
          15113,
          13401,
          16135,
          17562,
          14720,
          12225,
          11608,
          20985,
          19692,
          24081,
          22114,
          14220,
          13434,
          13598,
          17187,
          16119,
          13713,
          13210,
          14251,
          20139,
          21725,
          26099,
          21084,
          18024,
          16722,
          14385,
          21342,
          17180,
          14577
         ]
        },
        {
         "name": "Train prediction",
         "type": "scatter",
         "x": [
          "1960-01-01T00:00:00",
          "1960-02-01T00:00:00",
          "1960-03-01T00:00:00",
          "1960-04-01T00:00:00",
          "1960-05-01T00:00:00",
          "1960-06-01T00:00:00",
          "1960-07-01T00:00:00",
          "1960-08-01T00:00:00",
          "1960-09-01T00:00:00",
          "1960-10-01T00:00:00",
          "1960-11-01T00:00:00",
          "1960-12-01T00:00:00",
          "1961-01-01T00:00:00",
          "1961-02-01T00:00:00",
          "1961-03-01T00:00:00",
          "1961-04-01T00:00:00",
          "1961-05-01T00:00:00",
          "1961-06-01T00:00:00",
          "1961-07-01T00:00:00",
          "1961-08-01T00:00:00",
          "1961-09-01T00:00:00",
          "1961-10-01T00:00:00",
          "1961-11-01T00:00:00",
          "1961-12-01T00:00:00",
          "1962-01-01T00:00:00",
          "1962-02-01T00:00:00",
          "1962-03-01T00:00:00",
          "1962-04-01T00:00:00",
          "1962-05-01T00:00:00",
          "1962-06-01T00:00:00",
          "1962-07-01T00:00:00",
          "1962-08-01T00:00:00",
          "1962-09-01T00:00:00",
          "1962-10-01T00:00:00",
          "1962-11-01T00:00:00",
          "1962-12-01T00:00:00",
          "1963-01-01T00:00:00",
          "1963-02-01T00:00:00",
          "1963-03-01T00:00:00",
          "1963-04-01T00:00:00",
          "1963-05-01T00:00:00",
          "1963-06-01T00:00:00",
          "1963-07-01T00:00:00",
          "1963-08-01T00:00:00",
          "1963-09-01T00:00:00",
          "1963-10-01T00:00:00",
          "1963-11-01T00:00:00",
          "1963-12-01T00:00:00",
          "1964-01-01T00:00:00",
          "1964-02-01T00:00:00",
          "1964-03-01T00:00:00",
          "1964-04-01T00:00:00",
          "1964-05-01T00:00:00",
          "1964-06-01T00:00:00",
          "1964-07-01T00:00:00",
          "1964-08-01T00:00:00",
          "1964-09-01T00:00:00",
          "1964-10-01T00:00:00",
          "1964-11-01T00:00:00",
          "1964-12-01T00:00:00",
          "1965-01-01T00:00:00",
          "1965-02-01T00:00:00",
          "1965-03-01T00:00:00",
          "1965-04-01T00:00:00",
          "1965-05-01T00:00:00",
          "1965-06-01T00:00:00",
          "1965-07-01T00:00:00",
          "1965-08-01T00:00:00",
          "1965-09-01T00:00:00",
          "1965-10-01T00:00:00",
          "1965-11-01T00:00:00",
          "1965-12-01T00:00:00",
          "1966-01-01T00:00:00",
          "1966-02-01T00:00:00",
          "1966-03-01T00:00:00",
          "1966-04-01T00:00:00",
          "1966-05-01T00:00:00",
          "1966-06-01T00:00:00",
          "1966-07-01T00:00:00",
          "1966-08-01T00:00:00",
          "1966-09-01T00:00:00",
          "1966-10-01T00:00:00",
          "1966-11-01T00:00:00",
          "1966-12-01T00:00:00"
         ],
         "y": [
          6550,
          6550,
          8717.11,
          12009.45555,
          14383.07227775,
          14585.98036138875,
          13794.974901806943,
          9519.484874509035,
          8257.342424372546,
          7055.0417121218625,
          9532.55020856061,
          9364.842751042803,
          8460.544213755213,
          7243.117721068776,
          9363.345588605343,
          11824.631727943028,
          13774.203158639715,
          15915.241015793199,
          13831.471205078966,
          11156.442356025394,
          7990.907211780127,
          7611.904536058901,
          10002.984522680294,
          12745.219922613402,
          8835.646099613066,
          10667.793230498066,
          10945.60396615249,
          15178.728019830762,
          17000.843640099156,
          20880.504218200495,
          16228.377521091003,
          12163.426887605456,
          9012.832134438027,
          5585.22416067219,
          11444.55612080336,
          12251.942780604017,
          10591.34471390302,
          10860.646723569516,
          10964.478233617847,
          14387.79739116809,
          20349.04398695584,
          20129.10521993478,
          17827.565526099672,
          12295.797827630498,
          8660.268989138152,
          7965.491344945691,
          13902.167456724728,
          15925.830837283624,
          12644.489154186418,
          12268.887445770932,
          12468.994437228854,
          18911.624972186142,
          21247.26312486093,
          22011.161315624304,
          18598.150806578124,
          15192.115754032891,
          10330.430578770163,
          10789.69215289385,
          14732.18846076447,
          13758.890942303822,
          11748.104454711518,
          12178.835522273557,
          12961.069177611367,
          19954.855345888056,
          23109.14927672944,
          23538.840746383645,
          21258.459203731916,
          15219.34729601866,
          14769.261736480092,
          10914.371308682401,
          17098.92185654341,
          17694.009609282715,
          16616.415048046412,
          12693.712075240232,
          12759.668560376202,
          20211.553342801883,
          22125.38276671401,
          20684.24191383357,
          19936.75620956917,
          15410.743781047846,
          15114.488718905239,
          13409.567443594528,
          16121.372837217974,
          17554.79686418609
         ]
        },
        {
         "name": "Test forecast",
         "type": "scatter",
         "x": [
          "1967-01-01T00:00:00",
          "1967-02-01T00:00:00",
          "1967-03-01T00:00:00",
          "1967-04-01T00:00:00",
          "1967-05-01T00:00:00",
          "1967-06-01T00:00:00",
          "1967-07-01T00:00:00",
          "1967-08-01T00:00:00",
          "1967-09-01T00:00:00",
          "1967-10-01T00:00:00",
          "1967-11-01T00:00:00",
          "1967-12-01T00:00:00",
          "1968-01-01T00:00:00",
          "1968-02-01T00:00:00",
          "1968-03-01T00:00:00",
          "1968-04-01T00:00:00",
          "1968-05-01T00:00:00",
          "1968-06-01T00:00:00",
          "1968-07-01T00:00:00",
          "1968-08-01T00:00:00",
          "1968-09-01T00:00:00",
          "1968-10-01T00:00:00",
          "1968-11-01T00:00:00",
          "1968-12-01T00:00:00"
         ],
         "y": [
          14734.17398432093,
          12237.545869921605,
          11611.147729349606,
          20938.13073864675,
          19698.230653693234,
          24059.08615326847,
          22123.725430766342,
          14259.518627153831,
          13438.127593135769,
          13597.20063796568,
          17169.051003189827,
          16119.00001591444,
          13725.056251275078,
          13212.575281256377,
          14245.807876406283,
          20109.534039382033,
          21716.92267019691,
          26077.089613350985,
          21108.965448066752,
          18039.424827240335,
          16728.5871241362,
          14396.717935620682,
          21307.273589678105,
          17200.636367948387
         ]
        }
       ],
       "layout": {
        "template": {
         "data": {
          "bar": [
           {
            "error_x": {
             "color": "#2a3f5f"
            },
            "error_y": {
             "color": "#2a3f5f"
            },
            "marker": {
             "line": {
              "color": "#E5ECF6",
              "width": 0.5
             },
             "pattern": {
              "fillmode": "overlay",
              "size": 10,
              "solidity": 0.2
             }
            },
            "type": "bar"
           }
          ],
          "barpolar": [
           {
            "marker": {
             "line": {
              "color": "#E5ECF6",
              "width": 0.5
             },
             "pattern": {
              "fillmode": "overlay",
              "size": 10,
              "solidity": 0.2
             }
            },
            "type": "barpolar"
           }
          ],
          "carpet": [
           {
            "aaxis": {
             "endlinecolor": "#2a3f5f",
             "gridcolor": "white",
             "linecolor": "white",
             "minorgridcolor": "white",
             "startlinecolor": "#2a3f5f"
            },
            "baxis": {
             "endlinecolor": "#2a3f5f",
             "gridcolor": "white",
             "linecolor": "white",
             "minorgridcolor": "white",
             "startlinecolor": "#2a3f5f"
            },
            "type": "carpet"
           }
          ],
          "choropleth": [
           {
            "colorbar": {
             "outlinewidth": 0,
             "ticks": ""
            },
            "type": "choropleth"
           }
          ],
          "contour": [
           {
            "colorbar": {
             "outlinewidth": 0,
             "ticks": ""
            },
            "colorscale": [
             [
              0,
              "#0d0887"
             ],
             [
              0.1111111111111111,
              "#46039f"
             ],
             [
              0.2222222222222222,
              "#7201a8"
             ],
             [
              0.3333333333333333,
              "#9c179e"
             ],
             [
              0.4444444444444444,
              "#bd3786"
             ],
             [
              0.5555555555555556,
              "#d8576b"
             ],
             [
              0.6666666666666666,
              "#ed7953"
             ],
             [
              0.7777777777777778,
              "#fb9f3a"
             ],
             [
              0.8888888888888888,
              "#fdca26"
             ],
             [
              1,
              "#f0f921"
             ]
            ],
            "type": "contour"
           }
          ],
          "contourcarpet": [
           {
            "colorbar": {
             "outlinewidth": 0,
             "ticks": ""
            },
            "type": "contourcarpet"
           }
          ],
          "heatmap": [
           {
            "colorbar": {
             "outlinewidth": 0,
             "ticks": ""
            },
            "colorscale": [
             [
              0,
              "#0d0887"
             ],
             [
              0.1111111111111111,
              "#46039f"
             ],
             [
              0.2222222222222222,
              "#7201a8"
             ],
             [
              0.3333333333333333,
              "#9c179e"
             ],
             [
              0.4444444444444444,
              "#bd3786"
             ],
             [
              0.5555555555555556,
              "#d8576b"
             ],
             [
              0.6666666666666666,
              "#ed7953"
             ],
             [
              0.7777777777777778,
              "#fb9f3a"
             ],
             [
              0.8888888888888888,
              "#fdca26"
             ],
             [
              1,
              "#f0f921"
             ]
            ],
            "type": "heatmap"
           }
          ],
          "heatmapgl": [
           {
            "colorbar": {
             "outlinewidth": 0,
             "ticks": ""
            },
            "colorscale": [
             [
              0,
              "#0d0887"
             ],
             [
              0.1111111111111111,
              "#46039f"
             ],
             [
              0.2222222222222222,
              "#7201a8"
             ],
             [
              0.3333333333333333,
              "#9c179e"
             ],
             [
              0.4444444444444444,
              "#bd3786"
             ],
             [
              0.5555555555555556,
              "#d8576b"
             ],
             [
              0.6666666666666666,
              "#ed7953"
             ],
             [
              0.7777777777777778,
              "#fb9f3a"
             ],
             [
              0.8888888888888888,
              "#fdca26"
             ],
             [
              1,
              "#f0f921"
             ]
            ],
            "type": "heatmapgl"
           }
          ],
          "histogram": [
           {
            "marker": {
             "pattern": {
              "fillmode": "overlay",
              "size": 10,
              "solidity": 0.2
             }
            },
            "type": "histogram"
           }
          ],
          "histogram2d": [
           {
            "colorbar": {
             "outlinewidth": 0,
             "ticks": ""
            },
            "colorscale": [
             [
              0,
              "#0d0887"
             ],
             [
              0.1111111111111111,
              "#46039f"
             ],
             [
              0.2222222222222222,
              "#7201a8"
             ],
             [
              0.3333333333333333,
              "#9c179e"
             ],
             [
              0.4444444444444444,
              "#bd3786"
             ],
             [
              0.5555555555555556,
              "#d8576b"
             ],
             [
              0.6666666666666666,
              "#ed7953"
             ],
             [
              0.7777777777777778,
              "#fb9f3a"
             ],
             [
              0.8888888888888888,
              "#fdca26"
             ],
             [
              1,
              "#f0f921"
             ]
            ],
            "type": "histogram2d"
           }
          ],
          "histogram2dcontour": [
           {
            "colorbar": {
             "outlinewidth": 0,
             "ticks": ""
            },
            "colorscale": [
             [
              0,
              "#0d0887"
             ],
             [
              0.1111111111111111,
              "#46039f"
             ],
             [
              0.2222222222222222,
              "#7201a8"
             ],
             [
              0.3333333333333333,
              "#9c179e"
             ],
             [
              0.4444444444444444,
              "#bd3786"
             ],
             [
              0.5555555555555556,
              "#d8576b"
             ],
             [
              0.6666666666666666,
              "#ed7953"
             ],
             [
              0.7777777777777778,
              "#fb9f3a"
             ],
             [
              0.8888888888888888,
              "#fdca26"
             ],
             [
              1,
              "#f0f921"
             ]
            ],
            "type": "histogram2dcontour"
           }
          ],
          "mesh3d": [
           {
            "colorbar": {
             "outlinewidth": 0,
             "ticks": ""
            },
            "type": "mesh3d"
           }
          ],
          "parcoords": [
           {
            "line": {
             "colorbar": {
              "outlinewidth": 0,
              "ticks": ""
             }
            },
            "type": "parcoords"
           }
          ],
          "pie": [
           {
            "automargin": true,
            "type": "pie"
           }
          ],
          "scatter": [
           {
            "fillpattern": {
             "fillmode": "overlay",
             "size": 10,
             "solidity": 0.2
            },
            "type": "scatter"
           }
          ],
          "scatter3d": [
           {
            "line": {
             "colorbar": {
              "outlinewidth": 0,
              "ticks": ""
             }
            },
            "marker": {
             "colorbar": {
              "outlinewidth": 0,
              "ticks": ""
             }
            },
            "type": "scatter3d"
           }
          ],
          "scattercarpet": [
           {
            "marker": {
             "colorbar": {
              "outlinewidth": 0,
              "ticks": ""
             }
            },
            "type": "scattercarpet"
           }
          ],
          "scattergeo": [
           {
            "marker": {
             "colorbar": {
              "outlinewidth": 0,
              "ticks": ""
             }
            },
            "type": "scattergeo"
           }
          ],
          "scattergl": [
           {
            "marker": {
             "colorbar": {
              "outlinewidth": 0,
              "ticks": ""
             }
            },
            "type": "scattergl"
           }
          ],
          "scattermapbox": [
           {
            "marker": {
             "colorbar": {
              "outlinewidth": 0,
              "ticks": ""
             }
            },
            "type": "scattermapbox"
           }
          ],
          "scatterpolar": [
           {
            "marker": {
             "colorbar": {
              "outlinewidth": 0,
              "ticks": ""
             }
            },
            "type": "scatterpolar"
           }
          ],
          "scatterpolargl": [
           {
            "marker": {
             "colorbar": {
              "outlinewidth": 0,
              "ticks": ""
             }
            },
            "type": "scatterpolargl"
           }
          ],
          "scatterternary": [
           {
            "marker": {
             "colorbar": {
              "outlinewidth": 0,
              "ticks": ""
             }
            },
            "type": "scatterternary"
           }
          ],
          "surface": [
           {
            "colorbar": {
             "outlinewidth": 0,
             "ticks": ""
            },
            "colorscale": [
             [
              0,
              "#0d0887"
             ],
             [
              0.1111111111111111,
              "#46039f"
             ],
             [
              0.2222222222222222,
              "#7201a8"
             ],
             [
              0.3333333333333333,
              "#9c179e"
             ],
             [
              0.4444444444444444,
              "#bd3786"
             ],
             [
              0.5555555555555556,
              "#d8576b"
             ],
             [
              0.6666666666666666,
              "#ed7953"
             ],
             [
              0.7777777777777778,
              "#fb9f3a"
             ],
             [
              0.8888888888888888,
              "#fdca26"
             ],
             [
              1,
              "#f0f921"
             ]
            ],
            "type": "surface"
           }
          ],
          "table": [
           {
            "cells": {
             "fill": {
              "color": "#EBF0F8"
             },
             "line": {
              "color": "white"
             }
            },
            "header": {
             "fill": {
              "color": "#C8D4E3"
             },
             "line": {
              "color": "white"
             }
            },
            "type": "table"
           }
          ]
         },
         "layout": {
          "annotationdefaults": {
           "arrowcolor": "#2a3f5f",
           "arrowhead": 0,
           "arrowwidth": 1
          },
          "autotypenumbers": "strict",
          "coloraxis": {
           "colorbar": {
            "outlinewidth": 0,
            "ticks": ""
           }
          },
          "colorscale": {
           "diverging": [
            [
             0,
             "#8e0152"
            ],
            [
             0.1,
             "#c51b7d"
            ],
            [
             0.2,
             "#de77ae"
            ],
            [
             0.3,
             "#f1b6da"
            ],
            [
             0.4,
             "#fde0ef"
            ],
            [
             0.5,
             "#f7f7f7"
            ],
            [
             0.6,
             "#e6f5d0"
            ],
            [
             0.7,
             "#b8e186"
            ],
            [
             0.8,
             "#7fbc41"
            ],
            [
             0.9,
             "#4d9221"
            ],
            [
             1,
             "#276419"
            ]
           ],
           "sequential": [
            [
             0,
             "#0d0887"
            ],
            [
             0.1111111111111111,
             "#46039f"
            ],
            [
             0.2222222222222222,
             "#7201a8"
            ],
            [
             0.3333333333333333,
             "#9c179e"
            ],
            [
             0.4444444444444444,
             "#bd3786"
            ],
            [
             0.5555555555555556,
             "#d8576b"
            ],
            [
             0.6666666666666666,
             "#ed7953"
            ],
            [
             0.7777777777777778,
             "#fb9f3a"
            ],
            [
             0.8888888888888888,
             "#fdca26"
            ],
            [
             1,
             "#f0f921"
            ]
           ],
           "sequentialminus": [
            [
             0,
             "#0d0887"
            ],
            [
             0.1111111111111111,
             "#46039f"
            ],
            [
             0.2222222222222222,
             "#7201a8"
            ],
            [
             0.3333333333333333,
             "#9c179e"
            ],
            [
             0.4444444444444444,
             "#bd3786"
            ],
            [
             0.5555555555555556,
             "#d8576b"
            ],
            [
             0.6666666666666666,
             "#ed7953"
            ],
            [
             0.7777777777777778,
             "#fb9f3a"
            ],
            [
             0.8888888888888888,
             "#fdca26"
            ],
            [
             1,
             "#f0f921"
            ]
           ]
          },
          "colorway": [
           "#636efa",
           "#EF553B",
           "#00cc96",
           "#ab63fa",
           "#FFA15A",
           "#19d3f3",
           "#FF6692",
           "#B6E880",
           "#FF97FF",
           "#FECB52"
          ],
          "font": {
           "color": "#2a3f5f"
          },
          "geo": {
           "bgcolor": "white",
           "lakecolor": "white",
           "landcolor": "#E5ECF6",
           "showlakes": true,
           "showland": true,
           "subunitcolor": "white"
          },
          "hoverlabel": {
           "align": "left"
          },
          "hovermode": "closest",
          "mapbox": {
           "style": "light"
          },
          "paper_bgcolor": "white",
          "plot_bgcolor": "#E5ECF6",
          "polar": {
           "angularaxis": {
            "gridcolor": "white",
            "linecolor": "white",
            "ticks": ""
           },
           "bgcolor": "#E5ECF6",
           "radialaxis": {
            "gridcolor": "white",
            "linecolor": "white",
            "ticks": ""
           }
          },
          "scene": {
           "xaxis": {
            "backgroundcolor": "#E5ECF6",
            "gridcolor": "white",
            "gridwidth": 2,
            "linecolor": "white",
            "showbackground": true,
            "ticks": "",
            "zerolinecolor": "white"
           },
           "yaxis": {
            "backgroundcolor": "#E5ECF6",
            "gridcolor": "white",
            "gridwidth": 2,
            "linecolor": "white",
            "showbackground": true,
            "ticks": "",
            "zerolinecolor": "white"
           },
           "zaxis": {
            "backgroundcolor": "#E5ECF6",
            "gridcolor": "white",
            "gridwidth": 2,
            "linecolor": "white",
            "showbackground": true,
            "ticks": "",
            "zerolinecolor": "white"
           }
          },
          "shapedefaults": {
           "line": {
            "color": "#2a3f5f"
           }
          },
          "ternary": {
           "aaxis": {
            "gridcolor": "white",
            "linecolor": "white",
            "ticks": ""
           },
           "baxis": {
            "gridcolor": "white",
            "linecolor": "white",
            "ticks": ""
           },
           "bgcolor": "#E5ECF6",
           "caxis": {
            "gridcolor": "white",
            "linecolor": "white",
            "ticks": ""
           }
          },
          "title": {
           "x": 0.05
          },
          "xaxis": {
           "automargin": true,
           "gridcolor": "white",
           "linecolor": "white",
           "ticks": "",
           "title": {
            "standoff": 15
           },
           "zerolinecolor": "white",
           "zerolinewidth": 2
          },
          "yaxis": {
           "automargin": true,
           "gridcolor": "white",
           "linecolor": "white",
           "ticks": "",
           "title": {
            "standoff": 15
           },
           "zerolinecolor": "white",
           "zerolinewidth": 2
          }
         }
        }
       }
      },
      "text/html": [
       "<div>                            <div id=\"8f2c7843-a2f7-4cf5-8f26-40e403058c58\" class=\"plotly-graph-div\" style=\"height:525px; width:100%;\"></div>            <script type=\"text/javascript\">                require([\"plotly\"], function(Plotly) {                    window.PLOTLYENV=window.PLOTLYENV || {};                                    if (document.getElementById(\"8f2c7843-a2f7-4cf5-8f26-40e403058c58\")) {                    Plotly.newPlot(                        \"8f2c7843-a2f7-4cf5-8f26-40e403058c58\",                        [{\"name\":\"Original data\",\"x\":[\"1960-01-01T00:00:00\",\"1960-02-01T00:00:00\",\"1960-03-01T00:00:00\",\"1960-04-01T00:00:00\",\"1960-05-01T00:00:00\",\"1960-06-01T00:00:00\",\"1960-07-01T00:00:00\",\"1960-08-01T00:00:00\",\"1960-09-01T00:00:00\",\"1960-10-01T00:00:00\",\"1960-11-01T00:00:00\",\"1960-12-01T00:00:00\",\"1961-01-01T00:00:00\",\"1961-02-01T00:00:00\",\"1961-03-01T00:00:00\",\"1961-04-01T00:00:00\",\"1961-05-01T00:00:00\",\"1961-06-01T00:00:00\",\"1961-07-01T00:00:00\",\"1961-08-01T00:00:00\",\"1961-09-01T00:00:00\",\"1961-10-01T00:00:00\",\"1961-11-01T00:00:00\",\"1961-12-01T00:00:00\",\"1962-01-01T00:00:00\",\"1962-02-01T00:00:00\",\"1962-03-01T00:00:00\",\"1962-04-01T00:00:00\",\"1962-05-01T00:00:00\",\"1962-06-01T00:00:00\",\"1962-07-01T00:00:00\",\"1962-08-01T00:00:00\",\"1962-09-01T00:00:00\",\"1962-10-01T00:00:00\",\"1962-11-01T00:00:00\",\"1962-12-01T00:00:00\",\"1963-01-01T00:00:00\",\"1963-02-01T00:00:00\",\"1963-03-01T00:00:00\",\"1963-04-01T00:00:00\",\"1963-05-01T00:00:00\",\"1963-06-01T00:00:00\",\"1963-07-01T00:00:00\",\"1963-08-01T00:00:00\",\"1963-09-01T00:00:00\",\"1963-10-01T00:00:00\",\"1963-11-01T00:00:00\",\"1963-12-01T00:00:00\",\"1964-01-01T00:00:00\",\"1964-02-01T00:00:00\",\"1964-03-01T00:00:00\",\"1964-04-01T00:00:00\",\"1964-05-01T00:00:00\",\"1964-06-01T00:00:00\",\"1964-07-01T00:00:00\",\"1964-08-01T00:00:00\",\"1964-09-01T00:00:00\",\"1964-10-01T00:00:00\",\"1964-11-01T00:00:00\",\"1964-12-01T00:00:00\",\"1965-01-01T00:00:00\",\"1965-02-01T00:00:00\",\"1965-03-01T00:00:00\",\"1965-04-01T00:00:00\",\"1965-05-01T00:00:00\",\"1965-06-01T00:00:00\",\"1965-07-01T00:00:00\",\"1965-08-01T00:00:00\",\"1965-09-01T00:00:00\",\"1965-10-01T00:00:00\",\"1965-11-01T00:00:00\",\"1965-12-01T00:00:00\",\"1966-01-01T00:00:00\",\"1966-02-01T00:00:00\",\"1966-03-01T00:00:00\",\"1966-04-01T00:00:00\",\"1966-05-01T00:00:00\",\"1966-06-01T00:00:00\",\"1966-07-01T00:00:00\",\"1966-08-01T00:00:00\",\"1966-09-01T00:00:00\",\"1966-10-01T00:00:00\",\"1966-11-01T00:00:00\",\"1966-12-01T00:00:00\",\"1967-01-01T00:00:00\",\"1967-02-01T00:00:00\",\"1967-03-01T00:00:00\",\"1967-04-01T00:00:00\",\"1967-05-01T00:00:00\",\"1967-06-01T00:00:00\",\"1967-07-01T00:00:00\",\"1967-08-01T00:00:00\",\"1967-09-01T00:00:00\",\"1967-10-01T00:00:00\",\"1967-11-01T00:00:00\",\"1967-12-01T00:00:00\",\"1968-01-01T00:00:00\",\"1968-02-01T00:00:00\",\"1968-03-01T00:00:00\",\"1968-04-01T00:00:00\",\"1968-05-01T00:00:00\",\"1968-06-01T00:00:00\",\"1968-07-01T00:00:00\",\"1968-08-01T00:00:00\",\"1968-09-01T00:00:00\",\"1968-10-01T00:00:00\",\"1968-11-01T00:00:00\",\"1968-12-01T00:00:00\"],\"y\":[6550,8728,12026,14395,14587,13791,9498,8251,7049,9545,9364,8456,7237,9374,11837,13784,15926,13821,11143,7975,7610,10015,12759,8816,10677,10947,15200,17010,20900,16205,12143,8997,5568,11474,12256,10583,10862,10965,14405,20379,20128,17816,12268,8642,7962,13932,15936,12628,12267,12470,18944,21259,22015,18581,15175,10306,10792,14752,13754,11738,12181,12965,19990,23125,23541,21247,15189,14767,10895,17130,17697,16611,12674,12760,20249,22135,20677,19933,15388,15113,13401,16135,17562,14720,12225,11608,20985,19692,24081,22114,14220,13434,13598,17187,16119,13713,13210,14251,20139,21725,26099,21084,18024,16722,14385,21342,17180,14577],\"type\":\"scatter\"},{\"name\":\"Train prediction\",\"x\":[\"1960-01-01T00:00:00\",\"1960-02-01T00:00:00\",\"1960-03-01T00:00:00\",\"1960-04-01T00:00:00\",\"1960-05-01T00:00:00\",\"1960-06-01T00:00:00\",\"1960-07-01T00:00:00\",\"1960-08-01T00:00:00\",\"1960-09-01T00:00:00\",\"1960-10-01T00:00:00\",\"1960-11-01T00:00:00\",\"1960-12-01T00:00:00\",\"1961-01-01T00:00:00\",\"1961-02-01T00:00:00\",\"1961-03-01T00:00:00\",\"1961-04-01T00:00:00\",\"1961-05-01T00:00:00\",\"1961-06-01T00:00:00\",\"1961-07-01T00:00:00\",\"1961-08-01T00:00:00\",\"1961-09-01T00:00:00\",\"1961-10-01T00:00:00\",\"1961-11-01T00:00:00\",\"1961-12-01T00:00:00\",\"1962-01-01T00:00:00\",\"1962-02-01T00:00:00\",\"1962-03-01T00:00:00\",\"1962-04-01T00:00:00\",\"1962-05-01T00:00:00\",\"1962-06-01T00:00:00\",\"1962-07-01T00:00:00\",\"1962-08-01T00:00:00\",\"1962-09-01T00:00:00\",\"1962-10-01T00:00:00\",\"1962-11-01T00:00:00\",\"1962-12-01T00:00:00\",\"1963-01-01T00:00:00\",\"1963-02-01T00:00:00\",\"1963-03-01T00:00:00\",\"1963-04-01T00:00:00\",\"1963-05-01T00:00:00\",\"1963-06-01T00:00:00\",\"1963-07-01T00:00:00\",\"1963-08-01T00:00:00\",\"1963-09-01T00:00:00\",\"1963-10-01T00:00:00\",\"1963-11-01T00:00:00\",\"1963-12-01T00:00:00\",\"1964-01-01T00:00:00\",\"1964-02-01T00:00:00\",\"1964-03-01T00:00:00\",\"1964-04-01T00:00:00\",\"1964-05-01T00:00:00\",\"1964-06-01T00:00:00\",\"1964-07-01T00:00:00\",\"1964-08-01T00:00:00\",\"1964-09-01T00:00:00\",\"1964-10-01T00:00:00\",\"1964-11-01T00:00:00\",\"1964-12-01T00:00:00\",\"1965-01-01T00:00:00\",\"1965-02-01T00:00:00\",\"1965-03-01T00:00:00\",\"1965-04-01T00:00:00\",\"1965-05-01T00:00:00\",\"1965-06-01T00:00:00\",\"1965-07-01T00:00:00\",\"1965-08-01T00:00:00\",\"1965-09-01T00:00:00\",\"1965-10-01T00:00:00\",\"1965-11-01T00:00:00\",\"1965-12-01T00:00:00\",\"1966-01-01T00:00:00\",\"1966-02-01T00:00:00\",\"1966-03-01T00:00:00\",\"1966-04-01T00:00:00\",\"1966-05-01T00:00:00\",\"1966-06-01T00:00:00\",\"1966-07-01T00:00:00\",\"1966-08-01T00:00:00\",\"1966-09-01T00:00:00\",\"1966-10-01T00:00:00\",\"1966-11-01T00:00:00\",\"1966-12-01T00:00:00\"],\"y\":[6550.0,6550.0,8717.11,12009.45555,14383.07227775,14585.98036138875,13794.974901806943,9519.484874509035,8257.342424372546,7055.0417121218625,9532.55020856061,9364.842751042803,8460.544213755213,7243.117721068776,9363.345588605343,11824.631727943028,13774.203158639715,15915.241015793199,13831.471205078966,11156.442356025394,7990.907211780127,7611.904536058901,10002.984522680294,12745.219922613402,8835.646099613066,10667.793230498066,10945.60396615249,15178.728019830762,17000.843640099156,20880.504218200495,16228.377521091003,12163.426887605456,9012.832134438027,5585.22416067219,11444.55612080336,12251.942780604017,10591.34471390302,10860.646723569516,10964.478233617847,14387.79739116809,20349.04398695584,20129.10521993478,17827.565526099672,12295.797827630498,8660.268989138152,7965.491344945691,13902.167456724728,15925.830837283624,12644.489154186418,12268.887445770932,12468.994437228854,18911.624972186142,21247.26312486093,22011.161315624304,18598.150806578124,15192.115754032891,10330.430578770163,10789.69215289385,14732.18846076447,13758.890942303822,11748.104454711518,12178.835522273557,12961.069177611367,19954.855345888056,23109.14927672944,23538.840746383645,21258.459203731916,15219.34729601866,14769.261736480092,10914.371308682401,17098.92185654341,17694.009609282715,16616.415048046412,12693.712075240232,12759.668560376202,20211.553342801883,22125.38276671401,20684.24191383357,19936.75620956917,15410.743781047846,15114.488718905239,13409.567443594528,16121.372837217974,17554.79686418609],\"type\":\"scatter\"},{\"name\":\"Test forecast\",\"x\":[\"1967-01-01T00:00:00\",\"1967-02-01T00:00:00\",\"1967-03-01T00:00:00\",\"1967-04-01T00:00:00\",\"1967-05-01T00:00:00\",\"1967-06-01T00:00:00\",\"1967-07-01T00:00:00\",\"1967-08-01T00:00:00\",\"1967-09-01T00:00:00\",\"1967-10-01T00:00:00\",\"1967-11-01T00:00:00\",\"1967-12-01T00:00:00\",\"1968-01-01T00:00:00\",\"1968-02-01T00:00:00\",\"1968-03-01T00:00:00\",\"1968-04-01T00:00:00\",\"1968-05-01T00:00:00\",\"1968-06-01T00:00:00\",\"1968-07-01T00:00:00\",\"1968-08-01T00:00:00\",\"1968-09-01T00:00:00\",\"1968-10-01T00:00:00\",\"1968-11-01T00:00:00\",\"1968-12-01T00:00:00\"],\"y\":[14734.17398432093,12237.545869921605,11611.147729349606,20938.13073864675,19698.230653693234,24059.08615326847,22123.725430766342,14259.518627153831,13438.127593135769,13597.20063796568,17169.051003189827,16119.00001591444,13725.056251275078,13212.575281256377,14245.807876406283,20109.534039382033,21716.92267019691,26077.089613350985,21108.965448066752,18039.424827240335,16728.5871241362,14396.717935620682,21307.273589678105,17200.636367948387],\"type\":\"scatter\"}],                        {\"template\":{\"data\":{\"barpolar\":[{\"marker\":{\"line\":{\"color\":\"#E5ECF6\",\"width\":0.5},\"pattern\":{\"fillmode\":\"overlay\",\"size\":10,\"solidity\":0.2}},\"type\":\"barpolar\"}],\"bar\":[{\"error_x\":{\"color\":\"#2a3f5f\"},\"error_y\":{\"color\":\"#2a3f5f\"},\"marker\":{\"line\":{\"color\":\"#E5ECF6\",\"width\":0.5},\"pattern\":{\"fillmode\":\"overlay\",\"size\":10,\"solidity\":0.2}},\"type\":\"bar\"}],\"carpet\":[{\"aaxis\":{\"endlinecolor\":\"#2a3f5f\",\"gridcolor\":\"white\",\"linecolor\":\"white\",\"minorgridcolor\":\"white\",\"startlinecolor\":\"#2a3f5f\"},\"baxis\":{\"endlinecolor\":\"#2a3f5f\",\"gridcolor\":\"white\",\"linecolor\":\"white\",\"minorgridcolor\":\"white\",\"startlinecolor\":\"#2a3f5f\"},\"type\":\"carpet\"}],\"choropleth\":[{\"colorbar\":{\"outlinewidth\":0,\"ticks\":\"\"},\"type\":\"choropleth\"}],\"contourcarpet\":[{\"colorbar\":{\"outlinewidth\":0,\"ticks\":\"\"},\"type\":\"contourcarpet\"}],\"contour\":[{\"colorbar\":{\"outlinewidth\":0,\"ticks\":\"\"},\"colorscale\":[[0.0,\"#0d0887\"],[0.1111111111111111,\"#46039f\"],[0.2222222222222222,\"#7201a8\"],[0.3333333333333333,\"#9c179e\"],[0.4444444444444444,\"#bd3786\"],[0.5555555555555556,\"#d8576b\"],[0.6666666666666666,\"#ed7953\"],[0.7777777777777778,\"#fb9f3a\"],[0.8888888888888888,\"#fdca26\"],[1.0,\"#f0f921\"]],\"type\":\"contour\"}],\"heatmapgl\":[{\"colorbar\":{\"outlinewidth\":0,\"ticks\":\"\"},\"colorscale\":[[0.0,\"#0d0887\"],[0.1111111111111111,\"#46039f\"],[0.2222222222222222,\"#7201a8\"],[0.3333333333333333,\"#9c179e\"],[0.4444444444444444,\"#bd3786\"],[0.5555555555555556,\"#d8576b\"],[0.6666666666666666,\"#ed7953\"],[0.7777777777777778,\"#fb9f3a\"],[0.8888888888888888,\"#fdca26\"],[1.0,\"#f0f921\"]],\"type\":\"heatmapgl\"}],\"heatmap\":[{\"colorbar\":{\"outlinewidth\":0,\"ticks\":\"\"},\"colorscale\":[[0.0,\"#0d0887\"],[0.1111111111111111,\"#46039f\"],[0.2222222222222222,\"#7201a8\"],[0.3333333333333333,\"#9c179e\"],[0.4444444444444444,\"#bd3786\"],[0.5555555555555556,\"#d8576b\"],[0.6666666666666666,\"#ed7953\"],[0.7777777777777778,\"#fb9f3a\"],[0.8888888888888888,\"#fdca26\"],[1.0,\"#f0f921\"]],\"type\":\"heatmap\"}],\"histogram2dcontour\":[{\"colorbar\":{\"outlinewidth\":0,\"ticks\":\"\"},\"colorscale\":[[0.0,\"#0d0887\"],[0.1111111111111111,\"#46039f\"],[0.2222222222222222,\"#7201a8\"],[0.3333333333333333,\"#9c179e\"],[0.4444444444444444,\"#bd3786\"],[0.5555555555555556,\"#d8576b\"],[0.6666666666666666,\"#ed7953\"],[0.7777777777777778,\"#fb9f3a\"],[0.8888888888888888,\"#fdca26\"],[1.0,\"#f0f921\"]],\"type\":\"histogram2dcontour\"}],\"histogram2d\":[{\"colorbar\":{\"outlinewidth\":0,\"ticks\":\"\"},\"colorscale\":[[0.0,\"#0d0887\"],[0.1111111111111111,\"#46039f\"],[0.2222222222222222,\"#7201a8\"],[0.3333333333333333,\"#9c179e\"],[0.4444444444444444,\"#bd3786\"],[0.5555555555555556,\"#d8576b\"],[0.6666666666666666,\"#ed7953\"],[0.7777777777777778,\"#fb9f3a\"],[0.8888888888888888,\"#fdca26\"],[1.0,\"#f0f921\"]],\"type\":\"histogram2d\"}],\"histogram\":[{\"marker\":{\"pattern\":{\"fillmode\":\"overlay\",\"size\":10,\"solidity\":0.2}},\"type\":\"histogram\"}],\"mesh3d\":[{\"colorbar\":{\"outlinewidth\":0,\"ticks\":\"\"},\"type\":\"mesh3d\"}],\"parcoords\":[{\"line\":{\"colorbar\":{\"outlinewidth\":0,\"ticks\":\"\"}},\"type\":\"parcoords\"}],\"pie\":[{\"automargin\":true,\"type\":\"pie\"}],\"scatter3d\":[{\"line\":{\"colorbar\":{\"outlinewidth\":0,\"ticks\":\"\"}},\"marker\":{\"colorbar\":{\"outlinewidth\":0,\"ticks\":\"\"}},\"type\":\"scatter3d\"}],\"scattercarpet\":[{\"marker\":{\"colorbar\":{\"outlinewidth\":0,\"ticks\":\"\"}},\"type\":\"scattercarpet\"}],\"scattergeo\":[{\"marker\":{\"colorbar\":{\"outlinewidth\":0,\"ticks\":\"\"}},\"type\":\"scattergeo\"}],\"scattergl\":[{\"marker\":{\"colorbar\":{\"outlinewidth\":0,\"ticks\":\"\"}},\"type\":\"scattergl\"}],\"scattermapbox\":[{\"marker\":{\"colorbar\":{\"outlinewidth\":0,\"ticks\":\"\"}},\"type\":\"scattermapbox\"}],\"scatterpolargl\":[{\"marker\":{\"colorbar\":{\"outlinewidth\":0,\"ticks\":\"\"}},\"type\":\"scatterpolargl\"}],\"scatterpolar\":[{\"marker\":{\"colorbar\":{\"outlinewidth\":0,\"ticks\":\"\"}},\"type\":\"scatterpolar\"}],\"scatter\":[{\"fillpattern\":{\"fillmode\":\"overlay\",\"size\":10,\"solidity\":0.2},\"type\":\"scatter\"}],\"scatterternary\":[{\"marker\":{\"colorbar\":{\"outlinewidth\":0,\"ticks\":\"\"}},\"type\":\"scatterternary\"}],\"surface\":[{\"colorbar\":{\"outlinewidth\":0,\"ticks\":\"\"},\"colorscale\":[[0.0,\"#0d0887\"],[0.1111111111111111,\"#46039f\"],[0.2222222222222222,\"#7201a8\"],[0.3333333333333333,\"#9c179e\"],[0.4444444444444444,\"#bd3786\"],[0.5555555555555556,\"#d8576b\"],[0.6666666666666666,\"#ed7953\"],[0.7777777777777778,\"#fb9f3a\"],[0.8888888888888888,\"#fdca26\"],[1.0,\"#f0f921\"]],\"type\":\"surface\"}],\"table\":[{\"cells\":{\"fill\":{\"color\":\"#EBF0F8\"},\"line\":{\"color\":\"white\"}},\"header\":{\"fill\":{\"color\":\"#C8D4E3\"},\"line\":{\"color\":\"white\"}},\"type\":\"table\"}]},\"layout\":{\"annotationdefaults\":{\"arrowcolor\":\"#2a3f5f\",\"arrowhead\":0,\"arrowwidth\":1},\"autotypenumbers\":\"strict\",\"coloraxis\":{\"colorbar\":{\"outlinewidth\":0,\"ticks\":\"\"}},\"colorscale\":{\"diverging\":[[0,\"#8e0152\"],[0.1,\"#c51b7d\"],[0.2,\"#de77ae\"],[0.3,\"#f1b6da\"],[0.4,\"#fde0ef\"],[0.5,\"#f7f7f7\"],[0.6,\"#e6f5d0\"],[0.7,\"#b8e186\"],[0.8,\"#7fbc41\"],[0.9,\"#4d9221\"],[1,\"#276419\"]],\"sequential\":[[0.0,\"#0d0887\"],[0.1111111111111111,\"#46039f\"],[0.2222222222222222,\"#7201a8\"],[0.3333333333333333,\"#9c179e\"],[0.4444444444444444,\"#bd3786\"],[0.5555555555555556,\"#d8576b\"],[0.6666666666666666,\"#ed7953\"],[0.7777777777777778,\"#fb9f3a\"],[0.8888888888888888,\"#fdca26\"],[1.0,\"#f0f921\"]],\"sequentialminus\":[[0.0,\"#0d0887\"],[0.1111111111111111,\"#46039f\"],[0.2222222222222222,\"#7201a8\"],[0.3333333333333333,\"#9c179e\"],[0.4444444444444444,\"#bd3786\"],[0.5555555555555556,\"#d8576b\"],[0.6666666666666666,\"#ed7953\"],[0.7777777777777778,\"#fb9f3a\"],[0.8888888888888888,\"#fdca26\"],[1.0,\"#f0f921\"]]},\"colorway\":[\"#636efa\",\"#EF553B\",\"#00cc96\",\"#ab63fa\",\"#FFA15A\",\"#19d3f3\",\"#FF6692\",\"#B6E880\",\"#FF97FF\",\"#FECB52\"],\"font\":{\"color\":\"#2a3f5f\"},\"geo\":{\"bgcolor\":\"white\",\"lakecolor\":\"white\",\"landcolor\":\"#E5ECF6\",\"showlakes\":true,\"showland\":true,\"subunitcolor\":\"white\"},\"hoverlabel\":{\"align\":\"left\"},\"hovermode\":\"closest\",\"mapbox\":{\"style\":\"light\"},\"paper_bgcolor\":\"white\",\"plot_bgcolor\":\"#E5ECF6\",\"polar\":{\"angularaxis\":{\"gridcolor\":\"white\",\"linecolor\":\"white\",\"ticks\":\"\"},\"bgcolor\":\"#E5ECF6\",\"radialaxis\":{\"gridcolor\":\"white\",\"linecolor\":\"white\",\"ticks\":\"\"}},\"scene\":{\"xaxis\":{\"backgroundcolor\":\"#E5ECF6\",\"gridcolor\":\"white\",\"gridwidth\":2,\"linecolor\":\"white\",\"showbackground\":true,\"ticks\":\"\",\"zerolinecolor\":\"white\"},\"yaxis\":{\"backgroundcolor\":\"#E5ECF6\",\"gridcolor\":\"white\",\"gridwidth\":2,\"linecolor\":\"white\",\"showbackground\":true,\"ticks\":\"\",\"zerolinecolor\":\"white\"},\"zaxis\":{\"backgroundcolor\":\"#E5ECF6\",\"gridcolor\":\"white\",\"gridwidth\":2,\"linecolor\":\"white\",\"showbackground\":true,\"ticks\":\"\",\"zerolinecolor\":\"white\"}},\"shapedefaults\":{\"line\":{\"color\":\"#2a3f5f\"}},\"ternary\":{\"aaxis\":{\"gridcolor\":\"white\",\"linecolor\":\"white\",\"ticks\":\"\"},\"baxis\":{\"gridcolor\":\"white\",\"linecolor\":\"white\",\"ticks\":\"\"},\"bgcolor\":\"#E5ECF6\",\"caxis\":{\"gridcolor\":\"white\",\"linecolor\":\"white\",\"ticks\":\"\"}},\"title\":{\"x\":0.05},\"xaxis\":{\"automargin\":true,\"gridcolor\":\"white\",\"linecolor\":\"white\",\"ticks\":\"\",\"title\":{\"standoff\":15},\"zerolinecolor\":\"white\",\"zerolinewidth\":2},\"yaxis\":{\"automargin\":true,\"gridcolor\":\"white\",\"linecolor\":\"white\",\"ticks\":\"\",\"title\":{\"standoff\":15},\"zerolinecolor\":\"white\",\"zerolinewidth\":2}}}},                        {\"responsive\": true}                    ).then(function(){\n",
       "                            \n",
       "var gd = document.getElementById('8f2c7843-a2f7-4cf5-8f26-40e403058c58');\n",
       "var x = new MutationObserver(function (mutations, observer) {{\n",
       "        var display = window.getComputedStyle(gd).display;\n",
       "        if (!display || display === 'none') {{\n",
       "            console.log([gd, 'removed!']);\n",
       "            Plotly.purge(gd);\n",
       "            observer.disconnect();\n",
       "        }}\n",
       "}});\n",
       "\n",
       "// Listen for the removal of the full notebook cells\n",
       "var notebookContainer = gd.closest('#notebook-container');\n",
       "if (notebookContainer) {{\n",
       "    x.observe(notebookContainer, {childList: true});\n",
       "}}\n",
       "\n",
       "// Listen for the clearing of the current output cell\n",
       "var outputEl = gd.closest('.output');\n",
       "if (outputEl) {{\n",
       "    x.observe(outputEl, {childList: true});\n",
       "}}\n",
       "\n",
       "                        })                };                });            </script>        </div>"
      ]
     },
     "metadata": {},
     "output_type": "display_data"
    }
   ],
   "source": [
    "orig_trace = Scatter(x = train_s.index, y = train_s, name = 'Original data')\n",
    "train_trace = Scatter(x = pred_s[:-test_size].index, y = pred_s[:-test_size], name = 'Train prediction')\n",
    "pred_trace = Scatter(x=pred_s[-test_size:].index, y = pred_s[-test_size:], name = 'Test forecast')\n",
    "iplot(Figure(data=[orig_trace, train_trace, pred_trace]))"
   ]
  },
  {
   "cell_type": "markdown",
   "id": "88d1e680",
   "metadata": {},
   "source": [
    "Задание №3\n",
    "===\n",
    "* Построить модели двойного и тройного экспоненциального сглаживания\n",
    "* Так же, как и в предыдущем задании, посчитать метрики для train и test\n",
    "* Построить график"
   ]
  },
  {
   "cell_type": "markdown",
   "id": "98082e79",
   "metadata": {},
   "source": [
    "### Double exp smoothing"
   ]
  },
  {
   "cell_type": "code",
   "execution_count": 11,
   "id": "f6602ab5",
   "metadata": {},
   "outputs": [
    {
     "name": "stderr",
     "output_type": "stream",
     "text": [
      "/Users/rom25/miniforge3/envs/myenv/lib/python3.8/site-packages/statsmodels/tsa/holtwinters/model.py:915: ConvergenceWarning:\n",
      "\n",
      "Optimization failed to converge. Check mle_retvals.\n",
      "\n",
      "/Users/rom25/miniforge3/envs/myenv/lib/python3.8/site-packages/statsmodels/tsa/holtwinters/model.py:915: ConvergenceWarning:\n",
      "\n",
      "Optimization failed to converge. Check mle_retvals.\n",
      "\n"
     ]
    }
   ],
   "source": [
    "# your code\n",
    "train_s = train['Sales']\n",
    "test_s = test['Sales']\n",
    "\n",
    "mod_add=ExponentialSmoothing(train_s, trend='add',damped_trend=0.4).fit()#.fittedvalues\n",
    "mod_mul=ExponentialSmoothing(train_s, trend='mul', damped_trend = 0.4).fit()#.fittedvalues\n",
    "\n",
    "add_train = mod_add.fittedvalues\n",
    "mul_train = mod_mul.fittedvalues\n",
    "\n",
    "add_test = mod_add.forecast(test_size)\n",
    "mul_test = mod_mul.forecast(test_size)\n"
   ]
  },
  {
   "cell_type": "code",
   "execution_count": 12,
   "id": "695a9b31",
   "metadata": {},
   "outputs": [],
   "source": [
    "orig_data = df['Sales']\n",
    "mul_pred = pd.concat([mul_train, mul_test], ignore_index = True)\n",
    "add_pred = pd.concat([add_train, add_test], ignore_index = True)"
   ]
  },
  {
   "cell_type": "code",
   "execution_count": 13,
   "id": "dea71434",
   "metadata": {},
   "outputs": [
    {
     "name": "stdout",
     "output_type": "stream",
     "text": [
      "Multiplicative model : \n",
      "       >>> Train <<<\n",
      "MAE = 2510.07, R2 = 0.48\n",
      "\n",
      "       >>> Test <<<\n",
      "MAE = 3679.4, R2 = -0.45\n",
      "\n"
     ]
    }
   ],
   "source": [
    "print('Multiplicative model : ')\n",
    "print_errors(orig_data, mul_pred, test_size)"
   ]
  },
  {
   "cell_type": "code",
   "execution_count": 14,
   "id": "ebd07c48",
   "metadata": {},
   "outputs": [
    {
     "name": "stdout",
     "output_type": "stream",
     "text": [
      "Additive model : \n",
      "       >>> Train <<<\n",
      "MAE = 2517.77, R2 = 0.47\n",
      "\n",
      "       >>> Test <<<\n",
      "MAE = 3961.82, R2 = -0.69\n",
      "\n"
     ]
    }
   ],
   "source": [
    "print('Additive model : ')\n",
    "print_errors(orig_data, add_pred, test_size)"
   ]
  },
  {
   "cell_type": "code",
   "execution_count": 15,
   "id": "f9e2ee9b",
   "metadata": {},
   "outputs": [
    {
     "data": {
      "application/vnd.plotly.v1+json": {
       "config": {
        "linkText": "Export to plot.ly",
        "plotlyServerURL": "https://plot.ly",
        "showLink": false
       },
       "data": [
        {
         "name": "Original data",
         "type": "scatter",
         "x": [
          "1960-01-01T00:00:00",
          "1960-02-01T00:00:00",
          "1960-03-01T00:00:00",
          "1960-04-01T00:00:00",
          "1960-05-01T00:00:00",
          "1960-06-01T00:00:00",
          "1960-07-01T00:00:00",
          "1960-08-01T00:00:00",
          "1960-09-01T00:00:00",
          "1960-10-01T00:00:00",
          "1960-11-01T00:00:00",
          "1960-12-01T00:00:00",
          "1961-01-01T00:00:00",
          "1961-02-01T00:00:00",
          "1961-03-01T00:00:00",
          "1961-04-01T00:00:00",
          "1961-05-01T00:00:00",
          "1961-06-01T00:00:00",
          "1961-07-01T00:00:00",
          "1961-08-01T00:00:00",
          "1961-09-01T00:00:00",
          "1961-10-01T00:00:00",
          "1961-11-01T00:00:00",
          "1961-12-01T00:00:00",
          "1962-01-01T00:00:00",
          "1962-02-01T00:00:00",
          "1962-03-01T00:00:00",
          "1962-04-01T00:00:00",
          "1962-05-01T00:00:00",
          "1962-06-01T00:00:00",
          "1962-07-01T00:00:00",
          "1962-08-01T00:00:00",
          "1962-09-01T00:00:00",
          "1962-10-01T00:00:00",
          "1962-11-01T00:00:00",
          "1962-12-01T00:00:00",
          "1963-01-01T00:00:00",
          "1963-02-01T00:00:00",
          "1963-03-01T00:00:00",
          "1963-04-01T00:00:00",
          "1963-05-01T00:00:00",
          "1963-06-01T00:00:00",
          "1963-07-01T00:00:00",
          "1963-08-01T00:00:00",
          "1963-09-01T00:00:00",
          "1963-10-01T00:00:00",
          "1963-11-01T00:00:00",
          "1963-12-01T00:00:00",
          "1964-01-01T00:00:00",
          "1964-02-01T00:00:00",
          "1964-03-01T00:00:00",
          "1964-04-01T00:00:00",
          "1964-05-01T00:00:00",
          "1964-06-01T00:00:00",
          "1964-07-01T00:00:00",
          "1964-08-01T00:00:00",
          "1964-09-01T00:00:00",
          "1964-10-01T00:00:00",
          "1964-11-01T00:00:00",
          "1964-12-01T00:00:00",
          "1965-01-01T00:00:00",
          "1965-02-01T00:00:00",
          "1965-03-01T00:00:00",
          "1965-04-01T00:00:00",
          "1965-05-01T00:00:00",
          "1965-06-01T00:00:00",
          "1965-07-01T00:00:00",
          "1965-08-01T00:00:00",
          "1965-09-01T00:00:00",
          "1965-10-01T00:00:00",
          "1965-11-01T00:00:00",
          "1965-12-01T00:00:00",
          "1966-01-01T00:00:00",
          "1966-02-01T00:00:00",
          "1966-03-01T00:00:00",
          "1966-04-01T00:00:00",
          "1966-05-01T00:00:00",
          "1966-06-01T00:00:00",
          "1966-07-01T00:00:00",
          "1966-08-01T00:00:00",
          "1966-09-01T00:00:00",
          "1966-10-01T00:00:00",
          "1966-11-01T00:00:00",
          "1966-12-01T00:00:00",
          "1967-01-01T00:00:00",
          "1967-02-01T00:00:00",
          "1967-03-01T00:00:00",
          "1967-04-01T00:00:00",
          "1967-05-01T00:00:00",
          "1967-06-01T00:00:00",
          "1967-07-01T00:00:00",
          "1967-08-01T00:00:00",
          "1967-09-01T00:00:00",
          "1967-10-01T00:00:00",
          "1967-11-01T00:00:00",
          "1967-12-01T00:00:00",
          "1968-01-01T00:00:00",
          "1968-02-01T00:00:00",
          "1968-03-01T00:00:00",
          "1968-04-01T00:00:00",
          "1968-05-01T00:00:00",
          "1968-06-01T00:00:00",
          "1968-07-01T00:00:00",
          "1968-08-01T00:00:00",
          "1968-09-01T00:00:00",
          "1968-10-01T00:00:00",
          "1968-11-01T00:00:00",
          "1968-12-01T00:00:00"
         ],
         "y": [
          6550,
          8728,
          12026,
          14395,
          14587,
          13791,
          9498,
          8251,
          7049,
          9545,
          9364,
          8456,
          7237,
          9374,
          11837,
          13784,
          15926,
          13821,
          11143,
          7975,
          7610,
          10015,
          12759,
          8816,
          10677,
          10947,
          15200,
          17010,
          20900,
          16205,
          12143,
          8997,
          5568,
          11474,
          12256,
          10583,
          10862,
          10965,
          14405,
          20379,
          20128,
          17816,
          12268,
          8642,
          7962,
          13932,
          15936,
          12628,
          12267,
          12470,
          18944,
          21259,
          22015,
          18581,
          15175,
          10306,
          10792,
          14752,
          13754,
          11738,
          12181,
          12965,
          19990,
          23125,
          23541,
          21247,
          15189,
          14767,
          10895,
          17130,
          17697,
          16611,
          12674,
          12760,
          20249,
          22135,
          20677,
          19933,
          15388,
          15113,
          13401,
          16135,
          17562,
          14720,
          12225,
          11608,
          20985,
          19692,
          24081,
          22114,
          14220,
          13434,
          13598,
          17187,
          16119,
          13713,
          13210,
          14251,
          20139,
          21725,
          26099,
          21084,
          18024,
          16722,
          14385,
          21342,
          17180,
          14577
         ]
        },
        {
         "name": "Train prediction",
         "type": "scatter",
         "x": [
          "1960-01-01T00:00:00",
          "1960-02-01T00:00:00",
          "1960-03-01T00:00:00",
          "1960-04-01T00:00:00",
          "1960-05-01T00:00:00",
          "1960-06-01T00:00:00",
          "1960-07-01T00:00:00",
          "1960-08-01T00:00:00",
          "1960-09-01T00:00:00",
          "1960-10-01T00:00:00",
          "1960-11-01T00:00:00",
          "1960-12-01T00:00:00",
          "1961-01-01T00:00:00",
          "1961-02-01T00:00:00",
          "1961-03-01T00:00:00",
          "1961-04-01T00:00:00",
          "1961-05-01T00:00:00",
          "1961-06-01T00:00:00",
          "1961-07-01T00:00:00",
          "1961-08-01T00:00:00",
          "1961-09-01T00:00:00",
          "1961-10-01T00:00:00",
          "1961-11-01T00:00:00",
          "1961-12-01T00:00:00",
          "1962-01-01T00:00:00",
          "1962-02-01T00:00:00",
          "1962-03-01T00:00:00",
          "1962-04-01T00:00:00",
          "1962-05-01T00:00:00",
          "1962-06-01T00:00:00",
          "1962-07-01T00:00:00",
          "1962-08-01T00:00:00",
          "1962-09-01T00:00:00",
          "1962-10-01T00:00:00",
          "1962-11-01T00:00:00",
          "1962-12-01T00:00:00",
          "1963-01-01T00:00:00",
          "1963-02-01T00:00:00",
          "1963-03-01T00:00:00",
          "1963-04-01T00:00:00",
          "1963-05-01T00:00:00",
          "1963-06-01T00:00:00",
          "1963-07-01T00:00:00",
          "1963-08-01T00:00:00",
          "1963-09-01T00:00:00",
          "1963-10-01T00:00:00",
          "1963-11-01T00:00:00",
          "1963-12-01T00:00:00",
          "1964-01-01T00:00:00",
          "1964-02-01T00:00:00",
          "1964-03-01T00:00:00",
          "1964-04-01T00:00:00",
          "1964-05-01T00:00:00",
          "1964-06-01T00:00:00",
          "1964-07-01T00:00:00",
          "1964-08-01T00:00:00",
          "1964-09-01T00:00:00",
          "1964-10-01T00:00:00",
          "1964-11-01T00:00:00",
          "1964-12-01T00:00:00",
          "1965-01-01T00:00:00",
          "1965-02-01T00:00:00",
          "1965-03-01T00:00:00",
          "1965-04-01T00:00:00",
          "1965-05-01T00:00:00",
          "1965-06-01T00:00:00",
          "1965-07-01T00:00:00",
          "1965-08-01T00:00:00",
          "1965-09-01T00:00:00",
          "1965-10-01T00:00:00",
          "1965-11-01T00:00:00",
          "1965-12-01T00:00:00",
          "1966-01-01T00:00:00",
          "1966-02-01T00:00:00",
          "1966-03-01T00:00:00",
          "1966-04-01T00:00:00",
          "1966-05-01T00:00:00",
          "1966-06-01T00:00:00",
          "1966-07-01T00:00:00",
          "1966-08-01T00:00:00",
          "1966-09-01T00:00:00",
          "1966-10-01T00:00:00",
          "1966-11-01T00:00:00",
          "1966-12-01T00:00:00"
         ],
         "y": [
          10965.700621614176,
          6504.311091248818,
          8628.182984475476,
          11888.490260146174,
          14239.85907810316,
          14442.118854666314,
          13660.159976611843,
          9426.91521674373,
          8177.859626376046,
          6987.706892797832,
          9443.008521319096,
          9277.625146368053,
          8382.424471329892,
          7176.787300681117,
          9278.898833000061,
          11719.359364833286,
          13652.992860007922,
          15776.839201594516,
          13712.051287078868,
          11060.829285525362,
          7922.833429683539,
          7547.785336665321,
          9920.003652754946,
          12640.889405660662,
          8763.54292492855,
          10582.094352228192,
          10858.52420584572,
          15059.91844319781,
          16869.20200181916,
          20720.98336647949,
          16104.997913054118,
          12071.555759190995,
          8945.204642732864,
          5543.471062298977,
          11361.524028965436,
          12163.840485966144,
          10515.72325121044,
          10783.978741001878,
          10887.861183398443,
          14288.829715628895,
          20211.356125296974,
          19994.052349798647,
          17708.885387602633,
          12214.258011492318,
          8603.168840499184,
          7913.522669022136,
          13813.637374031276,
          15825.517353498622,
          12565.235349452207,
          12192.810960875417,
          12392.49389308464,
          18797.920337437292,
          21120.919472274556,
          21881.62314119006,
          18489.396612114313,
          15103.877839555018,
          10270.632194084961,
          10728.068031315648,
          14649.522985635644,
          13682.246621924838,
          11683.116724666726,
          12112.255779889918,
          12891.018530271664,
          19849.31401548467,
          22988.392116483483,
          23417.049242180936,
          21149.301820647805,
          15141.444923370114,
          14694.51562024194,
          10859.32056746642,
          17014.807952176896,
          17607.768237339802,
          16536.101634524293,
          12632.6049029574,
          12698.962906986242,
          20117.706684888908,
          22023.752640147195,
          20589.98186542232,
          19846.76015642725,
          15341.444158078111,
          15047.267413123644,
          13350.348296406875,
          16051.321522995697,
          17479.409249919958
         ]
        },
        {
         "name": "Test forecast",
         "type": "scatter",
         "x": [
          "1967-01-01T00:00:00",
          "1967-02-01T00:00:00",
          "1967-03-01T00:00:00",
          "1967-04-01T00:00:00",
          "1967-05-01T00:00:00",
          "1967-06-01T00:00:00",
          "1967-07-01T00:00:00",
          "1967-08-01T00:00:00",
          "1967-09-01T00:00:00",
          "1967-10-01T00:00:00",
          "1967-11-01T00:00:00",
          "1967-12-01T00:00:00",
          "1968-01-01T00:00:00",
          "1968-02-01T00:00:00",
          "1968-03-01T00:00:00",
          "1968-04-01T00:00:00",
          "1968-05-01T00:00:00",
          "1968-06-01T00:00:00",
          "1968-07-01T00:00:00",
          "1968-08-01T00:00:00",
          "1968-09-01T00:00:00",
          "1968-10-01T00:00:00",
          "1968-11-01T00:00:00",
          "1968-12-01T00:00:00"
         ],
         "y": [
          14734.593029450269,
          14735.00401167395,
          14735.410895367275,
          14735.813721291139,
          14736.212529803295,
          14736.607360862277,
          14736.998254031325,
          14737.385248482238,
          14737.76838299921,
          14738.14769598262,
          14738.523225452805,
          14738.89500905377,
          14739.263084056865,
          14739.627487364462,
          14739.98825551355,
          14740.345424679317,
          14740.699030678717,
          14741.049108973957,
          14741.39569467599,
          14741.738822547966,
          14742.07852700863,
          14742.41484213571,
          14742.747801669266,
          14743.077439015002
         ]
        }
       ],
       "layout": {
        "template": {
         "data": {
          "bar": [
           {
            "error_x": {
             "color": "#2a3f5f"
            },
            "error_y": {
             "color": "#2a3f5f"
            },
            "marker": {
             "line": {
              "color": "#E5ECF6",
              "width": 0.5
             },
             "pattern": {
              "fillmode": "overlay",
              "size": 10,
              "solidity": 0.2
             }
            },
            "type": "bar"
           }
          ],
          "barpolar": [
           {
            "marker": {
             "line": {
              "color": "#E5ECF6",
              "width": 0.5
             },
             "pattern": {
              "fillmode": "overlay",
              "size": 10,
              "solidity": 0.2
             }
            },
            "type": "barpolar"
           }
          ],
          "carpet": [
           {
            "aaxis": {
             "endlinecolor": "#2a3f5f",
             "gridcolor": "white",
             "linecolor": "white",
             "minorgridcolor": "white",
             "startlinecolor": "#2a3f5f"
            },
            "baxis": {
             "endlinecolor": "#2a3f5f",
             "gridcolor": "white",
             "linecolor": "white",
             "minorgridcolor": "white",
             "startlinecolor": "#2a3f5f"
            },
            "type": "carpet"
           }
          ],
          "choropleth": [
           {
            "colorbar": {
             "outlinewidth": 0,
             "ticks": ""
            },
            "type": "choropleth"
           }
          ],
          "contour": [
           {
            "colorbar": {
             "outlinewidth": 0,
             "ticks": ""
            },
            "colorscale": [
             [
              0,
              "#0d0887"
             ],
             [
              0.1111111111111111,
              "#46039f"
             ],
             [
              0.2222222222222222,
              "#7201a8"
             ],
             [
              0.3333333333333333,
              "#9c179e"
             ],
             [
              0.4444444444444444,
              "#bd3786"
             ],
             [
              0.5555555555555556,
              "#d8576b"
             ],
             [
              0.6666666666666666,
              "#ed7953"
             ],
             [
              0.7777777777777778,
              "#fb9f3a"
             ],
             [
              0.8888888888888888,
              "#fdca26"
             ],
             [
              1,
              "#f0f921"
             ]
            ],
            "type": "contour"
           }
          ],
          "contourcarpet": [
           {
            "colorbar": {
             "outlinewidth": 0,
             "ticks": ""
            },
            "type": "contourcarpet"
           }
          ],
          "heatmap": [
           {
            "colorbar": {
             "outlinewidth": 0,
             "ticks": ""
            },
            "colorscale": [
             [
              0,
              "#0d0887"
             ],
             [
              0.1111111111111111,
              "#46039f"
             ],
             [
              0.2222222222222222,
              "#7201a8"
             ],
             [
              0.3333333333333333,
              "#9c179e"
             ],
             [
              0.4444444444444444,
              "#bd3786"
             ],
             [
              0.5555555555555556,
              "#d8576b"
             ],
             [
              0.6666666666666666,
              "#ed7953"
             ],
             [
              0.7777777777777778,
              "#fb9f3a"
             ],
             [
              0.8888888888888888,
              "#fdca26"
             ],
             [
              1,
              "#f0f921"
             ]
            ],
            "type": "heatmap"
           }
          ],
          "heatmapgl": [
           {
            "colorbar": {
             "outlinewidth": 0,
             "ticks": ""
            },
            "colorscale": [
             [
              0,
              "#0d0887"
             ],
             [
              0.1111111111111111,
              "#46039f"
             ],
             [
              0.2222222222222222,
              "#7201a8"
             ],
             [
              0.3333333333333333,
              "#9c179e"
             ],
             [
              0.4444444444444444,
              "#bd3786"
             ],
             [
              0.5555555555555556,
              "#d8576b"
             ],
             [
              0.6666666666666666,
              "#ed7953"
             ],
             [
              0.7777777777777778,
              "#fb9f3a"
             ],
             [
              0.8888888888888888,
              "#fdca26"
             ],
             [
              1,
              "#f0f921"
             ]
            ],
            "type": "heatmapgl"
           }
          ],
          "histogram": [
           {
            "marker": {
             "pattern": {
              "fillmode": "overlay",
              "size": 10,
              "solidity": 0.2
             }
            },
            "type": "histogram"
           }
          ],
          "histogram2d": [
           {
            "colorbar": {
             "outlinewidth": 0,
             "ticks": ""
            },
            "colorscale": [
             [
              0,
              "#0d0887"
             ],
             [
              0.1111111111111111,
              "#46039f"
             ],
             [
              0.2222222222222222,
              "#7201a8"
             ],
             [
              0.3333333333333333,
              "#9c179e"
             ],
             [
              0.4444444444444444,
              "#bd3786"
             ],
             [
              0.5555555555555556,
              "#d8576b"
             ],
             [
              0.6666666666666666,
              "#ed7953"
             ],
             [
              0.7777777777777778,
              "#fb9f3a"
             ],
             [
              0.8888888888888888,
              "#fdca26"
             ],
             [
              1,
              "#f0f921"
             ]
            ],
            "type": "histogram2d"
           }
          ],
          "histogram2dcontour": [
           {
            "colorbar": {
             "outlinewidth": 0,
             "ticks": ""
            },
            "colorscale": [
             [
              0,
              "#0d0887"
             ],
             [
              0.1111111111111111,
              "#46039f"
             ],
             [
              0.2222222222222222,
              "#7201a8"
             ],
             [
              0.3333333333333333,
              "#9c179e"
             ],
             [
              0.4444444444444444,
              "#bd3786"
             ],
             [
              0.5555555555555556,
              "#d8576b"
             ],
             [
              0.6666666666666666,
              "#ed7953"
             ],
             [
              0.7777777777777778,
              "#fb9f3a"
             ],
             [
              0.8888888888888888,
              "#fdca26"
             ],
             [
              1,
              "#f0f921"
             ]
            ],
            "type": "histogram2dcontour"
           }
          ],
          "mesh3d": [
           {
            "colorbar": {
             "outlinewidth": 0,
             "ticks": ""
            },
            "type": "mesh3d"
           }
          ],
          "parcoords": [
           {
            "line": {
             "colorbar": {
              "outlinewidth": 0,
              "ticks": ""
             }
            },
            "type": "parcoords"
           }
          ],
          "pie": [
           {
            "automargin": true,
            "type": "pie"
           }
          ],
          "scatter": [
           {
            "fillpattern": {
             "fillmode": "overlay",
             "size": 10,
             "solidity": 0.2
            },
            "type": "scatter"
           }
          ],
          "scatter3d": [
           {
            "line": {
             "colorbar": {
              "outlinewidth": 0,
              "ticks": ""
             }
            },
            "marker": {
             "colorbar": {
              "outlinewidth": 0,
              "ticks": ""
             }
            },
            "type": "scatter3d"
           }
          ],
          "scattercarpet": [
           {
            "marker": {
             "colorbar": {
              "outlinewidth": 0,
              "ticks": ""
             }
            },
            "type": "scattercarpet"
           }
          ],
          "scattergeo": [
           {
            "marker": {
             "colorbar": {
              "outlinewidth": 0,
              "ticks": ""
             }
            },
            "type": "scattergeo"
           }
          ],
          "scattergl": [
           {
            "marker": {
             "colorbar": {
              "outlinewidth": 0,
              "ticks": ""
             }
            },
            "type": "scattergl"
           }
          ],
          "scattermapbox": [
           {
            "marker": {
             "colorbar": {
              "outlinewidth": 0,
              "ticks": ""
             }
            },
            "type": "scattermapbox"
           }
          ],
          "scatterpolar": [
           {
            "marker": {
             "colorbar": {
              "outlinewidth": 0,
              "ticks": ""
             }
            },
            "type": "scatterpolar"
           }
          ],
          "scatterpolargl": [
           {
            "marker": {
             "colorbar": {
              "outlinewidth": 0,
              "ticks": ""
             }
            },
            "type": "scatterpolargl"
           }
          ],
          "scatterternary": [
           {
            "marker": {
             "colorbar": {
              "outlinewidth": 0,
              "ticks": ""
             }
            },
            "type": "scatterternary"
           }
          ],
          "surface": [
           {
            "colorbar": {
             "outlinewidth": 0,
             "ticks": ""
            },
            "colorscale": [
             [
              0,
              "#0d0887"
             ],
             [
              0.1111111111111111,
              "#46039f"
             ],
             [
              0.2222222222222222,
              "#7201a8"
             ],
             [
              0.3333333333333333,
              "#9c179e"
             ],
             [
              0.4444444444444444,
              "#bd3786"
             ],
             [
              0.5555555555555556,
              "#d8576b"
             ],
             [
              0.6666666666666666,
              "#ed7953"
             ],
             [
              0.7777777777777778,
              "#fb9f3a"
             ],
             [
              0.8888888888888888,
              "#fdca26"
             ],
             [
              1,
              "#f0f921"
             ]
            ],
            "type": "surface"
           }
          ],
          "table": [
           {
            "cells": {
             "fill": {
              "color": "#EBF0F8"
             },
             "line": {
              "color": "white"
             }
            },
            "header": {
             "fill": {
              "color": "#C8D4E3"
             },
             "line": {
              "color": "white"
             }
            },
            "type": "table"
           }
          ]
         },
         "layout": {
          "annotationdefaults": {
           "arrowcolor": "#2a3f5f",
           "arrowhead": 0,
           "arrowwidth": 1
          },
          "autotypenumbers": "strict",
          "coloraxis": {
           "colorbar": {
            "outlinewidth": 0,
            "ticks": ""
           }
          },
          "colorscale": {
           "diverging": [
            [
             0,
             "#8e0152"
            ],
            [
             0.1,
             "#c51b7d"
            ],
            [
             0.2,
             "#de77ae"
            ],
            [
             0.3,
             "#f1b6da"
            ],
            [
             0.4,
             "#fde0ef"
            ],
            [
             0.5,
             "#f7f7f7"
            ],
            [
             0.6,
             "#e6f5d0"
            ],
            [
             0.7,
             "#b8e186"
            ],
            [
             0.8,
             "#7fbc41"
            ],
            [
             0.9,
             "#4d9221"
            ],
            [
             1,
             "#276419"
            ]
           ],
           "sequential": [
            [
             0,
             "#0d0887"
            ],
            [
             0.1111111111111111,
             "#46039f"
            ],
            [
             0.2222222222222222,
             "#7201a8"
            ],
            [
             0.3333333333333333,
             "#9c179e"
            ],
            [
             0.4444444444444444,
             "#bd3786"
            ],
            [
             0.5555555555555556,
             "#d8576b"
            ],
            [
             0.6666666666666666,
             "#ed7953"
            ],
            [
             0.7777777777777778,
             "#fb9f3a"
            ],
            [
             0.8888888888888888,
             "#fdca26"
            ],
            [
             1,
             "#f0f921"
            ]
           ],
           "sequentialminus": [
            [
             0,
             "#0d0887"
            ],
            [
             0.1111111111111111,
             "#46039f"
            ],
            [
             0.2222222222222222,
             "#7201a8"
            ],
            [
             0.3333333333333333,
             "#9c179e"
            ],
            [
             0.4444444444444444,
             "#bd3786"
            ],
            [
             0.5555555555555556,
             "#d8576b"
            ],
            [
             0.6666666666666666,
             "#ed7953"
            ],
            [
             0.7777777777777778,
             "#fb9f3a"
            ],
            [
             0.8888888888888888,
             "#fdca26"
            ],
            [
             1,
             "#f0f921"
            ]
           ]
          },
          "colorway": [
           "#636efa",
           "#EF553B",
           "#00cc96",
           "#ab63fa",
           "#FFA15A",
           "#19d3f3",
           "#FF6692",
           "#B6E880",
           "#FF97FF",
           "#FECB52"
          ],
          "font": {
           "color": "#2a3f5f"
          },
          "geo": {
           "bgcolor": "white",
           "lakecolor": "white",
           "landcolor": "#E5ECF6",
           "showlakes": true,
           "showland": true,
           "subunitcolor": "white"
          },
          "hoverlabel": {
           "align": "left"
          },
          "hovermode": "closest",
          "mapbox": {
           "style": "light"
          },
          "paper_bgcolor": "white",
          "plot_bgcolor": "#E5ECF6",
          "polar": {
           "angularaxis": {
            "gridcolor": "white",
            "linecolor": "white",
            "ticks": ""
           },
           "bgcolor": "#E5ECF6",
           "radialaxis": {
            "gridcolor": "white",
            "linecolor": "white",
            "ticks": ""
           }
          },
          "scene": {
           "xaxis": {
            "backgroundcolor": "#E5ECF6",
            "gridcolor": "white",
            "gridwidth": 2,
            "linecolor": "white",
            "showbackground": true,
            "ticks": "",
            "zerolinecolor": "white"
           },
           "yaxis": {
            "backgroundcolor": "#E5ECF6",
            "gridcolor": "white",
            "gridwidth": 2,
            "linecolor": "white",
            "showbackground": true,
            "ticks": "",
            "zerolinecolor": "white"
           },
           "zaxis": {
            "backgroundcolor": "#E5ECF6",
            "gridcolor": "white",
            "gridwidth": 2,
            "linecolor": "white",
            "showbackground": true,
            "ticks": "",
            "zerolinecolor": "white"
           }
          },
          "shapedefaults": {
           "line": {
            "color": "#2a3f5f"
           }
          },
          "ternary": {
           "aaxis": {
            "gridcolor": "white",
            "linecolor": "white",
            "ticks": ""
           },
           "baxis": {
            "gridcolor": "white",
            "linecolor": "white",
            "ticks": ""
           },
           "bgcolor": "#E5ECF6",
           "caxis": {
            "gridcolor": "white",
            "linecolor": "white",
            "ticks": ""
           }
          },
          "title": {
           "x": 0.05
          },
          "xaxis": {
           "automargin": true,
           "gridcolor": "white",
           "linecolor": "white",
           "ticks": "",
           "title": {
            "standoff": 15
           },
           "zerolinecolor": "white",
           "zerolinewidth": 2
          },
          "yaxis": {
           "automargin": true,
           "gridcolor": "white",
           "linecolor": "white",
           "ticks": "",
           "title": {
            "standoff": 15
           },
           "zerolinecolor": "white",
           "zerolinewidth": 2
          }
         }
        },
        "title": {
         "text": "Mult model"
        }
       }
      },
      "text/html": [
       "<div>                            <div id=\"8dac7021-ab37-4a15-9f8f-d25d1d4c5b98\" class=\"plotly-graph-div\" style=\"height:525px; width:100%;\"></div>            <script type=\"text/javascript\">                require([\"plotly\"], function(Plotly) {                    window.PLOTLYENV=window.PLOTLYENV || {};                                    if (document.getElementById(\"8dac7021-ab37-4a15-9f8f-d25d1d4c5b98\")) {                    Plotly.newPlot(                        \"8dac7021-ab37-4a15-9f8f-d25d1d4c5b98\",                        [{\"name\":\"Original data\",\"x\":[\"1960-01-01T00:00:00\",\"1960-02-01T00:00:00\",\"1960-03-01T00:00:00\",\"1960-04-01T00:00:00\",\"1960-05-01T00:00:00\",\"1960-06-01T00:00:00\",\"1960-07-01T00:00:00\",\"1960-08-01T00:00:00\",\"1960-09-01T00:00:00\",\"1960-10-01T00:00:00\",\"1960-11-01T00:00:00\",\"1960-12-01T00:00:00\",\"1961-01-01T00:00:00\",\"1961-02-01T00:00:00\",\"1961-03-01T00:00:00\",\"1961-04-01T00:00:00\",\"1961-05-01T00:00:00\",\"1961-06-01T00:00:00\",\"1961-07-01T00:00:00\",\"1961-08-01T00:00:00\",\"1961-09-01T00:00:00\",\"1961-10-01T00:00:00\",\"1961-11-01T00:00:00\",\"1961-12-01T00:00:00\",\"1962-01-01T00:00:00\",\"1962-02-01T00:00:00\",\"1962-03-01T00:00:00\",\"1962-04-01T00:00:00\",\"1962-05-01T00:00:00\",\"1962-06-01T00:00:00\",\"1962-07-01T00:00:00\",\"1962-08-01T00:00:00\",\"1962-09-01T00:00:00\",\"1962-10-01T00:00:00\",\"1962-11-01T00:00:00\",\"1962-12-01T00:00:00\",\"1963-01-01T00:00:00\",\"1963-02-01T00:00:00\",\"1963-03-01T00:00:00\",\"1963-04-01T00:00:00\",\"1963-05-01T00:00:00\",\"1963-06-01T00:00:00\",\"1963-07-01T00:00:00\",\"1963-08-01T00:00:00\",\"1963-09-01T00:00:00\",\"1963-10-01T00:00:00\",\"1963-11-01T00:00:00\",\"1963-12-01T00:00:00\",\"1964-01-01T00:00:00\",\"1964-02-01T00:00:00\",\"1964-03-01T00:00:00\",\"1964-04-01T00:00:00\",\"1964-05-01T00:00:00\",\"1964-06-01T00:00:00\",\"1964-07-01T00:00:00\",\"1964-08-01T00:00:00\",\"1964-09-01T00:00:00\",\"1964-10-01T00:00:00\",\"1964-11-01T00:00:00\",\"1964-12-01T00:00:00\",\"1965-01-01T00:00:00\",\"1965-02-01T00:00:00\",\"1965-03-01T00:00:00\",\"1965-04-01T00:00:00\",\"1965-05-01T00:00:00\",\"1965-06-01T00:00:00\",\"1965-07-01T00:00:00\",\"1965-08-01T00:00:00\",\"1965-09-01T00:00:00\",\"1965-10-01T00:00:00\",\"1965-11-01T00:00:00\",\"1965-12-01T00:00:00\",\"1966-01-01T00:00:00\",\"1966-02-01T00:00:00\",\"1966-03-01T00:00:00\",\"1966-04-01T00:00:00\",\"1966-05-01T00:00:00\",\"1966-06-01T00:00:00\",\"1966-07-01T00:00:00\",\"1966-08-01T00:00:00\",\"1966-09-01T00:00:00\",\"1966-10-01T00:00:00\",\"1966-11-01T00:00:00\",\"1966-12-01T00:00:00\",\"1967-01-01T00:00:00\",\"1967-02-01T00:00:00\",\"1967-03-01T00:00:00\",\"1967-04-01T00:00:00\",\"1967-05-01T00:00:00\",\"1967-06-01T00:00:00\",\"1967-07-01T00:00:00\",\"1967-08-01T00:00:00\",\"1967-09-01T00:00:00\",\"1967-10-01T00:00:00\",\"1967-11-01T00:00:00\",\"1967-12-01T00:00:00\",\"1968-01-01T00:00:00\",\"1968-02-01T00:00:00\",\"1968-03-01T00:00:00\",\"1968-04-01T00:00:00\",\"1968-05-01T00:00:00\",\"1968-06-01T00:00:00\",\"1968-07-01T00:00:00\",\"1968-08-01T00:00:00\",\"1968-09-01T00:00:00\",\"1968-10-01T00:00:00\",\"1968-11-01T00:00:00\",\"1968-12-01T00:00:00\"],\"y\":[6550,8728,12026,14395,14587,13791,9498,8251,7049,9545,9364,8456,7237,9374,11837,13784,15926,13821,11143,7975,7610,10015,12759,8816,10677,10947,15200,17010,20900,16205,12143,8997,5568,11474,12256,10583,10862,10965,14405,20379,20128,17816,12268,8642,7962,13932,15936,12628,12267,12470,18944,21259,22015,18581,15175,10306,10792,14752,13754,11738,12181,12965,19990,23125,23541,21247,15189,14767,10895,17130,17697,16611,12674,12760,20249,22135,20677,19933,15388,15113,13401,16135,17562,14720,12225,11608,20985,19692,24081,22114,14220,13434,13598,17187,16119,13713,13210,14251,20139,21725,26099,21084,18024,16722,14385,21342,17180,14577],\"type\":\"scatter\"},{\"name\":\"Train prediction\",\"x\":[\"1960-01-01T00:00:00\",\"1960-02-01T00:00:00\",\"1960-03-01T00:00:00\",\"1960-04-01T00:00:00\",\"1960-05-01T00:00:00\",\"1960-06-01T00:00:00\",\"1960-07-01T00:00:00\",\"1960-08-01T00:00:00\",\"1960-09-01T00:00:00\",\"1960-10-01T00:00:00\",\"1960-11-01T00:00:00\",\"1960-12-01T00:00:00\",\"1961-01-01T00:00:00\",\"1961-02-01T00:00:00\",\"1961-03-01T00:00:00\",\"1961-04-01T00:00:00\",\"1961-05-01T00:00:00\",\"1961-06-01T00:00:00\",\"1961-07-01T00:00:00\",\"1961-08-01T00:00:00\",\"1961-09-01T00:00:00\",\"1961-10-01T00:00:00\",\"1961-11-01T00:00:00\",\"1961-12-01T00:00:00\",\"1962-01-01T00:00:00\",\"1962-02-01T00:00:00\",\"1962-03-01T00:00:00\",\"1962-04-01T00:00:00\",\"1962-05-01T00:00:00\",\"1962-06-01T00:00:00\",\"1962-07-01T00:00:00\",\"1962-08-01T00:00:00\",\"1962-09-01T00:00:00\",\"1962-10-01T00:00:00\",\"1962-11-01T00:00:00\",\"1962-12-01T00:00:00\",\"1963-01-01T00:00:00\",\"1963-02-01T00:00:00\",\"1963-03-01T00:00:00\",\"1963-04-01T00:00:00\",\"1963-05-01T00:00:00\",\"1963-06-01T00:00:00\",\"1963-07-01T00:00:00\",\"1963-08-01T00:00:00\",\"1963-09-01T00:00:00\",\"1963-10-01T00:00:00\",\"1963-11-01T00:00:00\",\"1963-12-01T00:00:00\",\"1964-01-01T00:00:00\",\"1964-02-01T00:00:00\",\"1964-03-01T00:00:00\",\"1964-04-01T00:00:00\",\"1964-05-01T00:00:00\",\"1964-06-01T00:00:00\",\"1964-07-01T00:00:00\",\"1964-08-01T00:00:00\",\"1964-09-01T00:00:00\",\"1964-10-01T00:00:00\",\"1964-11-01T00:00:00\",\"1964-12-01T00:00:00\",\"1965-01-01T00:00:00\",\"1965-02-01T00:00:00\",\"1965-03-01T00:00:00\",\"1965-04-01T00:00:00\",\"1965-05-01T00:00:00\",\"1965-06-01T00:00:00\",\"1965-07-01T00:00:00\",\"1965-08-01T00:00:00\",\"1965-09-01T00:00:00\",\"1965-10-01T00:00:00\",\"1965-11-01T00:00:00\",\"1965-12-01T00:00:00\",\"1966-01-01T00:00:00\",\"1966-02-01T00:00:00\",\"1966-03-01T00:00:00\",\"1966-04-01T00:00:00\",\"1966-05-01T00:00:00\",\"1966-06-01T00:00:00\",\"1966-07-01T00:00:00\",\"1966-08-01T00:00:00\",\"1966-09-01T00:00:00\",\"1966-10-01T00:00:00\",\"1966-11-01T00:00:00\",\"1966-12-01T00:00:00\"],\"y\":[10965.700621614176,6504.311091248818,8628.182984475476,11888.490260146174,14239.85907810316,14442.118854666314,13660.159976611843,9426.91521674373,8177.859626376046,6987.706892797832,9443.008521319096,9277.625146368053,8382.424471329892,7176.787300681117,9278.898833000061,11719.359364833286,13652.992860007922,15776.839201594516,13712.051287078868,11060.829285525362,7922.833429683539,7547.785336665321,9920.003652754946,12640.889405660662,8763.54292492855,10582.094352228192,10858.52420584572,15059.91844319781,16869.20200181916,20720.98336647949,16104.997913054118,12071.555759190995,8945.204642732864,5543.471062298977,11361.524028965436,12163.840485966144,10515.72325121044,10783.978741001878,10887.861183398443,14288.829715628895,20211.356125296974,19994.052349798647,17708.885387602633,12214.258011492318,8603.168840499184,7913.522669022136,13813.637374031276,15825.517353498622,12565.235349452207,12192.810960875417,12392.49389308464,18797.920337437292,21120.919472274556,21881.62314119006,18489.396612114313,15103.877839555018,10270.632194084961,10728.068031315648,14649.522985635644,13682.246621924838,11683.116724666726,12112.255779889918,12891.018530271664,19849.31401548467,22988.392116483483,23417.049242180936,21149.301820647805,15141.444923370114,14694.51562024194,10859.32056746642,17014.807952176896,17607.768237339802,16536.101634524293,12632.6049029574,12698.962906986242,20117.706684888908,22023.752640147195,20589.98186542232,19846.76015642725,15341.444158078111,15047.267413123644,13350.348296406875,16051.321522995697,17479.409249919958],\"type\":\"scatter\"},{\"name\":\"Test forecast\",\"x\":[\"1967-01-01T00:00:00\",\"1967-02-01T00:00:00\",\"1967-03-01T00:00:00\",\"1967-04-01T00:00:00\",\"1967-05-01T00:00:00\",\"1967-06-01T00:00:00\",\"1967-07-01T00:00:00\",\"1967-08-01T00:00:00\",\"1967-09-01T00:00:00\",\"1967-10-01T00:00:00\",\"1967-11-01T00:00:00\",\"1967-12-01T00:00:00\",\"1968-01-01T00:00:00\",\"1968-02-01T00:00:00\",\"1968-03-01T00:00:00\",\"1968-04-01T00:00:00\",\"1968-05-01T00:00:00\",\"1968-06-01T00:00:00\",\"1968-07-01T00:00:00\",\"1968-08-01T00:00:00\",\"1968-09-01T00:00:00\",\"1968-10-01T00:00:00\",\"1968-11-01T00:00:00\",\"1968-12-01T00:00:00\"],\"y\":[14734.593029450269,14735.00401167395,14735.410895367275,14735.813721291139,14736.212529803295,14736.607360862277,14736.998254031325,14737.385248482238,14737.76838299921,14738.14769598262,14738.523225452805,14738.89500905377,14739.263084056865,14739.627487364462,14739.98825551355,14740.345424679317,14740.699030678717,14741.049108973957,14741.39569467599,14741.738822547966,14742.07852700863,14742.41484213571,14742.747801669266,14743.077439015002],\"type\":\"scatter\"}],                        {\"template\":{\"data\":{\"barpolar\":[{\"marker\":{\"line\":{\"color\":\"#E5ECF6\",\"width\":0.5},\"pattern\":{\"fillmode\":\"overlay\",\"size\":10,\"solidity\":0.2}},\"type\":\"barpolar\"}],\"bar\":[{\"error_x\":{\"color\":\"#2a3f5f\"},\"error_y\":{\"color\":\"#2a3f5f\"},\"marker\":{\"line\":{\"color\":\"#E5ECF6\",\"width\":0.5},\"pattern\":{\"fillmode\":\"overlay\",\"size\":10,\"solidity\":0.2}},\"type\":\"bar\"}],\"carpet\":[{\"aaxis\":{\"endlinecolor\":\"#2a3f5f\",\"gridcolor\":\"white\",\"linecolor\":\"white\",\"minorgridcolor\":\"white\",\"startlinecolor\":\"#2a3f5f\"},\"baxis\":{\"endlinecolor\":\"#2a3f5f\",\"gridcolor\":\"white\",\"linecolor\":\"white\",\"minorgridcolor\":\"white\",\"startlinecolor\":\"#2a3f5f\"},\"type\":\"carpet\"}],\"choropleth\":[{\"colorbar\":{\"outlinewidth\":0,\"ticks\":\"\"},\"type\":\"choropleth\"}],\"contourcarpet\":[{\"colorbar\":{\"outlinewidth\":0,\"ticks\":\"\"},\"type\":\"contourcarpet\"}],\"contour\":[{\"colorbar\":{\"outlinewidth\":0,\"ticks\":\"\"},\"colorscale\":[[0.0,\"#0d0887\"],[0.1111111111111111,\"#46039f\"],[0.2222222222222222,\"#7201a8\"],[0.3333333333333333,\"#9c179e\"],[0.4444444444444444,\"#bd3786\"],[0.5555555555555556,\"#d8576b\"],[0.6666666666666666,\"#ed7953\"],[0.7777777777777778,\"#fb9f3a\"],[0.8888888888888888,\"#fdca26\"],[1.0,\"#f0f921\"]],\"type\":\"contour\"}],\"heatmapgl\":[{\"colorbar\":{\"outlinewidth\":0,\"ticks\":\"\"},\"colorscale\":[[0.0,\"#0d0887\"],[0.1111111111111111,\"#46039f\"],[0.2222222222222222,\"#7201a8\"],[0.3333333333333333,\"#9c179e\"],[0.4444444444444444,\"#bd3786\"],[0.5555555555555556,\"#d8576b\"],[0.6666666666666666,\"#ed7953\"],[0.7777777777777778,\"#fb9f3a\"],[0.8888888888888888,\"#fdca26\"],[1.0,\"#f0f921\"]],\"type\":\"heatmapgl\"}],\"heatmap\":[{\"colorbar\":{\"outlinewidth\":0,\"ticks\":\"\"},\"colorscale\":[[0.0,\"#0d0887\"],[0.1111111111111111,\"#46039f\"],[0.2222222222222222,\"#7201a8\"],[0.3333333333333333,\"#9c179e\"],[0.4444444444444444,\"#bd3786\"],[0.5555555555555556,\"#d8576b\"],[0.6666666666666666,\"#ed7953\"],[0.7777777777777778,\"#fb9f3a\"],[0.8888888888888888,\"#fdca26\"],[1.0,\"#f0f921\"]],\"type\":\"heatmap\"}],\"histogram2dcontour\":[{\"colorbar\":{\"outlinewidth\":0,\"ticks\":\"\"},\"colorscale\":[[0.0,\"#0d0887\"],[0.1111111111111111,\"#46039f\"],[0.2222222222222222,\"#7201a8\"],[0.3333333333333333,\"#9c179e\"],[0.4444444444444444,\"#bd3786\"],[0.5555555555555556,\"#d8576b\"],[0.6666666666666666,\"#ed7953\"],[0.7777777777777778,\"#fb9f3a\"],[0.8888888888888888,\"#fdca26\"],[1.0,\"#f0f921\"]],\"type\":\"histogram2dcontour\"}],\"histogram2d\":[{\"colorbar\":{\"outlinewidth\":0,\"ticks\":\"\"},\"colorscale\":[[0.0,\"#0d0887\"],[0.1111111111111111,\"#46039f\"],[0.2222222222222222,\"#7201a8\"],[0.3333333333333333,\"#9c179e\"],[0.4444444444444444,\"#bd3786\"],[0.5555555555555556,\"#d8576b\"],[0.6666666666666666,\"#ed7953\"],[0.7777777777777778,\"#fb9f3a\"],[0.8888888888888888,\"#fdca26\"],[1.0,\"#f0f921\"]],\"type\":\"histogram2d\"}],\"histogram\":[{\"marker\":{\"pattern\":{\"fillmode\":\"overlay\",\"size\":10,\"solidity\":0.2}},\"type\":\"histogram\"}],\"mesh3d\":[{\"colorbar\":{\"outlinewidth\":0,\"ticks\":\"\"},\"type\":\"mesh3d\"}],\"parcoords\":[{\"line\":{\"colorbar\":{\"outlinewidth\":0,\"ticks\":\"\"}},\"type\":\"parcoords\"}],\"pie\":[{\"automargin\":true,\"type\":\"pie\"}],\"scatter3d\":[{\"line\":{\"colorbar\":{\"outlinewidth\":0,\"ticks\":\"\"}},\"marker\":{\"colorbar\":{\"outlinewidth\":0,\"ticks\":\"\"}},\"type\":\"scatter3d\"}],\"scattercarpet\":[{\"marker\":{\"colorbar\":{\"outlinewidth\":0,\"ticks\":\"\"}},\"type\":\"scattercarpet\"}],\"scattergeo\":[{\"marker\":{\"colorbar\":{\"outlinewidth\":0,\"ticks\":\"\"}},\"type\":\"scattergeo\"}],\"scattergl\":[{\"marker\":{\"colorbar\":{\"outlinewidth\":0,\"ticks\":\"\"}},\"type\":\"scattergl\"}],\"scattermapbox\":[{\"marker\":{\"colorbar\":{\"outlinewidth\":0,\"ticks\":\"\"}},\"type\":\"scattermapbox\"}],\"scatterpolargl\":[{\"marker\":{\"colorbar\":{\"outlinewidth\":0,\"ticks\":\"\"}},\"type\":\"scatterpolargl\"}],\"scatterpolar\":[{\"marker\":{\"colorbar\":{\"outlinewidth\":0,\"ticks\":\"\"}},\"type\":\"scatterpolar\"}],\"scatter\":[{\"fillpattern\":{\"fillmode\":\"overlay\",\"size\":10,\"solidity\":0.2},\"type\":\"scatter\"}],\"scatterternary\":[{\"marker\":{\"colorbar\":{\"outlinewidth\":0,\"ticks\":\"\"}},\"type\":\"scatterternary\"}],\"surface\":[{\"colorbar\":{\"outlinewidth\":0,\"ticks\":\"\"},\"colorscale\":[[0.0,\"#0d0887\"],[0.1111111111111111,\"#46039f\"],[0.2222222222222222,\"#7201a8\"],[0.3333333333333333,\"#9c179e\"],[0.4444444444444444,\"#bd3786\"],[0.5555555555555556,\"#d8576b\"],[0.6666666666666666,\"#ed7953\"],[0.7777777777777778,\"#fb9f3a\"],[0.8888888888888888,\"#fdca26\"],[1.0,\"#f0f921\"]],\"type\":\"surface\"}],\"table\":[{\"cells\":{\"fill\":{\"color\":\"#EBF0F8\"},\"line\":{\"color\":\"white\"}},\"header\":{\"fill\":{\"color\":\"#C8D4E3\"},\"line\":{\"color\":\"white\"}},\"type\":\"table\"}]},\"layout\":{\"annotationdefaults\":{\"arrowcolor\":\"#2a3f5f\",\"arrowhead\":0,\"arrowwidth\":1},\"autotypenumbers\":\"strict\",\"coloraxis\":{\"colorbar\":{\"outlinewidth\":0,\"ticks\":\"\"}},\"colorscale\":{\"diverging\":[[0,\"#8e0152\"],[0.1,\"#c51b7d\"],[0.2,\"#de77ae\"],[0.3,\"#f1b6da\"],[0.4,\"#fde0ef\"],[0.5,\"#f7f7f7\"],[0.6,\"#e6f5d0\"],[0.7,\"#b8e186\"],[0.8,\"#7fbc41\"],[0.9,\"#4d9221\"],[1,\"#276419\"]],\"sequential\":[[0.0,\"#0d0887\"],[0.1111111111111111,\"#46039f\"],[0.2222222222222222,\"#7201a8\"],[0.3333333333333333,\"#9c179e\"],[0.4444444444444444,\"#bd3786\"],[0.5555555555555556,\"#d8576b\"],[0.6666666666666666,\"#ed7953\"],[0.7777777777777778,\"#fb9f3a\"],[0.8888888888888888,\"#fdca26\"],[1.0,\"#f0f921\"]],\"sequentialminus\":[[0.0,\"#0d0887\"],[0.1111111111111111,\"#46039f\"],[0.2222222222222222,\"#7201a8\"],[0.3333333333333333,\"#9c179e\"],[0.4444444444444444,\"#bd3786\"],[0.5555555555555556,\"#d8576b\"],[0.6666666666666666,\"#ed7953\"],[0.7777777777777778,\"#fb9f3a\"],[0.8888888888888888,\"#fdca26\"],[1.0,\"#f0f921\"]]},\"colorway\":[\"#636efa\",\"#EF553B\",\"#00cc96\",\"#ab63fa\",\"#FFA15A\",\"#19d3f3\",\"#FF6692\",\"#B6E880\",\"#FF97FF\",\"#FECB52\"],\"font\":{\"color\":\"#2a3f5f\"},\"geo\":{\"bgcolor\":\"white\",\"lakecolor\":\"white\",\"landcolor\":\"#E5ECF6\",\"showlakes\":true,\"showland\":true,\"subunitcolor\":\"white\"},\"hoverlabel\":{\"align\":\"left\"},\"hovermode\":\"closest\",\"mapbox\":{\"style\":\"light\"},\"paper_bgcolor\":\"white\",\"plot_bgcolor\":\"#E5ECF6\",\"polar\":{\"angularaxis\":{\"gridcolor\":\"white\",\"linecolor\":\"white\",\"ticks\":\"\"},\"bgcolor\":\"#E5ECF6\",\"radialaxis\":{\"gridcolor\":\"white\",\"linecolor\":\"white\",\"ticks\":\"\"}},\"scene\":{\"xaxis\":{\"backgroundcolor\":\"#E5ECF6\",\"gridcolor\":\"white\",\"gridwidth\":2,\"linecolor\":\"white\",\"showbackground\":true,\"ticks\":\"\",\"zerolinecolor\":\"white\"},\"yaxis\":{\"backgroundcolor\":\"#E5ECF6\",\"gridcolor\":\"white\",\"gridwidth\":2,\"linecolor\":\"white\",\"showbackground\":true,\"ticks\":\"\",\"zerolinecolor\":\"white\"},\"zaxis\":{\"backgroundcolor\":\"#E5ECF6\",\"gridcolor\":\"white\",\"gridwidth\":2,\"linecolor\":\"white\",\"showbackground\":true,\"ticks\":\"\",\"zerolinecolor\":\"white\"}},\"shapedefaults\":{\"line\":{\"color\":\"#2a3f5f\"}},\"ternary\":{\"aaxis\":{\"gridcolor\":\"white\",\"linecolor\":\"white\",\"ticks\":\"\"},\"baxis\":{\"gridcolor\":\"white\",\"linecolor\":\"white\",\"ticks\":\"\"},\"bgcolor\":\"#E5ECF6\",\"caxis\":{\"gridcolor\":\"white\",\"linecolor\":\"white\",\"ticks\":\"\"}},\"title\":{\"x\":0.05},\"xaxis\":{\"automargin\":true,\"gridcolor\":\"white\",\"linecolor\":\"white\",\"ticks\":\"\",\"title\":{\"standoff\":15},\"zerolinecolor\":\"white\",\"zerolinewidth\":2},\"yaxis\":{\"automargin\":true,\"gridcolor\":\"white\",\"linecolor\":\"white\",\"ticks\":\"\",\"title\":{\"standoff\":15},\"zerolinecolor\":\"white\",\"zerolinewidth\":2}}},\"title\":{\"text\":\"Mult model\"}},                        {\"responsive\": true}                    ).then(function(){\n",
       "                            \n",
       "var gd = document.getElementById('8dac7021-ab37-4a15-9f8f-d25d1d4c5b98');\n",
       "var x = new MutationObserver(function (mutations, observer) {{\n",
       "        var display = window.getComputedStyle(gd).display;\n",
       "        if (!display || display === 'none') {{\n",
       "            console.log([gd, 'removed!']);\n",
       "            Plotly.purge(gd);\n",
       "            observer.disconnect();\n",
       "        }}\n",
       "}});\n",
       "\n",
       "// Listen for the removal of the full notebook cells\n",
       "var notebookContainer = gd.closest('#notebook-container');\n",
       "if (notebookContainer) {{\n",
       "    x.observe(notebookContainer, {childList: true});\n",
       "}}\n",
       "\n",
       "// Listen for the clearing of the current output cell\n",
       "var outputEl = gd.closest('.output');\n",
       "if (outputEl) {{\n",
       "    x.observe(outputEl, {childList: true});\n",
       "}}\n",
       "\n",
       "                        })                };                });            </script>        </div>"
      ]
     },
     "metadata": {},
     "output_type": "display_data"
    }
   ],
   "source": [
    "orig_trace = Scatter(x = orig_data.index, y = orig_data, name = 'Original data')\n",
    "train_trace = Scatter(x = orig_data[:-test_size].index, y = mul_pred[:-test_size], name = 'Train prediction')\n",
    "pred_trace = Scatter(x=orig_data[-test_size:].index, y = mul_pred[-test_size:], name = 'Test forecast')\n",
    "\n",
    "layout = Layout(title = 'Mult model')\n",
    "iplot(Figure(data=[orig_trace, train_trace, pred_trace], \n",
    "            layout = layout))\n",
    "\n",
    "#layout = layout"
   ]
  },
  {
   "cell_type": "code",
   "execution_count": 16,
   "id": "8c9a59d9",
   "metadata": {
    "scrolled": true
   },
   "outputs": [
    {
     "data": {
      "application/vnd.plotly.v1+json": {
       "config": {
        "linkText": "Export to plot.ly",
        "plotlyServerURL": "https://plot.ly",
        "showLink": false
       },
       "data": [
        {
         "name": "Original data",
         "type": "scatter",
         "x": [
          "1960-01-01T00:00:00",
          "1960-02-01T00:00:00",
          "1960-03-01T00:00:00",
          "1960-04-01T00:00:00",
          "1960-05-01T00:00:00",
          "1960-06-01T00:00:00",
          "1960-07-01T00:00:00",
          "1960-08-01T00:00:00",
          "1960-09-01T00:00:00",
          "1960-10-01T00:00:00",
          "1960-11-01T00:00:00",
          "1960-12-01T00:00:00",
          "1961-01-01T00:00:00",
          "1961-02-01T00:00:00",
          "1961-03-01T00:00:00",
          "1961-04-01T00:00:00",
          "1961-05-01T00:00:00",
          "1961-06-01T00:00:00",
          "1961-07-01T00:00:00",
          "1961-08-01T00:00:00",
          "1961-09-01T00:00:00",
          "1961-10-01T00:00:00",
          "1961-11-01T00:00:00",
          "1961-12-01T00:00:00",
          "1962-01-01T00:00:00",
          "1962-02-01T00:00:00",
          "1962-03-01T00:00:00",
          "1962-04-01T00:00:00",
          "1962-05-01T00:00:00",
          "1962-06-01T00:00:00",
          "1962-07-01T00:00:00",
          "1962-08-01T00:00:00",
          "1962-09-01T00:00:00",
          "1962-10-01T00:00:00",
          "1962-11-01T00:00:00",
          "1962-12-01T00:00:00",
          "1963-01-01T00:00:00",
          "1963-02-01T00:00:00",
          "1963-03-01T00:00:00",
          "1963-04-01T00:00:00",
          "1963-05-01T00:00:00",
          "1963-06-01T00:00:00",
          "1963-07-01T00:00:00",
          "1963-08-01T00:00:00",
          "1963-09-01T00:00:00",
          "1963-10-01T00:00:00",
          "1963-11-01T00:00:00",
          "1963-12-01T00:00:00",
          "1964-01-01T00:00:00",
          "1964-02-01T00:00:00",
          "1964-03-01T00:00:00",
          "1964-04-01T00:00:00",
          "1964-05-01T00:00:00",
          "1964-06-01T00:00:00",
          "1964-07-01T00:00:00",
          "1964-08-01T00:00:00",
          "1964-09-01T00:00:00",
          "1964-10-01T00:00:00",
          "1964-11-01T00:00:00",
          "1964-12-01T00:00:00",
          "1965-01-01T00:00:00",
          "1965-02-01T00:00:00",
          "1965-03-01T00:00:00",
          "1965-04-01T00:00:00",
          "1965-05-01T00:00:00",
          "1965-06-01T00:00:00",
          "1965-07-01T00:00:00",
          "1965-08-01T00:00:00",
          "1965-09-01T00:00:00",
          "1965-10-01T00:00:00",
          "1965-11-01T00:00:00",
          "1965-12-01T00:00:00",
          "1966-01-01T00:00:00",
          "1966-02-01T00:00:00",
          "1966-03-01T00:00:00",
          "1966-04-01T00:00:00",
          "1966-05-01T00:00:00",
          "1966-06-01T00:00:00",
          "1966-07-01T00:00:00",
          "1966-08-01T00:00:00",
          "1966-09-01T00:00:00",
          "1966-10-01T00:00:00",
          "1966-11-01T00:00:00",
          "1966-12-01T00:00:00",
          "1967-01-01T00:00:00",
          "1967-02-01T00:00:00",
          "1967-03-01T00:00:00",
          "1967-04-01T00:00:00",
          "1967-05-01T00:00:00",
          "1967-06-01T00:00:00",
          "1967-07-01T00:00:00",
          "1967-08-01T00:00:00",
          "1967-09-01T00:00:00",
          "1967-10-01T00:00:00",
          "1967-11-01T00:00:00",
          "1967-12-01T00:00:00",
          "1968-01-01T00:00:00",
          "1968-02-01T00:00:00",
          "1968-03-01T00:00:00",
          "1968-04-01T00:00:00",
          "1968-05-01T00:00:00",
          "1968-06-01T00:00:00",
          "1968-07-01T00:00:00",
          "1968-08-01T00:00:00",
          "1968-09-01T00:00:00",
          "1968-10-01T00:00:00",
          "1968-11-01T00:00:00",
          "1968-12-01T00:00:00"
         ],
         "y": [
          6550,
          8728,
          12026,
          14395,
          14587,
          13791,
          9498,
          8251,
          7049,
          9545,
          9364,
          8456,
          7237,
          9374,
          11837,
          13784,
          15926,
          13821,
          11143,
          7975,
          7610,
          10015,
          12759,
          8816,
          10677,
          10947,
          15200,
          17010,
          20900,
          16205,
          12143,
          8997,
          5568,
          11474,
          12256,
          10583,
          10862,
          10965,
          14405,
          20379,
          20128,
          17816,
          12268,
          8642,
          7962,
          13932,
          15936,
          12628,
          12267,
          12470,
          18944,
          21259,
          22015,
          18581,
          15175,
          10306,
          10792,
          14752,
          13754,
          11738,
          12181,
          12965,
          19990,
          23125,
          23541,
          21247,
          15189,
          14767,
          10895,
          17130,
          17697,
          16611,
          12674,
          12760,
          20249,
          22135,
          20677,
          19933,
          15388,
          15113,
          13401,
          16135,
          17562,
          14720,
          12225,
          11608,
          20985,
          19692,
          24081,
          22114,
          14220,
          13434,
          13598,
          17187,
          16119,
          13713,
          13210,
          14251,
          20139,
          21725,
          26099,
          21084,
          18024,
          16722,
          14385,
          21342,
          17180,
          14577
         ]
        },
        {
         "name": "Train prediction",
         "type": "scatter",
         "x": [
          "1960-01-01T00:00:00",
          "1960-02-01T00:00:00",
          "1960-03-01T00:00:00",
          "1960-04-01T00:00:00",
          "1960-05-01T00:00:00",
          "1960-06-01T00:00:00",
          "1960-07-01T00:00:00",
          "1960-08-01T00:00:00",
          "1960-09-01T00:00:00",
          "1960-10-01T00:00:00",
          "1960-11-01T00:00:00",
          "1960-12-01T00:00:00",
          "1961-01-01T00:00:00",
          "1961-02-01T00:00:00",
          "1961-03-01T00:00:00",
          "1961-04-01T00:00:00",
          "1961-05-01T00:00:00",
          "1961-06-01T00:00:00",
          "1961-07-01T00:00:00",
          "1961-08-01T00:00:00",
          "1961-09-01T00:00:00",
          "1961-10-01T00:00:00",
          "1961-11-01T00:00:00",
          "1961-12-01T00:00:00",
          "1962-01-01T00:00:00",
          "1962-02-01T00:00:00",
          "1962-03-01T00:00:00",
          "1962-04-01T00:00:00",
          "1962-05-01T00:00:00",
          "1962-06-01T00:00:00",
          "1962-07-01T00:00:00",
          "1962-08-01T00:00:00",
          "1962-09-01T00:00:00",
          "1962-10-01T00:00:00",
          "1962-11-01T00:00:00",
          "1962-12-01T00:00:00",
          "1963-01-01T00:00:00",
          "1963-02-01T00:00:00",
          "1963-03-01T00:00:00",
          "1963-04-01T00:00:00",
          "1963-05-01T00:00:00",
          "1963-06-01T00:00:00",
          "1963-07-01T00:00:00",
          "1963-08-01T00:00:00",
          "1963-09-01T00:00:00",
          "1963-10-01T00:00:00",
          "1963-11-01T00:00:00",
          "1963-12-01T00:00:00",
          "1964-01-01T00:00:00",
          "1964-02-01T00:00:00",
          "1964-03-01T00:00:00",
          "1964-04-01T00:00:00",
          "1964-05-01T00:00:00",
          "1964-06-01T00:00:00",
          "1964-07-01T00:00:00",
          "1964-08-01T00:00:00",
          "1964-09-01T00:00:00",
          "1964-10-01T00:00:00",
          "1964-11-01T00:00:00",
          "1964-12-01T00:00:00",
          "1965-01-01T00:00:00",
          "1965-02-01T00:00:00",
          "1965-03-01T00:00:00",
          "1965-04-01T00:00:00",
          "1965-05-01T00:00:00",
          "1965-06-01T00:00:00",
          "1965-07-01T00:00:00",
          "1965-08-01T00:00:00",
          "1965-09-01T00:00:00",
          "1965-10-01T00:00:00",
          "1965-11-01T00:00:00",
          "1965-12-01T00:00:00",
          "1966-01-01T00:00:00",
          "1966-02-01T00:00:00",
          "1966-03-01T00:00:00",
          "1966-04-01T00:00:00",
          "1966-05-01T00:00:00",
          "1966-06-01T00:00:00",
          "1966-07-01T00:00:00",
          "1966-08-01T00:00:00",
          "1966-09-01T00:00:00",
          "1966-10-01T00:00:00",
          "1966-11-01T00:00:00",
          "1966-12-01T00:00:00"
         ],
         "y": [
          10965.706666666661,
          6457.8331641481345,
          8603.76987311156,
          11897.475456362119,
          14272.459136863576,
          14476.50557151799,
          13686.527495206601,
          9411.70901425064,
          8150.527922436666,
          6949.186267195941,
          9428.00847327565,
          9261.341403731993,
          8357.998524615643,
          7141.486668084423,
          9262.950205772913,
          11725.494952512014,
          13676.261797270578,
          15818.501698730952,
          13735.503630435975,
          11061.178104304961,
          7896.290316838613,
          7518.204082610449,
          9910.466872010888,
          12653.909272197685,
          8744.871911567385,
          10578.11522538952,
          10856.860020295037,
          15091.299520831584,
          16914.480567717666,
          20795.398325842638,
          16143.672478216136,
          12079.172557869668,
          8929.114756905336,
          5502.011342350226,
          11362.762038334515,
          12171.057560403622,
          10511.11236890186,
          10781.250486319455,
          10885.89422790764,
          14310.3459663749,
          20272.966602880464,
          20053.77732739729,
          17752.77042382041,
          12221.209296620093,
          8586.071066527316,
          7891.972151056003,
          13829.978111464674,
          15854.573812445753,
          12573.627918078379,
          12198.703033733309,
          12399.538434477818,
          18843.508324474962,
          21180.06880560942,
          21944.722390272524,
          18532.045344259343,
          15126.339005954558,
          10264.83510897692,
          10724.802183730151,
          14668.344338142957,
          13695.597178153748,
          11685.250354679138,
          12116.657830692693,
          12899.597068228955,
          19894.69681676668,
          23049.914028210173,
          23480.247833249778,
          21200.232483566073,
          15161.109607917866,
          14711.564637317695,
          10856.875020872316,
          17042.6165849893,
          17638.33493074933,
          16561.196256372532,
          12638.662058916228,
          12705.17907954649,
          20158.35191103689,
          22072.911774757955,
          20632.159119635162,
          19885.124690082852,
          15359.185239722647,
          15063.419295831085,
          13358.844825802567,
          16071.430091324626,
          17505.50173756913
         ]
        },
        {
         "name": "Test forecast",
         "type": "scatter",
         "x": [
          "1967-01-01T00:00:00",
          "1967-02-01T00:00:00",
          "1967-03-01T00:00:00",
          "1967-04-01T00:00:00",
          "1967-05-01T00:00:00",
          "1967-06-01T00:00:00",
          "1967-07-01T00:00:00",
          "1967-08-01T00:00:00",
          "1967-09-01T00:00:00",
          "1967-10-01T00:00:00",
          "1967-11-01T00:00:00",
          "1967-12-01T00:00:00",
          "1968-01-01T00:00:00",
          "1968-02-01T00:00:00",
          "1968-03-01T00:00:00",
          "1968-04-01T00:00:00",
          "1968-05-01T00:00:00",
          "1968-06-01T00:00:00",
          "1968-07-01T00:00:00",
          "1968-08-01T00:00:00",
          "1968-09-01T00:00:00",
          "1968-10-01T00:00:00",
          "1968-11-01T00:00:00",
          "1968-12-01T00:00:00"
         ],
         "y": [
          14685.098164080571,
          14636.75711291937,
          14588.89947226978,
          14541.520408026687,
          14494.615134426023,
          14448.178913561367,
          14402.207054905357,
          14356.694914835907,
          14311.637896167153,
          14267.031447685085,
          14222.871063687837,
          14179.152283530562,
          14135.870691174861,
          14093.021914742716,
          14050.601626074893,
          14008.605540293749,
          13967.029415370414,
          13925.869051696314,
          13885.120291658955,
          13844.779019221969,
          13804.841159509353,
          13765.302678393864,
          13726.159582089529,
          13687.407916748238
         ]
        }
       ],
       "layout": {
        "template": {
         "data": {
          "bar": [
           {
            "error_x": {
             "color": "#2a3f5f"
            },
            "error_y": {
             "color": "#2a3f5f"
            },
            "marker": {
             "line": {
              "color": "#E5ECF6",
              "width": 0.5
             },
             "pattern": {
              "fillmode": "overlay",
              "size": 10,
              "solidity": 0.2
             }
            },
            "type": "bar"
           }
          ],
          "barpolar": [
           {
            "marker": {
             "line": {
              "color": "#E5ECF6",
              "width": 0.5
             },
             "pattern": {
              "fillmode": "overlay",
              "size": 10,
              "solidity": 0.2
             }
            },
            "type": "barpolar"
           }
          ],
          "carpet": [
           {
            "aaxis": {
             "endlinecolor": "#2a3f5f",
             "gridcolor": "white",
             "linecolor": "white",
             "minorgridcolor": "white",
             "startlinecolor": "#2a3f5f"
            },
            "baxis": {
             "endlinecolor": "#2a3f5f",
             "gridcolor": "white",
             "linecolor": "white",
             "minorgridcolor": "white",
             "startlinecolor": "#2a3f5f"
            },
            "type": "carpet"
           }
          ],
          "choropleth": [
           {
            "colorbar": {
             "outlinewidth": 0,
             "ticks": ""
            },
            "type": "choropleth"
           }
          ],
          "contour": [
           {
            "colorbar": {
             "outlinewidth": 0,
             "ticks": ""
            },
            "colorscale": [
             [
              0,
              "#0d0887"
             ],
             [
              0.1111111111111111,
              "#46039f"
             ],
             [
              0.2222222222222222,
              "#7201a8"
             ],
             [
              0.3333333333333333,
              "#9c179e"
             ],
             [
              0.4444444444444444,
              "#bd3786"
             ],
             [
              0.5555555555555556,
              "#d8576b"
             ],
             [
              0.6666666666666666,
              "#ed7953"
             ],
             [
              0.7777777777777778,
              "#fb9f3a"
             ],
             [
              0.8888888888888888,
              "#fdca26"
             ],
             [
              1,
              "#f0f921"
             ]
            ],
            "type": "contour"
           }
          ],
          "contourcarpet": [
           {
            "colorbar": {
             "outlinewidth": 0,
             "ticks": ""
            },
            "type": "contourcarpet"
           }
          ],
          "heatmap": [
           {
            "colorbar": {
             "outlinewidth": 0,
             "ticks": ""
            },
            "colorscale": [
             [
              0,
              "#0d0887"
             ],
             [
              0.1111111111111111,
              "#46039f"
             ],
             [
              0.2222222222222222,
              "#7201a8"
             ],
             [
              0.3333333333333333,
              "#9c179e"
             ],
             [
              0.4444444444444444,
              "#bd3786"
             ],
             [
              0.5555555555555556,
              "#d8576b"
             ],
             [
              0.6666666666666666,
              "#ed7953"
             ],
             [
              0.7777777777777778,
              "#fb9f3a"
             ],
             [
              0.8888888888888888,
              "#fdca26"
             ],
             [
              1,
              "#f0f921"
             ]
            ],
            "type": "heatmap"
           }
          ],
          "heatmapgl": [
           {
            "colorbar": {
             "outlinewidth": 0,
             "ticks": ""
            },
            "colorscale": [
             [
              0,
              "#0d0887"
             ],
             [
              0.1111111111111111,
              "#46039f"
             ],
             [
              0.2222222222222222,
              "#7201a8"
             ],
             [
              0.3333333333333333,
              "#9c179e"
             ],
             [
              0.4444444444444444,
              "#bd3786"
             ],
             [
              0.5555555555555556,
              "#d8576b"
             ],
             [
              0.6666666666666666,
              "#ed7953"
             ],
             [
              0.7777777777777778,
              "#fb9f3a"
             ],
             [
              0.8888888888888888,
              "#fdca26"
             ],
             [
              1,
              "#f0f921"
             ]
            ],
            "type": "heatmapgl"
           }
          ],
          "histogram": [
           {
            "marker": {
             "pattern": {
              "fillmode": "overlay",
              "size": 10,
              "solidity": 0.2
             }
            },
            "type": "histogram"
           }
          ],
          "histogram2d": [
           {
            "colorbar": {
             "outlinewidth": 0,
             "ticks": ""
            },
            "colorscale": [
             [
              0,
              "#0d0887"
             ],
             [
              0.1111111111111111,
              "#46039f"
             ],
             [
              0.2222222222222222,
              "#7201a8"
             ],
             [
              0.3333333333333333,
              "#9c179e"
             ],
             [
              0.4444444444444444,
              "#bd3786"
             ],
             [
              0.5555555555555556,
              "#d8576b"
             ],
             [
              0.6666666666666666,
              "#ed7953"
             ],
             [
              0.7777777777777778,
              "#fb9f3a"
             ],
             [
              0.8888888888888888,
              "#fdca26"
             ],
             [
              1,
              "#f0f921"
             ]
            ],
            "type": "histogram2d"
           }
          ],
          "histogram2dcontour": [
           {
            "colorbar": {
             "outlinewidth": 0,
             "ticks": ""
            },
            "colorscale": [
             [
              0,
              "#0d0887"
             ],
             [
              0.1111111111111111,
              "#46039f"
             ],
             [
              0.2222222222222222,
              "#7201a8"
             ],
             [
              0.3333333333333333,
              "#9c179e"
             ],
             [
              0.4444444444444444,
              "#bd3786"
             ],
             [
              0.5555555555555556,
              "#d8576b"
             ],
             [
              0.6666666666666666,
              "#ed7953"
             ],
             [
              0.7777777777777778,
              "#fb9f3a"
             ],
             [
              0.8888888888888888,
              "#fdca26"
             ],
             [
              1,
              "#f0f921"
             ]
            ],
            "type": "histogram2dcontour"
           }
          ],
          "mesh3d": [
           {
            "colorbar": {
             "outlinewidth": 0,
             "ticks": ""
            },
            "type": "mesh3d"
           }
          ],
          "parcoords": [
           {
            "line": {
             "colorbar": {
              "outlinewidth": 0,
              "ticks": ""
             }
            },
            "type": "parcoords"
           }
          ],
          "pie": [
           {
            "automargin": true,
            "type": "pie"
           }
          ],
          "scatter": [
           {
            "fillpattern": {
             "fillmode": "overlay",
             "size": 10,
             "solidity": 0.2
            },
            "type": "scatter"
           }
          ],
          "scatter3d": [
           {
            "line": {
             "colorbar": {
              "outlinewidth": 0,
              "ticks": ""
             }
            },
            "marker": {
             "colorbar": {
              "outlinewidth": 0,
              "ticks": ""
             }
            },
            "type": "scatter3d"
           }
          ],
          "scattercarpet": [
           {
            "marker": {
             "colorbar": {
              "outlinewidth": 0,
              "ticks": ""
             }
            },
            "type": "scattercarpet"
           }
          ],
          "scattergeo": [
           {
            "marker": {
             "colorbar": {
              "outlinewidth": 0,
              "ticks": ""
             }
            },
            "type": "scattergeo"
           }
          ],
          "scattergl": [
           {
            "marker": {
             "colorbar": {
              "outlinewidth": 0,
              "ticks": ""
             }
            },
            "type": "scattergl"
           }
          ],
          "scattermapbox": [
           {
            "marker": {
             "colorbar": {
              "outlinewidth": 0,
              "ticks": ""
             }
            },
            "type": "scattermapbox"
           }
          ],
          "scatterpolar": [
           {
            "marker": {
             "colorbar": {
              "outlinewidth": 0,
              "ticks": ""
             }
            },
            "type": "scatterpolar"
           }
          ],
          "scatterpolargl": [
           {
            "marker": {
             "colorbar": {
              "outlinewidth": 0,
              "ticks": ""
             }
            },
            "type": "scatterpolargl"
           }
          ],
          "scatterternary": [
           {
            "marker": {
             "colorbar": {
              "outlinewidth": 0,
              "ticks": ""
             }
            },
            "type": "scatterternary"
           }
          ],
          "surface": [
           {
            "colorbar": {
             "outlinewidth": 0,
             "ticks": ""
            },
            "colorscale": [
             [
              0,
              "#0d0887"
             ],
             [
              0.1111111111111111,
              "#46039f"
             ],
             [
              0.2222222222222222,
              "#7201a8"
             ],
             [
              0.3333333333333333,
              "#9c179e"
             ],
             [
              0.4444444444444444,
              "#bd3786"
             ],
             [
              0.5555555555555556,
              "#d8576b"
             ],
             [
              0.6666666666666666,
              "#ed7953"
             ],
             [
              0.7777777777777778,
              "#fb9f3a"
             ],
             [
              0.8888888888888888,
              "#fdca26"
             ],
             [
              1,
              "#f0f921"
             ]
            ],
            "type": "surface"
           }
          ],
          "table": [
           {
            "cells": {
             "fill": {
              "color": "#EBF0F8"
             },
             "line": {
              "color": "white"
             }
            },
            "header": {
             "fill": {
              "color": "#C8D4E3"
             },
             "line": {
              "color": "white"
             }
            },
            "type": "table"
           }
          ]
         },
         "layout": {
          "annotationdefaults": {
           "arrowcolor": "#2a3f5f",
           "arrowhead": 0,
           "arrowwidth": 1
          },
          "autotypenumbers": "strict",
          "coloraxis": {
           "colorbar": {
            "outlinewidth": 0,
            "ticks": ""
           }
          },
          "colorscale": {
           "diverging": [
            [
             0,
             "#8e0152"
            ],
            [
             0.1,
             "#c51b7d"
            ],
            [
             0.2,
             "#de77ae"
            ],
            [
             0.3,
             "#f1b6da"
            ],
            [
             0.4,
             "#fde0ef"
            ],
            [
             0.5,
             "#f7f7f7"
            ],
            [
             0.6,
             "#e6f5d0"
            ],
            [
             0.7,
             "#b8e186"
            ],
            [
             0.8,
             "#7fbc41"
            ],
            [
             0.9,
             "#4d9221"
            ],
            [
             1,
             "#276419"
            ]
           ],
           "sequential": [
            [
             0,
             "#0d0887"
            ],
            [
             0.1111111111111111,
             "#46039f"
            ],
            [
             0.2222222222222222,
             "#7201a8"
            ],
            [
             0.3333333333333333,
             "#9c179e"
            ],
            [
             0.4444444444444444,
             "#bd3786"
            ],
            [
             0.5555555555555556,
             "#d8576b"
            ],
            [
             0.6666666666666666,
             "#ed7953"
            ],
            [
             0.7777777777777778,
             "#fb9f3a"
            ],
            [
             0.8888888888888888,
             "#fdca26"
            ],
            [
             1,
             "#f0f921"
            ]
           ],
           "sequentialminus": [
            [
             0,
             "#0d0887"
            ],
            [
             0.1111111111111111,
             "#46039f"
            ],
            [
             0.2222222222222222,
             "#7201a8"
            ],
            [
             0.3333333333333333,
             "#9c179e"
            ],
            [
             0.4444444444444444,
             "#bd3786"
            ],
            [
             0.5555555555555556,
             "#d8576b"
            ],
            [
             0.6666666666666666,
             "#ed7953"
            ],
            [
             0.7777777777777778,
             "#fb9f3a"
            ],
            [
             0.8888888888888888,
             "#fdca26"
            ],
            [
             1,
             "#f0f921"
            ]
           ]
          },
          "colorway": [
           "#636efa",
           "#EF553B",
           "#00cc96",
           "#ab63fa",
           "#FFA15A",
           "#19d3f3",
           "#FF6692",
           "#B6E880",
           "#FF97FF",
           "#FECB52"
          ],
          "font": {
           "color": "#2a3f5f"
          },
          "geo": {
           "bgcolor": "white",
           "lakecolor": "white",
           "landcolor": "#E5ECF6",
           "showlakes": true,
           "showland": true,
           "subunitcolor": "white"
          },
          "hoverlabel": {
           "align": "left"
          },
          "hovermode": "closest",
          "mapbox": {
           "style": "light"
          },
          "paper_bgcolor": "white",
          "plot_bgcolor": "#E5ECF6",
          "polar": {
           "angularaxis": {
            "gridcolor": "white",
            "linecolor": "white",
            "ticks": ""
           },
           "bgcolor": "#E5ECF6",
           "radialaxis": {
            "gridcolor": "white",
            "linecolor": "white",
            "ticks": ""
           }
          },
          "scene": {
           "xaxis": {
            "backgroundcolor": "#E5ECF6",
            "gridcolor": "white",
            "gridwidth": 2,
            "linecolor": "white",
            "showbackground": true,
            "ticks": "",
            "zerolinecolor": "white"
           },
           "yaxis": {
            "backgroundcolor": "#E5ECF6",
            "gridcolor": "white",
            "gridwidth": 2,
            "linecolor": "white",
            "showbackground": true,
            "ticks": "",
            "zerolinecolor": "white"
           },
           "zaxis": {
            "backgroundcolor": "#E5ECF6",
            "gridcolor": "white",
            "gridwidth": 2,
            "linecolor": "white",
            "showbackground": true,
            "ticks": "",
            "zerolinecolor": "white"
           }
          },
          "shapedefaults": {
           "line": {
            "color": "#2a3f5f"
           }
          },
          "ternary": {
           "aaxis": {
            "gridcolor": "white",
            "linecolor": "white",
            "ticks": ""
           },
           "baxis": {
            "gridcolor": "white",
            "linecolor": "white",
            "ticks": ""
           },
           "bgcolor": "#E5ECF6",
           "caxis": {
            "gridcolor": "white",
            "linecolor": "white",
            "ticks": ""
           }
          },
          "title": {
           "x": 0.05
          },
          "xaxis": {
           "automargin": true,
           "gridcolor": "white",
           "linecolor": "white",
           "ticks": "",
           "title": {
            "standoff": 15
           },
           "zerolinecolor": "white",
           "zerolinewidth": 2
          },
          "yaxis": {
           "automargin": true,
           "gridcolor": "white",
           "linecolor": "white",
           "ticks": "",
           "title": {
            "standoff": 15
           },
           "zerolinecolor": "white",
           "zerolinewidth": 2
          }
         }
        },
        "title": {
         "text": "Add model"
        }
       }
      },
      "text/html": [
       "<div>                            <div id=\"ecb48a7a-b168-4663-926e-0ef5b54c6f1e\" class=\"plotly-graph-div\" style=\"height:525px; width:100%;\"></div>            <script type=\"text/javascript\">                require([\"plotly\"], function(Plotly) {                    window.PLOTLYENV=window.PLOTLYENV || {};                                    if (document.getElementById(\"ecb48a7a-b168-4663-926e-0ef5b54c6f1e\")) {                    Plotly.newPlot(                        \"ecb48a7a-b168-4663-926e-0ef5b54c6f1e\",                        [{\"name\":\"Original data\",\"x\":[\"1960-01-01T00:00:00\",\"1960-02-01T00:00:00\",\"1960-03-01T00:00:00\",\"1960-04-01T00:00:00\",\"1960-05-01T00:00:00\",\"1960-06-01T00:00:00\",\"1960-07-01T00:00:00\",\"1960-08-01T00:00:00\",\"1960-09-01T00:00:00\",\"1960-10-01T00:00:00\",\"1960-11-01T00:00:00\",\"1960-12-01T00:00:00\",\"1961-01-01T00:00:00\",\"1961-02-01T00:00:00\",\"1961-03-01T00:00:00\",\"1961-04-01T00:00:00\",\"1961-05-01T00:00:00\",\"1961-06-01T00:00:00\",\"1961-07-01T00:00:00\",\"1961-08-01T00:00:00\",\"1961-09-01T00:00:00\",\"1961-10-01T00:00:00\",\"1961-11-01T00:00:00\",\"1961-12-01T00:00:00\",\"1962-01-01T00:00:00\",\"1962-02-01T00:00:00\",\"1962-03-01T00:00:00\",\"1962-04-01T00:00:00\",\"1962-05-01T00:00:00\",\"1962-06-01T00:00:00\",\"1962-07-01T00:00:00\",\"1962-08-01T00:00:00\",\"1962-09-01T00:00:00\",\"1962-10-01T00:00:00\",\"1962-11-01T00:00:00\",\"1962-12-01T00:00:00\",\"1963-01-01T00:00:00\",\"1963-02-01T00:00:00\",\"1963-03-01T00:00:00\",\"1963-04-01T00:00:00\",\"1963-05-01T00:00:00\",\"1963-06-01T00:00:00\",\"1963-07-01T00:00:00\",\"1963-08-01T00:00:00\",\"1963-09-01T00:00:00\",\"1963-10-01T00:00:00\",\"1963-11-01T00:00:00\",\"1963-12-01T00:00:00\",\"1964-01-01T00:00:00\",\"1964-02-01T00:00:00\",\"1964-03-01T00:00:00\",\"1964-04-01T00:00:00\",\"1964-05-01T00:00:00\",\"1964-06-01T00:00:00\",\"1964-07-01T00:00:00\",\"1964-08-01T00:00:00\",\"1964-09-01T00:00:00\",\"1964-10-01T00:00:00\",\"1964-11-01T00:00:00\",\"1964-12-01T00:00:00\",\"1965-01-01T00:00:00\",\"1965-02-01T00:00:00\",\"1965-03-01T00:00:00\",\"1965-04-01T00:00:00\",\"1965-05-01T00:00:00\",\"1965-06-01T00:00:00\",\"1965-07-01T00:00:00\",\"1965-08-01T00:00:00\",\"1965-09-01T00:00:00\",\"1965-10-01T00:00:00\",\"1965-11-01T00:00:00\",\"1965-12-01T00:00:00\",\"1966-01-01T00:00:00\",\"1966-02-01T00:00:00\",\"1966-03-01T00:00:00\",\"1966-04-01T00:00:00\",\"1966-05-01T00:00:00\",\"1966-06-01T00:00:00\",\"1966-07-01T00:00:00\",\"1966-08-01T00:00:00\",\"1966-09-01T00:00:00\",\"1966-10-01T00:00:00\",\"1966-11-01T00:00:00\",\"1966-12-01T00:00:00\",\"1967-01-01T00:00:00\",\"1967-02-01T00:00:00\",\"1967-03-01T00:00:00\",\"1967-04-01T00:00:00\",\"1967-05-01T00:00:00\",\"1967-06-01T00:00:00\",\"1967-07-01T00:00:00\",\"1967-08-01T00:00:00\",\"1967-09-01T00:00:00\",\"1967-10-01T00:00:00\",\"1967-11-01T00:00:00\",\"1967-12-01T00:00:00\",\"1968-01-01T00:00:00\",\"1968-02-01T00:00:00\",\"1968-03-01T00:00:00\",\"1968-04-01T00:00:00\",\"1968-05-01T00:00:00\",\"1968-06-01T00:00:00\",\"1968-07-01T00:00:00\",\"1968-08-01T00:00:00\",\"1968-09-01T00:00:00\",\"1968-10-01T00:00:00\",\"1968-11-01T00:00:00\",\"1968-12-01T00:00:00\"],\"y\":[6550,8728,12026,14395,14587,13791,9498,8251,7049,9545,9364,8456,7237,9374,11837,13784,15926,13821,11143,7975,7610,10015,12759,8816,10677,10947,15200,17010,20900,16205,12143,8997,5568,11474,12256,10583,10862,10965,14405,20379,20128,17816,12268,8642,7962,13932,15936,12628,12267,12470,18944,21259,22015,18581,15175,10306,10792,14752,13754,11738,12181,12965,19990,23125,23541,21247,15189,14767,10895,17130,17697,16611,12674,12760,20249,22135,20677,19933,15388,15113,13401,16135,17562,14720,12225,11608,20985,19692,24081,22114,14220,13434,13598,17187,16119,13713,13210,14251,20139,21725,26099,21084,18024,16722,14385,21342,17180,14577],\"type\":\"scatter\"},{\"name\":\"Train prediction\",\"x\":[\"1960-01-01T00:00:00\",\"1960-02-01T00:00:00\",\"1960-03-01T00:00:00\",\"1960-04-01T00:00:00\",\"1960-05-01T00:00:00\",\"1960-06-01T00:00:00\",\"1960-07-01T00:00:00\",\"1960-08-01T00:00:00\",\"1960-09-01T00:00:00\",\"1960-10-01T00:00:00\",\"1960-11-01T00:00:00\",\"1960-12-01T00:00:00\",\"1961-01-01T00:00:00\",\"1961-02-01T00:00:00\",\"1961-03-01T00:00:00\",\"1961-04-01T00:00:00\",\"1961-05-01T00:00:00\",\"1961-06-01T00:00:00\",\"1961-07-01T00:00:00\",\"1961-08-01T00:00:00\",\"1961-09-01T00:00:00\",\"1961-10-01T00:00:00\",\"1961-11-01T00:00:00\",\"1961-12-01T00:00:00\",\"1962-01-01T00:00:00\",\"1962-02-01T00:00:00\",\"1962-03-01T00:00:00\",\"1962-04-01T00:00:00\",\"1962-05-01T00:00:00\",\"1962-06-01T00:00:00\",\"1962-07-01T00:00:00\",\"1962-08-01T00:00:00\",\"1962-09-01T00:00:00\",\"1962-10-01T00:00:00\",\"1962-11-01T00:00:00\",\"1962-12-01T00:00:00\",\"1963-01-01T00:00:00\",\"1963-02-01T00:00:00\",\"1963-03-01T00:00:00\",\"1963-04-01T00:00:00\",\"1963-05-01T00:00:00\",\"1963-06-01T00:00:00\",\"1963-07-01T00:00:00\",\"1963-08-01T00:00:00\",\"1963-09-01T00:00:00\",\"1963-10-01T00:00:00\",\"1963-11-01T00:00:00\",\"1963-12-01T00:00:00\",\"1964-01-01T00:00:00\",\"1964-02-01T00:00:00\",\"1964-03-01T00:00:00\",\"1964-04-01T00:00:00\",\"1964-05-01T00:00:00\",\"1964-06-01T00:00:00\",\"1964-07-01T00:00:00\",\"1964-08-01T00:00:00\",\"1964-09-01T00:00:00\",\"1964-10-01T00:00:00\",\"1964-11-01T00:00:00\",\"1964-12-01T00:00:00\",\"1965-01-01T00:00:00\",\"1965-02-01T00:00:00\",\"1965-03-01T00:00:00\",\"1965-04-01T00:00:00\",\"1965-05-01T00:00:00\",\"1965-06-01T00:00:00\",\"1965-07-01T00:00:00\",\"1965-08-01T00:00:00\",\"1965-09-01T00:00:00\",\"1965-10-01T00:00:00\",\"1965-11-01T00:00:00\",\"1965-12-01T00:00:00\",\"1966-01-01T00:00:00\",\"1966-02-01T00:00:00\",\"1966-03-01T00:00:00\",\"1966-04-01T00:00:00\",\"1966-05-01T00:00:00\",\"1966-06-01T00:00:00\",\"1966-07-01T00:00:00\",\"1966-08-01T00:00:00\",\"1966-09-01T00:00:00\",\"1966-10-01T00:00:00\",\"1966-11-01T00:00:00\",\"1966-12-01T00:00:00\"],\"y\":[10965.706666666661,6457.8331641481345,8603.76987311156,11897.475456362119,14272.459136863576,14476.50557151799,13686.527495206601,9411.70901425064,8150.527922436666,6949.186267195941,9428.00847327565,9261.341403731993,8357.998524615643,7141.486668084423,9262.950205772913,11725.494952512014,13676.261797270578,15818.501698730952,13735.503630435975,11061.178104304961,7896.290316838613,7518.204082610449,9910.466872010888,12653.909272197685,8744.871911567385,10578.11522538952,10856.860020295037,15091.299520831584,16914.480567717666,20795.398325842638,16143.672478216136,12079.172557869668,8929.114756905336,5502.011342350226,11362.762038334515,12171.057560403622,10511.11236890186,10781.250486319455,10885.89422790764,14310.3459663749,20272.966602880464,20053.77732739729,17752.77042382041,12221.209296620093,8586.071066527316,7891.972151056003,13829.978111464674,15854.573812445753,12573.627918078379,12198.703033733309,12399.538434477818,18843.508324474962,21180.06880560942,21944.722390272524,18532.045344259343,15126.339005954558,10264.83510897692,10724.802183730151,14668.344338142957,13695.597178153748,11685.250354679138,12116.657830692693,12899.597068228955,19894.69681676668,23049.914028210173,23480.247833249778,21200.232483566073,15161.109607917866,14711.564637317695,10856.875020872316,17042.6165849893,17638.33493074933,16561.196256372532,12638.662058916228,12705.17907954649,20158.35191103689,22072.911774757955,20632.159119635162,19885.124690082852,15359.185239722647,15063.419295831085,13358.844825802567,16071.430091324626,17505.50173756913],\"type\":\"scatter\"},{\"name\":\"Test forecast\",\"x\":[\"1967-01-01T00:00:00\",\"1967-02-01T00:00:00\",\"1967-03-01T00:00:00\",\"1967-04-01T00:00:00\",\"1967-05-01T00:00:00\",\"1967-06-01T00:00:00\",\"1967-07-01T00:00:00\",\"1967-08-01T00:00:00\",\"1967-09-01T00:00:00\",\"1967-10-01T00:00:00\",\"1967-11-01T00:00:00\",\"1967-12-01T00:00:00\",\"1968-01-01T00:00:00\",\"1968-02-01T00:00:00\",\"1968-03-01T00:00:00\",\"1968-04-01T00:00:00\",\"1968-05-01T00:00:00\",\"1968-06-01T00:00:00\",\"1968-07-01T00:00:00\",\"1968-08-01T00:00:00\",\"1968-09-01T00:00:00\",\"1968-10-01T00:00:00\",\"1968-11-01T00:00:00\",\"1968-12-01T00:00:00\"],\"y\":[14685.098164080571,14636.75711291937,14588.89947226978,14541.520408026687,14494.615134426023,14448.178913561367,14402.207054905357,14356.694914835907,14311.637896167153,14267.031447685085,14222.871063687837,14179.152283530562,14135.870691174861,14093.021914742716,14050.601626074893,14008.605540293749,13967.029415370414,13925.869051696314,13885.120291658955,13844.779019221969,13804.841159509353,13765.302678393864,13726.159582089529,13687.407916748238],\"type\":\"scatter\"}],                        {\"template\":{\"data\":{\"barpolar\":[{\"marker\":{\"line\":{\"color\":\"#E5ECF6\",\"width\":0.5},\"pattern\":{\"fillmode\":\"overlay\",\"size\":10,\"solidity\":0.2}},\"type\":\"barpolar\"}],\"bar\":[{\"error_x\":{\"color\":\"#2a3f5f\"},\"error_y\":{\"color\":\"#2a3f5f\"},\"marker\":{\"line\":{\"color\":\"#E5ECF6\",\"width\":0.5},\"pattern\":{\"fillmode\":\"overlay\",\"size\":10,\"solidity\":0.2}},\"type\":\"bar\"}],\"carpet\":[{\"aaxis\":{\"endlinecolor\":\"#2a3f5f\",\"gridcolor\":\"white\",\"linecolor\":\"white\",\"minorgridcolor\":\"white\",\"startlinecolor\":\"#2a3f5f\"},\"baxis\":{\"endlinecolor\":\"#2a3f5f\",\"gridcolor\":\"white\",\"linecolor\":\"white\",\"minorgridcolor\":\"white\",\"startlinecolor\":\"#2a3f5f\"},\"type\":\"carpet\"}],\"choropleth\":[{\"colorbar\":{\"outlinewidth\":0,\"ticks\":\"\"},\"type\":\"choropleth\"}],\"contourcarpet\":[{\"colorbar\":{\"outlinewidth\":0,\"ticks\":\"\"},\"type\":\"contourcarpet\"}],\"contour\":[{\"colorbar\":{\"outlinewidth\":0,\"ticks\":\"\"},\"colorscale\":[[0.0,\"#0d0887\"],[0.1111111111111111,\"#46039f\"],[0.2222222222222222,\"#7201a8\"],[0.3333333333333333,\"#9c179e\"],[0.4444444444444444,\"#bd3786\"],[0.5555555555555556,\"#d8576b\"],[0.6666666666666666,\"#ed7953\"],[0.7777777777777778,\"#fb9f3a\"],[0.8888888888888888,\"#fdca26\"],[1.0,\"#f0f921\"]],\"type\":\"contour\"}],\"heatmapgl\":[{\"colorbar\":{\"outlinewidth\":0,\"ticks\":\"\"},\"colorscale\":[[0.0,\"#0d0887\"],[0.1111111111111111,\"#46039f\"],[0.2222222222222222,\"#7201a8\"],[0.3333333333333333,\"#9c179e\"],[0.4444444444444444,\"#bd3786\"],[0.5555555555555556,\"#d8576b\"],[0.6666666666666666,\"#ed7953\"],[0.7777777777777778,\"#fb9f3a\"],[0.8888888888888888,\"#fdca26\"],[1.0,\"#f0f921\"]],\"type\":\"heatmapgl\"}],\"heatmap\":[{\"colorbar\":{\"outlinewidth\":0,\"ticks\":\"\"},\"colorscale\":[[0.0,\"#0d0887\"],[0.1111111111111111,\"#46039f\"],[0.2222222222222222,\"#7201a8\"],[0.3333333333333333,\"#9c179e\"],[0.4444444444444444,\"#bd3786\"],[0.5555555555555556,\"#d8576b\"],[0.6666666666666666,\"#ed7953\"],[0.7777777777777778,\"#fb9f3a\"],[0.8888888888888888,\"#fdca26\"],[1.0,\"#f0f921\"]],\"type\":\"heatmap\"}],\"histogram2dcontour\":[{\"colorbar\":{\"outlinewidth\":0,\"ticks\":\"\"},\"colorscale\":[[0.0,\"#0d0887\"],[0.1111111111111111,\"#46039f\"],[0.2222222222222222,\"#7201a8\"],[0.3333333333333333,\"#9c179e\"],[0.4444444444444444,\"#bd3786\"],[0.5555555555555556,\"#d8576b\"],[0.6666666666666666,\"#ed7953\"],[0.7777777777777778,\"#fb9f3a\"],[0.8888888888888888,\"#fdca26\"],[1.0,\"#f0f921\"]],\"type\":\"histogram2dcontour\"}],\"histogram2d\":[{\"colorbar\":{\"outlinewidth\":0,\"ticks\":\"\"},\"colorscale\":[[0.0,\"#0d0887\"],[0.1111111111111111,\"#46039f\"],[0.2222222222222222,\"#7201a8\"],[0.3333333333333333,\"#9c179e\"],[0.4444444444444444,\"#bd3786\"],[0.5555555555555556,\"#d8576b\"],[0.6666666666666666,\"#ed7953\"],[0.7777777777777778,\"#fb9f3a\"],[0.8888888888888888,\"#fdca26\"],[1.0,\"#f0f921\"]],\"type\":\"histogram2d\"}],\"histogram\":[{\"marker\":{\"pattern\":{\"fillmode\":\"overlay\",\"size\":10,\"solidity\":0.2}},\"type\":\"histogram\"}],\"mesh3d\":[{\"colorbar\":{\"outlinewidth\":0,\"ticks\":\"\"},\"type\":\"mesh3d\"}],\"parcoords\":[{\"line\":{\"colorbar\":{\"outlinewidth\":0,\"ticks\":\"\"}},\"type\":\"parcoords\"}],\"pie\":[{\"automargin\":true,\"type\":\"pie\"}],\"scatter3d\":[{\"line\":{\"colorbar\":{\"outlinewidth\":0,\"ticks\":\"\"}},\"marker\":{\"colorbar\":{\"outlinewidth\":0,\"ticks\":\"\"}},\"type\":\"scatter3d\"}],\"scattercarpet\":[{\"marker\":{\"colorbar\":{\"outlinewidth\":0,\"ticks\":\"\"}},\"type\":\"scattercarpet\"}],\"scattergeo\":[{\"marker\":{\"colorbar\":{\"outlinewidth\":0,\"ticks\":\"\"}},\"type\":\"scattergeo\"}],\"scattergl\":[{\"marker\":{\"colorbar\":{\"outlinewidth\":0,\"ticks\":\"\"}},\"type\":\"scattergl\"}],\"scattermapbox\":[{\"marker\":{\"colorbar\":{\"outlinewidth\":0,\"ticks\":\"\"}},\"type\":\"scattermapbox\"}],\"scatterpolargl\":[{\"marker\":{\"colorbar\":{\"outlinewidth\":0,\"ticks\":\"\"}},\"type\":\"scatterpolargl\"}],\"scatterpolar\":[{\"marker\":{\"colorbar\":{\"outlinewidth\":0,\"ticks\":\"\"}},\"type\":\"scatterpolar\"}],\"scatter\":[{\"fillpattern\":{\"fillmode\":\"overlay\",\"size\":10,\"solidity\":0.2},\"type\":\"scatter\"}],\"scatterternary\":[{\"marker\":{\"colorbar\":{\"outlinewidth\":0,\"ticks\":\"\"}},\"type\":\"scatterternary\"}],\"surface\":[{\"colorbar\":{\"outlinewidth\":0,\"ticks\":\"\"},\"colorscale\":[[0.0,\"#0d0887\"],[0.1111111111111111,\"#46039f\"],[0.2222222222222222,\"#7201a8\"],[0.3333333333333333,\"#9c179e\"],[0.4444444444444444,\"#bd3786\"],[0.5555555555555556,\"#d8576b\"],[0.6666666666666666,\"#ed7953\"],[0.7777777777777778,\"#fb9f3a\"],[0.8888888888888888,\"#fdca26\"],[1.0,\"#f0f921\"]],\"type\":\"surface\"}],\"table\":[{\"cells\":{\"fill\":{\"color\":\"#EBF0F8\"},\"line\":{\"color\":\"white\"}},\"header\":{\"fill\":{\"color\":\"#C8D4E3\"},\"line\":{\"color\":\"white\"}},\"type\":\"table\"}]},\"layout\":{\"annotationdefaults\":{\"arrowcolor\":\"#2a3f5f\",\"arrowhead\":0,\"arrowwidth\":1},\"autotypenumbers\":\"strict\",\"coloraxis\":{\"colorbar\":{\"outlinewidth\":0,\"ticks\":\"\"}},\"colorscale\":{\"diverging\":[[0,\"#8e0152\"],[0.1,\"#c51b7d\"],[0.2,\"#de77ae\"],[0.3,\"#f1b6da\"],[0.4,\"#fde0ef\"],[0.5,\"#f7f7f7\"],[0.6,\"#e6f5d0\"],[0.7,\"#b8e186\"],[0.8,\"#7fbc41\"],[0.9,\"#4d9221\"],[1,\"#276419\"]],\"sequential\":[[0.0,\"#0d0887\"],[0.1111111111111111,\"#46039f\"],[0.2222222222222222,\"#7201a8\"],[0.3333333333333333,\"#9c179e\"],[0.4444444444444444,\"#bd3786\"],[0.5555555555555556,\"#d8576b\"],[0.6666666666666666,\"#ed7953\"],[0.7777777777777778,\"#fb9f3a\"],[0.8888888888888888,\"#fdca26\"],[1.0,\"#f0f921\"]],\"sequentialminus\":[[0.0,\"#0d0887\"],[0.1111111111111111,\"#46039f\"],[0.2222222222222222,\"#7201a8\"],[0.3333333333333333,\"#9c179e\"],[0.4444444444444444,\"#bd3786\"],[0.5555555555555556,\"#d8576b\"],[0.6666666666666666,\"#ed7953\"],[0.7777777777777778,\"#fb9f3a\"],[0.8888888888888888,\"#fdca26\"],[1.0,\"#f0f921\"]]},\"colorway\":[\"#636efa\",\"#EF553B\",\"#00cc96\",\"#ab63fa\",\"#FFA15A\",\"#19d3f3\",\"#FF6692\",\"#B6E880\",\"#FF97FF\",\"#FECB52\"],\"font\":{\"color\":\"#2a3f5f\"},\"geo\":{\"bgcolor\":\"white\",\"lakecolor\":\"white\",\"landcolor\":\"#E5ECF6\",\"showlakes\":true,\"showland\":true,\"subunitcolor\":\"white\"},\"hoverlabel\":{\"align\":\"left\"},\"hovermode\":\"closest\",\"mapbox\":{\"style\":\"light\"},\"paper_bgcolor\":\"white\",\"plot_bgcolor\":\"#E5ECF6\",\"polar\":{\"angularaxis\":{\"gridcolor\":\"white\",\"linecolor\":\"white\",\"ticks\":\"\"},\"bgcolor\":\"#E5ECF6\",\"radialaxis\":{\"gridcolor\":\"white\",\"linecolor\":\"white\",\"ticks\":\"\"}},\"scene\":{\"xaxis\":{\"backgroundcolor\":\"#E5ECF6\",\"gridcolor\":\"white\",\"gridwidth\":2,\"linecolor\":\"white\",\"showbackground\":true,\"ticks\":\"\",\"zerolinecolor\":\"white\"},\"yaxis\":{\"backgroundcolor\":\"#E5ECF6\",\"gridcolor\":\"white\",\"gridwidth\":2,\"linecolor\":\"white\",\"showbackground\":true,\"ticks\":\"\",\"zerolinecolor\":\"white\"},\"zaxis\":{\"backgroundcolor\":\"#E5ECF6\",\"gridcolor\":\"white\",\"gridwidth\":2,\"linecolor\":\"white\",\"showbackground\":true,\"ticks\":\"\",\"zerolinecolor\":\"white\"}},\"shapedefaults\":{\"line\":{\"color\":\"#2a3f5f\"}},\"ternary\":{\"aaxis\":{\"gridcolor\":\"white\",\"linecolor\":\"white\",\"ticks\":\"\"},\"baxis\":{\"gridcolor\":\"white\",\"linecolor\":\"white\",\"ticks\":\"\"},\"bgcolor\":\"#E5ECF6\",\"caxis\":{\"gridcolor\":\"white\",\"linecolor\":\"white\",\"ticks\":\"\"}},\"title\":{\"x\":0.05},\"xaxis\":{\"automargin\":true,\"gridcolor\":\"white\",\"linecolor\":\"white\",\"ticks\":\"\",\"title\":{\"standoff\":15},\"zerolinecolor\":\"white\",\"zerolinewidth\":2},\"yaxis\":{\"automargin\":true,\"gridcolor\":\"white\",\"linecolor\":\"white\",\"ticks\":\"\",\"title\":{\"standoff\":15},\"zerolinecolor\":\"white\",\"zerolinewidth\":2}}},\"title\":{\"text\":\"Add model\"}},                        {\"responsive\": true}                    ).then(function(){\n",
       "                            \n",
       "var gd = document.getElementById('ecb48a7a-b168-4663-926e-0ef5b54c6f1e');\n",
       "var x = new MutationObserver(function (mutations, observer) {{\n",
       "        var display = window.getComputedStyle(gd).display;\n",
       "        if (!display || display === 'none') {{\n",
       "            console.log([gd, 'removed!']);\n",
       "            Plotly.purge(gd);\n",
       "            observer.disconnect();\n",
       "        }}\n",
       "}});\n",
       "\n",
       "// Listen for the removal of the full notebook cells\n",
       "var notebookContainer = gd.closest('#notebook-container');\n",
       "if (notebookContainer) {{\n",
       "    x.observe(notebookContainer, {childList: true});\n",
       "}}\n",
       "\n",
       "// Listen for the clearing of the current output cell\n",
       "var outputEl = gd.closest('.output');\n",
       "if (outputEl) {{\n",
       "    x.observe(outputEl, {childList: true});\n",
       "}}\n",
       "\n",
       "                        })                };                });            </script>        </div>"
      ]
     },
     "metadata": {},
     "output_type": "display_data"
    }
   ],
   "source": [
    "orig_trace = Scatter(x = orig_data.index, y = orig_data, name = 'Original data')\n",
    "train_trace = Scatter(x = orig_data[:-test_size].index, y = add_pred[:-test_size], name = 'Train prediction')\n",
    "pred_trace = Scatter(x=orig_data[-test_size:].index, y = add_pred[-test_size:], name = 'Test forecast')\n",
    "layout = Layout(title = 'Add model')\n",
    "iplot(Figure(data=[orig_trace, train_trace, pred_trace], \n",
    "            layout = layout))\n",
    "\n",
    "#layout = layout"
   ]
  },
  {
   "cell_type": "markdown",
   "id": "0a1daf42",
   "metadata": {},
   "source": [
    "### Triple exp smoothing"
   ]
  },
  {
   "cell_type": "code",
   "execution_count": 17,
   "id": "bb5a7d11",
   "metadata": {},
   "outputs": [
    {
     "name": "stdout",
     "output_type": "stream",
     "text": [
      "Trend = add, Season = add, mae = 1828.6, r2 = 0.69\n",
      "Trend = add, Season = mul, mae = 2223.58, r2 = 0.56\n",
      "Trend = mul, Season = add, mae = 1671.17, r2 = 0.75\n",
      "Trend = mul, Season = mul, mae = 2473.66, r2 = 0.49\n"
     ]
    },
    {
     "name": "stderr",
     "output_type": "stream",
     "text": [
      "/Users/rom25/miniforge3/envs/myenv/lib/python3.8/site-packages/statsmodels/tsa/holtwinters/model.py:915: ConvergenceWarning:\n",
      "\n",
      "Optimization failed to converge. Check mle_retvals.\n",
      "\n",
      "/Users/rom25/miniforge3/envs/myenv/lib/python3.8/site-packages/statsmodels/tsa/holtwinters/model.py:915: ConvergenceWarning:\n",
      "\n",
      "Optimization failed to converge. Check mle_retvals.\n",
      "\n",
      "/Users/rom25/miniforge3/envs/myenv/lib/python3.8/site-packages/statsmodels/tsa/holtwinters/model.py:915: ConvergenceWarning:\n",
      "\n",
      "Optimization failed to converge. Check mle_retvals.\n",
      "\n",
      "/Users/rom25/miniforge3/envs/myenv/lib/python3.8/site-packages/statsmodels/tsa/holtwinters/model.py:915: ConvergenceWarning:\n",
      "\n",
      "Optimization failed to converge. Check mle_retvals.\n",
      "\n"
     ]
    }
   ],
   "source": [
    "for trend in ['add', 'mul']: \n",
    "    for season in ['add', 'mul']: \n",
    "        mod = ExponentialSmoothing(train_s, trend=trend, seasonal=season,seasonal_periods=12)\n",
    "        mod_fit = mod.fit()\n",
    "        predictions = mod_fit.forecast(test_size)\n",
    "        mae = np.round(mean_absolute_error(test_s, predictions),2)\n",
    "        r2 = np.round(r2_score(test_s, predictions),2)\n",
    "        print(f'Trend = {trend}, Season = {season}, mae = {mae}, r2 = {r2}')"
   ]
  },
  {
   "cell_type": "code",
   "execution_count": 25,
   "id": "c2c38903",
   "metadata": {},
   "outputs": [
    {
     "name": "stdout",
     "output_type": "stream",
     "text": [
      "       >>> Train <<<\n",
      "MAE = 1022.09, R2 = 0.91\n",
      "\n",
      "       >>> Test <<<\n",
      "MAE = 1722.56, R2 = 0.73\n",
      "\n"
     ]
    },
    {
     "name": "stderr",
     "output_type": "stream",
     "text": [
      "/Users/rom25/miniforge3/envs/myenv/lib/python3.8/site-packages/statsmodels/tsa/holtwinters/model.py:915: ConvergenceWarning:\n",
      "\n",
      "Optimization failed to converge. Check mle_retvals.\n",
      "\n"
     ]
    }
   ],
   "source": [
    "mod = ExponentialSmoothing(train_s, trend='mul', seasonal='add',seasonal_periods=12, \n",
    "                                damped_trend=0.3).fit()\n",
    "train_pred = mod.fittedvalues\n",
    "test_pred = mod.forecast(test_size)\n",
    "pred_data = pd.concat([train_pred,test_pred], ignore_index=True)\n",
    "print_errors(orig_data, pred_data, test_size)"
   ]
  },
  {
   "cell_type": "code",
   "execution_count": 26,
   "id": "8674f349",
   "metadata": {},
   "outputs": [
    {
     "data": {
      "application/vnd.plotly.v1+json": {
       "config": {
        "linkText": "Export to plot.ly",
        "plotlyServerURL": "https://plot.ly",
        "showLink": false
       },
       "data": [
        {
         "name": "Original data",
         "type": "scatter",
         "x": [
          "1960-01-01T00:00:00",
          "1960-02-01T00:00:00",
          "1960-03-01T00:00:00",
          "1960-04-01T00:00:00",
          "1960-05-01T00:00:00",
          "1960-06-01T00:00:00",
          "1960-07-01T00:00:00",
          "1960-08-01T00:00:00",
          "1960-09-01T00:00:00",
          "1960-10-01T00:00:00",
          "1960-11-01T00:00:00",
          "1960-12-01T00:00:00",
          "1961-01-01T00:00:00",
          "1961-02-01T00:00:00",
          "1961-03-01T00:00:00",
          "1961-04-01T00:00:00",
          "1961-05-01T00:00:00",
          "1961-06-01T00:00:00",
          "1961-07-01T00:00:00",
          "1961-08-01T00:00:00",
          "1961-09-01T00:00:00",
          "1961-10-01T00:00:00",
          "1961-11-01T00:00:00",
          "1961-12-01T00:00:00",
          "1962-01-01T00:00:00",
          "1962-02-01T00:00:00",
          "1962-03-01T00:00:00",
          "1962-04-01T00:00:00",
          "1962-05-01T00:00:00",
          "1962-06-01T00:00:00",
          "1962-07-01T00:00:00",
          "1962-08-01T00:00:00",
          "1962-09-01T00:00:00",
          "1962-10-01T00:00:00",
          "1962-11-01T00:00:00",
          "1962-12-01T00:00:00",
          "1963-01-01T00:00:00",
          "1963-02-01T00:00:00",
          "1963-03-01T00:00:00",
          "1963-04-01T00:00:00",
          "1963-05-01T00:00:00",
          "1963-06-01T00:00:00",
          "1963-07-01T00:00:00",
          "1963-08-01T00:00:00",
          "1963-09-01T00:00:00",
          "1963-10-01T00:00:00",
          "1963-11-01T00:00:00",
          "1963-12-01T00:00:00",
          "1964-01-01T00:00:00",
          "1964-02-01T00:00:00",
          "1964-03-01T00:00:00",
          "1964-04-01T00:00:00",
          "1964-05-01T00:00:00",
          "1964-06-01T00:00:00",
          "1964-07-01T00:00:00",
          "1964-08-01T00:00:00",
          "1964-09-01T00:00:00",
          "1964-10-01T00:00:00",
          "1964-11-01T00:00:00",
          "1964-12-01T00:00:00",
          "1965-01-01T00:00:00",
          "1965-02-01T00:00:00",
          "1965-03-01T00:00:00",
          "1965-04-01T00:00:00",
          "1965-05-01T00:00:00",
          "1965-06-01T00:00:00",
          "1965-07-01T00:00:00",
          "1965-08-01T00:00:00",
          "1965-09-01T00:00:00",
          "1965-10-01T00:00:00",
          "1965-11-01T00:00:00",
          "1965-12-01T00:00:00",
          "1966-01-01T00:00:00",
          "1966-02-01T00:00:00",
          "1966-03-01T00:00:00",
          "1966-04-01T00:00:00",
          "1966-05-01T00:00:00",
          "1966-06-01T00:00:00",
          "1966-07-01T00:00:00",
          "1966-08-01T00:00:00",
          "1966-09-01T00:00:00",
          "1966-10-01T00:00:00",
          "1966-11-01T00:00:00",
          "1966-12-01T00:00:00",
          "1967-01-01T00:00:00",
          "1967-02-01T00:00:00",
          "1967-03-01T00:00:00",
          "1967-04-01T00:00:00",
          "1967-05-01T00:00:00",
          "1967-06-01T00:00:00",
          "1967-07-01T00:00:00",
          "1967-08-01T00:00:00",
          "1967-09-01T00:00:00",
          "1967-10-01T00:00:00",
          "1967-11-01T00:00:00",
          "1967-12-01T00:00:00",
          "1968-01-01T00:00:00",
          "1968-02-01T00:00:00",
          "1968-03-01T00:00:00",
          "1968-04-01T00:00:00",
          "1968-05-01T00:00:00",
          "1968-06-01T00:00:00",
          "1968-07-01T00:00:00",
          "1968-08-01T00:00:00",
          "1968-09-01T00:00:00",
          "1968-10-01T00:00:00",
          "1968-11-01T00:00:00",
          "1968-12-01T00:00:00"
         ],
         "y": [
          6550,
          8728,
          12026,
          14395,
          14587,
          13791,
          9498,
          8251,
          7049,
          9545,
          9364,
          8456,
          7237,
          9374,
          11837,
          13784,
          15926,
          13821,
          11143,
          7975,
          7610,
          10015,
          12759,
          8816,
          10677,
          10947,
          15200,
          17010,
          20900,
          16205,
          12143,
          8997,
          5568,
          11474,
          12256,
          10583,
          10862,
          10965,
          14405,
          20379,
          20128,
          17816,
          12268,
          8642,
          7962,
          13932,
          15936,
          12628,
          12267,
          12470,
          18944,
          21259,
          22015,
          18581,
          15175,
          10306,
          10792,
          14752,
          13754,
          11738,
          12181,
          12965,
          19990,
          23125,
          23541,
          21247,
          15189,
          14767,
          10895,
          17130,
          17697,
          16611,
          12674,
          12760,
          20249,
          22135,
          20677,
          19933,
          15388,
          15113,
          13401,
          16135,
          17562,
          14720,
          12225,
          11608,
          20985,
          19692,
          24081,
          22114,
          14220,
          13434,
          13598,
          17187,
          16119,
          13713,
          13210,
          14251,
          20139,
          21725,
          26099,
          21084,
          18024,
          16722,
          14385,
          21342,
          17180,
          14577
         ]
        },
        {
         "name": "Train prediction",
         "type": "scatter",
         "x": [
          "1960-01-01T00:00:00",
          "1960-02-01T00:00:00",
          "1960-03-01T00:00:00",
          "1960-04-01T00:00:00",
          "1960-05-01T00:00:00",
          "1960-06-01T00:00:00",
          "1960-07-01T00:00:00",
          "1960-08-01T00:00:00",
          "1960-09-01T00:00:00",
          "1960-10-01T00:00:00",
          "1960-11-01T00:00:00",
          "1960-12-01T00:00:00",
          "1961-01-01T00:00:00",
          "1961-02-01T00:00:00",
          "1961-03-01T00:00:00",
          "1961-04-01T00:00:00",
          "1961-05-01T00:00:00",
          "1961-06-01T00:00:00",
          "1961-07-01T00:00:00",
          "1961-08-01T00:00:00",
          "1961-09-01T00:00:00",
          "1961-10-01T00:00:00",
          "1961-11-01T00:00:00",
          "1961-12-01T00:00:00",
          "1962-01-01T00:00:00",
          "1962-02-01T00:00:00",
          "1962-03-01T00:00:00",
          "1962-04-01T00:00:00",
          "1962-05-01T00:00:00",
          "1962-06-01T00:00:00",
          "1962-07-01T00:00:00",
          "1962-08-01T00:00:00",
          "1962-09-01T00:00:00",
          "1962-10-01T00:00:00",
          "1962-11-01T00:00:00",
          "1962-12-01T00:00:00",
          "1963-01-01T00:00:00",
          "1963-02-01T00:00:00",
          "1963-03-01T00:00:00",
          "1963-04-01T00:00:00",
          "1963-05-01T00:00:00",
          "1963-06-01T00:00:00",
          "1963-07-01T00:00:00",
          "1963-08-01T00:00:00",
          "1963-09-01T00:00:00",
          "1963-10-01T00:00:00",
          "1963-11-01T00:00:00",
          "1963-12-01T00:00:00",
          "1964-01-01T00:00:00",
          "1964-02-01T00:00:00",
          "1964-03-01T00:00:00",
          "1964-04-01T00:00:00",
          "1964-05-01T00:00:00",
          "1964-06-01T00:00:00",
          "1964-07-01T00:00:00",
          "1964-08-01T00:00:00",
          "1964-09-01T00:00:00",
          "1964-10-01T00:00:00",
          "1964-11-01T00:00:00",
          "1964-12-01T00:00:00",
          "1965-01-01T00:00:00",
          "1965-02-01T00:00:00",
          "1965-03-01T00:00:00",
          "1965-04-01T00:00:00",
          "1965-05-01T00:00:00",
          "1965-06-01T00:00:00",
          "1965-07-01T00:00:00",
          "1965-08-01T00:00:00",
          "1965-09-01T00:00:00",
          "1965-10-01T00:00:00",
          "1965-11-01T00:00:00",
          "1965-12-01T00:00:00",
          "1966-01-01T00:00:00",
          "1966-02-01T00:00:00",
          "1966-03-01T00:00:00",
          "1966-04-01T00:00:00",
          "1966-05-01T00:00:00",
          "1966-06-01T00:00:00",
          "1966-07-01T00:00:00",
          "1966-08-01T00:00:00",
          "1966-09-01T00:00:00",
          "1966-10-01T00:00:00",
          "1966-11-01T00:00:00",
          "1966-12-01T00:00:00"
         ],
         "y": [
          7718.390105397593,
          8087.35440765573,
          12353.368016129501,
          15227.590851902696,
          16601.551320396444,
          12953.243605541096,
          8956.513370848037,
          6194.532697325236,
          5142.798195475285,
          9654.491664693305,
          10865.020657958878,
          7987.599942277147,
          8157.449467199204,
          8585.30933440827,
          12889.458052631002,
          15606.603685008522,
          16758.599874780477,
          13369.034397997835,
          9287.403751004682,
          6820.0511202533,
          5574.545393373913,
          10117.19135742239,
          11332.298443522763,
          9117.720367506754,
          9140.815375015549,
          10143.110215668945,
          14491.772839744006,
          17646.838806404034,
          19120.20001164515,
          16383.406563058039,
          12245.299715077499,
          9417.6224541336,
          7882.123363894876,
          11496.029724436468,
          12745.262559522116,
          10115.034260721075,
          10312.380852235958,
          11098.830720977223,
          15234.256320822611,
          18032.707236983977,
          20156.850263151173,
          17013.970411665097,
          13083.994036187856,
          10090.460796446292,
          8312.30414443236,
          12350.036221041475,
          13958.159800025354,
          11895.475754030116,
          12184.47721516025,
          12899.739934122164,
          16998.550169674552,
          20451.532410729917,
          22280.232080586495,
          19122.981085277854,
          14926.253240910624,
          12198.220205221065,
          10353.948393471936,
          14599.82627026156,
          15922.257499811312,
          12948.60039085958,
          12788.631605019142,
          13321.270842655045,
          17404.333895668082,
          20968.742251081698,
          23073.976867589823,
          20065.743542973305,
          16248.313349851609,
          13229.700393590436,
          12153.657923613478,
          16039.754058343706,
          17582.46006245904,
          15140.573214575234,
          15621.748594586403,
          15684.98515655227,
          19227.957306786415,
          22456.757756021172,
          24006.691801728124,
          20126.387047635042,
          15950.686343512029,
          12985.30387438984,
          11986.104201285769,
          16424.31612570793,
          17626.81777336742,
          15104.006525981935
         ]
        },
        {
         "name": "Test forecast",
         "type": "scatter",
         "x": [
          "1967-01-01T00:00:00",
          "1967-02-01T00:00:00",
          "1967-03-01T00:00:00",
          "1967-04-01T00:00:00",
          "1967-05-01T00:00:00",
          "1967-06-01T00:00:00",
          "1967-07-01T00:00:00",
          "1967-08-01T00:00:00",
          "1967-09-01T00:00:00",
          "1967-10-01T00:00:00",
          "1967-11-01T00:00:00",
          "1967-12-01T00:00:00",
          "1968-01-01T00:00:00",
          "1968-02-01T00:00:00",
          "1968-03-01T00:00:00",
          "1968-04-01T00:00:00",
          "1968-05-01T00:00:00",
          "1968-06-01T00:00:00",
          "1968-07-01T00:00:00",
          "1968-08-01T00:00:00",
          "1968-09-01T00:00:00",
          "1968-10-01T00:00:00",
          "1968-11-01T00:00:00",
          "1968-12-01T00:00:00"
         ],
         "y": [
          15139.242592700328,
          15812.18758876808,
          19984.474242460812,
          22976.691165569697,
          24584.126705331655,
          21441.67872695938,
          17323.94104790428,
          14501.396149423841,
          13043.22731712713,
          17165.51657522142,
          18424.711546704737,
          15910.357722257835,
          16011.04964848603,
          16678.741907801632,
          20845.772976652916,
          23832.732246326123,
          25434.908829367672,
          22287.201342193614,
          18164.204339436124,
          15336.401025598092,
          13872.975395689464,
          17990.01016956809,
          19243.95365222987,
          16724.3520028013
         ]
        }
       ],
       "layout": {
        "template": {
         "data": {
          "bar": [
           {
            "error_x": {
             "color": "#2a3f5f"
            },
            "error_y": {
             "color": "#2a3f5f"
            },
            "marker": {
             "line": {
              "color": "#E5ECF6",
              "width": 0.5
             },
             "pattern": {
              "fillmode": "overlay",
              "size": 10,
              "solidity": 0.2
             }
            },
            "type": "bar"
           }
          ],
          "barpolar": [
           {
            "marker": {
             "line": {
              "color": "#E5ECF6",
              "width": 0.5
             },
             "pattern": {
              "fillmode": "overlay",
              "size": 10,
              "solidity": 0.2
             }
            },
            "type": "barpolar"
           }
          ],
          "carpet": [
           {
            "aaxis": {
             "endlinecolor": "#2a3f5f",
             "gridcolor": "white",
             "linecolor": "white",
             "minorgridcolor": "white",
             "startlinecolor": "#2a3f5f"
            },
            "baxis": {
             "endlinecolor": "#2a3f5f",
             "gridcolor": "white",
             "linecolor": "white",
             "minorgridcolor": "white",
             "startlinecolor": "#2a3f5f"
            },
            "type": "carpet"
           }
          ],
          "choropleth": [
           {
            "colorbar": {
             "outlinewidth": 0,
             "ticks": ""
            },
            "type": "choropleth"
           }
          ],
          "contour": [
           {
            "colorbar": {
             "outlinewidth": 0,
             "ticks": ""
            },
            "colorscale": [
             [
              0,
              "#0d0887"
             ],
             [
              0.1111111111111111,
              "#46039f"
             ],
             [
              0.2222222222222222,
              "#7201a8"
             ],
             [
              0.3333333333333333,
              "#9c179e"
             ],
             [
              0.4444444444444444,
              "#bd3786"
             ],
             [
              0.5555555555555556,
              "#d8576b"
             ],
             [
              0.6666666666666666,
              "#ed7953"
             ],
             [
              0.7777777777777778,
              "#fb9f3a"
             ],
             [
              0.8888888888888888,
              "#fdca26"
             ],
             [
              1,
              "#f0f921"
             ]
            ],
            "type": "contour"
           }
          ],
          "contourcarpet": [
           {
            "colorbar": {
             "outlinewidth": 0,
             "ticks": ""
            },
            "type": "contourcarpet"
           }
          ],
          "heatmap": [
           {
            "colorbar": {
             "outlinewidth": 0,
             "ticks": ""
            },
            "colorscale": [
             [
              0,
              "#0d0887"
             ],
             [
              0.1111111111111111,
              "#46039f"
             ],
             [
              0.2222222222222222,
              "#7201a8"
             ],
             [
              0.3333333333333333,
              "#9c179e"
             ],
             [
              0.4444444444444444,
              "#bd3786"
             ],
             [
              0.5555555555555556,
              "#d8576b"
             ],
             [
              0.6666666666666666,
              "#ed7953"
             ],
             [
              0.7777777777777778,
              "#fb9f3a"
             ],
             [
              0.8888888888888888,
              "#fdca26"
             ],
             [
              1,
              "#f0f921"
             ]
            ],
            "type": "heatmap"
           }
          ],
          "heatmapgl": [
           {
            "colorbar": {
             "outlinewidth": 0,
             "ticks": ""
            },
            "colorscale": [
             [
              0,
              "#0d0887"
             ],
             [
              0.1111111111111111,
              "#46039f"
             ],
             [
              0.2222222222222222,
              "#7201a8"
             ],
             [
              0.3333333333333333,
              "#9c179e"
             ],
             [
              0.4444444444444444,
              "#bd3786"
             ],
             [
              0.5555555555555556,
              "#d8576b"
             ],
             [
              0.6666666666666666,
              "#ed7953"
             ],
             [
              0.7777777777777778,
              "#fb9f3a"
             ],
             [
              0.8888888888888888,
              "#fdca26"
             ],
             [
              1,
              "#f0f921"
             ]
            ],
            "type": "heatmapgl"
           }
          ],
          "histogram": [
           {
            "marker": {
             "pattern": {
              "fillmode": "overlay",
              "size": 10,
              "solidity": 0.2
             }
            },
            "type": "histogram"
           }
          ],
          "histogram2d": [
           {
            "colorbar": {
             "outlinewidth": 0,
             "ticks": ""
            },
            "colorscale": [
             [
              0,
              "#0d0887"
             ],
             [
              0.1111111111111111,
              "#46039f"
             ],
             [
              0.2222222222222222,
              "#7201a8"
             ],
             [
              0.3333333333333333,
              "#9c179e"
             ],
             [
              0.4444444444444444,
              "#bd3786"
             ],
             [
              0.5555555555555556,
              "#d8576b"
             ],
             [
              0.6666666666666666,
              "#ed7953"
             ],
             [
              0.7777777777777778,
              "#fb9f3a"
             ],
             [
              0.8888888888888888,
              "#fdca26"
             ],
             [
              1,
              "#f0f921"
             ]
            ],
            "type": "histogram2d"
           }
          ],
          "histogram2dcontour": [
           {
            "colorbar": {
             "outlinewidth": 0,
             "ticks": ""
            },
            "colorscale": [
             [
              0,
              "#0d0887"
             ],
             [
              0.1111111111111111,
              "#46039f"
             ],
             [
              0.2222222222222222,
              "#7201a8"
             ],
             [
              0.3333333333333333,
              "#9c179e"
             ],
             [
              0.4444444444444444,
              "#bd3786"
             ],
             [
              0.5555555555555556,
              "#d8576b"
             ],
             [
              0.6666666666666666,
              "#ed7953"
             ],
             [
              0.7777777777777778,
              "#fb9f3a"
             ],
             [
              0.8888888888888888,
              "#fdca26"
             ],
             [
              1,
              "#f0f921"
             ]
            ],
            "type": "histogram2dcontour"
           }
          ],
          "mesh3d": [
           {
            "colorbar": {
             "outlinewidth": 0,
             "ticks": ""
            },
            "type": "mesh3d"
           }
          ],
          "parcoords": [
           {
            "line": {
             "colorbar": {
              "outlinewidth": 0,
              "ticks": ""
             }
            },
            "type": "parcoords"
           }
          ],
          "pie": [
           {
            "automargin": true,
            "type": "pie"
           }
          ],
          "scatter": [
           {
            "fillpattern": {
             "fillmode": "overlay",
             "size": 10,
             "solidity": 0.2
            },
            "type": "scatter"
           }
          ],
          "scatter3d": [
           {
            "line": {
             "colorbar": {
              "outlinewidth": 0,
              "ticks": ""
             }
            },
            "marker": {
             "colorbar": {
              "outlinewidth": 0,
              "ticks": ""
             }
            },
            "type": "scatter3d"
           }
          ],
          "scattercarpet": [
           {
            "marker": {
             "colorbar": {
              "outlinewidth": 0,
              "ticks": ""
             }
            },
            "type": "scattercarpet"
           }
          ],
          "scattergeo": [
           {
            "marker": {
             "colorbar": {
              "outlinewidth": 0,
              "ticks": ""
             }
            },
            "type": "scattergeo"
           }
          ],
          "scattergl": [
           {
            "marker": {
             "colorbar": {
              "outlinewidth": 0,
              "ticks": ""
             }
            },
            "type": "scattergl"
           }
          ],
          "scattermapbox": [
           {
            "marker": {
             "colorbar": {
              "outlinewidth": 0,
              "ticks": ""
             }
            },
            "type": "scattermapbox"
           }
          ],
          "scatterpolar": [
           {
            "marker": {
             "colorbar": {
              "outlinewidth": 0,
              "ticks": ""
             }
            },
            "type": "scatterpolar"
           }
          ],
          "scatterpolargl": [
           {
            "marker": {
             "colorbar": {
              "outlinewidth": 0,
              "ticks": ""
             }
            },
            "type": "scatterpolargl"
           }
          ],
          "scatterternary": [
           {
            "marker": {
             "colorbar": {
              "outlinewidth": 0,
              "ticks": ""
             }
            },
            "type": "scatterternary"
           }
          ],
          "surface": [
           {
            "colorbar": {
             "outlinewidth": 0,
             "ticks": ""
            },
            "colorscale": [
             [
              0,
              "#0d0887"
             ],
             [
              0.1111111111111111,
              "#46039f"
             ],
             [
              0.2222222222222222,
              "#7201a8"
             ],
             [
              0.3333333333333333,
              "#9c179e"
             ],
             [
              0.4444444444444444,
              "#bd3786"
             ],
             [
              0.5555555555555556,
              "#d8576b"
             ],
             [
              0.6666666666666666,
              "#ed7953"
             ],
             [
              0.7777777777777778,
              "#fb9f3a"
             ],
             [
              0.8888888888888888,
              "#fdca26"
             ],
             [
              1,
              "#f0f921"
             ]
            ],
            "type": "surface"
           }
          ],
          "table": [
           {
            "cells": {
             "fill": {
              "color": "#EBF0F8"
             },
             "line": {
              "color": "white"
             }
            },
            "header": {
             "fill": {
              "color": "#C8D4E3"
             },
             "line": {
              "color": "white"
             }
            },
            "type": "table"
           }
          ]
         },
         "layout": {
          "annotationdefaults": {
           "arrowcolor": "#2a3f5f",
           "arrowhead": 0,
           "arrowwidth": 1
          },
          "autotypenumbers": "strict",
          "coloraxis": {
           "colorbar": {
            "outlinewidth": 0,
            "ticks": ""
           }
          },
          "colorscale": {
           "diverging": [
            [
             0,
             "#8e0152"
            ],
            [
             0.1,
             "#c51b7d"
            ],
            [
             0.2,
             "#de77ae"
            ],
            [
             0.3,
             "#f1b6da"
            ],
            [
             0.4,
             "#fde0ef"
            ],
            [
             0.5,
             "#f7f7f7"
            ],
            [
             0.6,
             "#e6f5d0"
            ],
            [
             0.7,
             "#b8e186"
            ],
            [
             0.8,
             "#7fbc41"
            ],
            [
             0.9,
             "#4d9221"
            ],
            [
             1,
             "#276419"
            ]
           ],
           "sequential": [
            [
             0,
             "#0d0887"
            ],
            [
             0.1111111111111111,
             "#46039f"
            ],
            [
             0.2222222222222222,
             "#7201a8"
            ],
            [
             0.3333333333333333,
             "#9c179e"
            ],
            [
             0.4444444444444444,
             "#bd3786"
            ],
            [
             0.5555555555555556,
             "#d8576b"
            ],
            [
             0.6666666666666666,
             "#ed7953"
            ],
            [
             0.7777777777777778,
             "#fb9f3a"
            ],
            [
             0.8888888888888888,
             "#fdca26"
            ],
            [
             1,
             "#f0f921"
            ]
           ],
           "sequentialminus": [
            [
             0,
             "#0d0887"
            ],
            [
             0.1111111111111111,
             "#46039f"
            ],
            [
             0.2222222222222222,
             "#7201a8"
            ],
            [
             0.3333333333333333,
             "#9c179e"
            ],
            [
             0.4444444444444444,
             "#bd3786"
            ],
            [
             0.5555555555555556,
             "#d8576b"
            ],
            [
             0.6666666666666666,
             "#ed7953"
            ],
            [
             0.7777777777777778,
             "#fb9f3a"
            ],
            [
             0.8888888888888888,
             "#fdca26"
            ],
            [
             1,
             "#f0f921"
            ]
           ]
          },
          "colorway": [
           "#636efa",
           "#EF553B",
           "#00cc96",
           "#ab63fa",
           "#FFA15A",
           "#19d3f3",
           "#FF6692",
           "#B6E880",
           "#FF97FF",
           "#FECB52"
          ],
          "font": {
           "color": "#2a3f5f"
          },
          "geo": {
           "bgcolor": "white",
           "lakecolor": "white",
           "landcolor": "#E5ECF6",
           "showlakes": true,
           "showland": true,
           "subunitcolor": "white"
          },
          "hoverlabel": {
           "align": "left"
          },
          "hovermode": "closest",
          "mapbox": {
           "style": "light"
          },
          "paper_bgcolor": "white",
          "plot_bgcolor": "#E5ECF6",
          "polar": {
           "angularaxis": {
            "gridcolor": "white",
            "linecolor": "white",
            "ticks": ""
           },
           "bgcolor": "#E5ECF6",
           "radialaxis": {
            "gridcolor": "white",
            "linecolor": "white",
            "ticks": ""
           }
          },
          "scene": {
           "xaxis": {
            "backgroundcolor": "#E5ECF6",
            "gridcolor": "white",
            "gridwidth": 2,
            "linecolor": "white",
            "showbackground": true,
            "ticks": "",
            "zerolinecolor": "white"
           },
           "yaxis": {
            "backgroundcolor": "#E5ECF6",
            "gridcolor": "white",
            "gridwidth": 2,
            "linecolor": "white",
            "showbackground": true,
            "ticks": "",
            "zerolinecolor": "white"
           },
           "zaxis": {
            "backgroundcolor": "#E5ECF6",
            "gridcolor": "white",
            "gridwidth": 2,
            "linecolor": "white",
            "showbackground": true,
            "ticks": "",
            "zerolinecolor": "white"
           }
          },
          "shapedefaults": {
           "line": {
            "color": "#2a3f5f"
           }
          },
          "ternary": {
           "aaxis": {
            "gridcolor": "white",
            "linecolor": "white",
            "ticks": ""
           },
           "baxis": {
            "gridcolor": "white",
            "linecolor": "white",
            "ticks": ""
           },
           "bgcolor": "#E5ECF6",
           "caxis": {
            "gridcolor": "white",
            "linecolor": "white",
            "ticks": ""
           }
          },
          "title": {
           "x": 0.05
          },
          "xaxis": {
           "automargin": true,
           "gridcolor": "white",
           "linecolor": "white",
           "ticks": "",
           "title": {
            "standoff": 15
           },
           "zerolinecolor": "white",
           "zerolinewidth": 2
          },
          "yaxis": {
           "automargin": true,
           "gridcolor": "white",
           "linecolor": "white",
           "ticks": "",
           "title": {
            "standoff": 15
           },
           "zerolinecolor": "white",
           "zerolinewidth": 2
          }
         }
        },
        "title": {
         "text": "Final model"
        }
       }
      },
      "text/html": [
       "<div>                            <div id=\"9a46251b-9776-4efe-aa0b-a75fbb20b694\" class=\"plotly-graph-div\" style=\"height:525px; width:100%;\"></div>            <script type=\"text/javascript\">                require([\"plotly\"], function(Plotly) {                    window.PLOTLYENV=window.PLOTLYENV || {};                                    if (document.getElementById(\"9a46251b-9776-4efe-aa0b-a75fbb20b694\")) {                    Plotly.newPlot(                        \"9a46251b-9776-4efe-aa0b-a75fbb20b694\",                        [{\"name\":\"Original data\",\"x\":[\"1960-01-01T00:00:00\",\"1960-02-01T00:00:00\",\"1960-03-01T00:00:00\",\"1960-04-01T00:00:00\",\"1960-05-01T00:00:00\",\"1960-06-01T00:00:00\",\"1960-07-01T00:00:00\",\"1960-08-01T00:00:00\",\"1960-09-01T00:00:00\",\"1960-10-01T00:00:00\",\"1960-11-01T00:00:00\",\"1960-12-01T00:00:00\",\"1961-01-01T00:00:00\",\"1961-02-01T00:00:00\",\"1961-03-01T00:00:00\",\"1961-04-01T00:00:00\",\"1961-05-01T00:00:00\",\"1961-06-01T00:00:00\",\"1961-07-01T00:00:00\",\"1961-08-01T00:00:00\",\"1961-09-01T00:00:00\",\"1961-10-01T00:00:00\",\"1961-11-01T00:00:00\",\"1961-12-01T00:00:00\",\"1962-01-01T00:00:00\",\"1962-02-01T00:00:00\",\"1962-03-01T00:00:00\",\"1962-04-01T00:00:00\",\"1962-05-01T00:00:00\",\"1962-06-01T00:00:00\",\"1962-07-01T00:00:00\",\"1962-08-01T00:00:00\",\"1962-09-01T00:00:00\",\"1962-10-01T00:00:00\",\"1962-11-01T00:00:00\",\"1962-12-01T00:00:00\",\"1963-01-01T00:00:00\",\"1963-02-01T00:00:00\",\"1963-03-01T00:00:00\",\"1963-04-01T00:00:00\",\"1963-05-01T00:00:00\",\"1963-06-01T00:00:00\",\"1963-07-01T00:00:00\",\"1963-08-01T00:00:00\",\"1963-09-01T00:00:00\",\"1963-10-01T00:00:00\",\"1963-11-01T00:00:00\",\"1963-12-01T00:00:00\",\"1964-01-01T00:00:00\",\"1964-02-01T00:00:00\",\"1964-03-01T00:00:00\",\"1964-04-01T00:00:00\",\"1964-05-01T00:00:00\",\"1964-06-01T00:00:00\",\"1964-07-01T00:00:00\",\"1964-08-01T00:00:00\",\"1964-09-01T00:00:00\",\"1964-10-01T00:00:00\",\"1964-11-01T00:00:00\",\"1964-12-01T00:00:00\",\"1965-01-01T00:00:00\",\"1965-02-01T00:00:00\",\"1965-03-01T00:00:00\",\"1965-04-01T00:00:00\",\"1965-05-01T00:00:00\",\"1965-06-01T00:00:00\",\"1965-07-01T00:00:00\",\"1965-08-01T00:00:00\",\"1965-09-01T00:00:00\",\"1965-10-01T00:00:00\",\"1965-11-01T00:00:00\",\"1965-12-01T00:00:00\",\"1966-01-01T00:00:00\",\"1966-02-01T00:00:00\",\"1966-03-01T00:00:00\",\"1966-04-01T00:00:00\",\"1966-05-01T00:00:00\",\"1966-06-01T00:00:00\",\"1966-07-01T00:00:00\",\"1966-08-01T00:00:00\",\"1966-09-01T00:00:00\",\"1966-10-01T00:00:00\",\"1966-11-01T00:00:00\",\"1966-12-01T00:00:00\",\"1967-01-01T00:00:00\",\"1967-02-01T00:00:00\",\"1967-03-01T00:00:00\",\"1967-04-01T00:00:00\",\"1967-05-01T00:00:00\",\"1967-06-01T00:00:00\",\"1967-07-01T00:00:00\",\"1967-08-01T00:00:00\",\"1967-09-01T00:00:00\",\"1967-10-01T00:00:00\",\"1967-11-01T00:00:00\",\"1967-12-01T00:00:00\",\"1968-01-01T00:00:00\",\"1968-02-01T00:00:00\",\"1968-03-01T00:00:00\",\"1968-04-01T00:00:00\",\"1968-05-01T00:00:00\",\"1968-06-01T00:00:00\",\"1968-07-01T00:00:00\",\"1968-08-01T00:00:00\",\"1968-09-01T00:00:00\",\"1968-10-01T00:00:00\",\"1968-11-01T00:00:00\",\"1968-12-01T00:00:00\"],\"y\":[6550,8728,12026,14395,14587,13791,9498,8251,7049,9545,9364,8456,7237,9374,11837,13784,15926,13821,11143,7975,7610,10015,12759,8816,10677,10947,15200,17010,20900,16205,12143,8997,5568,11474,12256,10583,10862,10965,14405,20379,20128,17816,12268,8642,7962,13932,15936,12628,12267,12470,18944,21259,22015,18581,15175,10306,10792,14752,13754,11738,12181,12965,19990,23125,23541,21247,15189,14767,10895,17130,17697,16611,12674,12760,20249,22135,20677,19933,15388,15113,13401,16135,17562,14720,12225,11608,20985,19692,24081,22114,14220,13434,13598,17187,16119,13713,13210,14251,20139,21725,26099,21084,18024,16722,14385,21342,17180,14577],\"type\":\"scatter\"},{\"name\":\"Train prediction\",\"x\":[\"1960-01-01T00:00:00\",\"1960-02-01T00:00:00\",\"1960-03-01T00:00:00\",\"1960-04-01T00:00:00\",\"1960-05-01T00:00:00\",\"1960-06-01T00:00:00\",\"1960-07-01T00:00:00\",\"1960-08-01T00:00:00\",\"1960-09-01T00:00:00\",\"1960-10-01T00:00:00\",\"1960-11-01T00:00:00\",\"1960-12-01T00:00:00\",\"1961-01-01T00:00:00\",\"1961-02-01T00:00:00\",\"1961-03-01T00:00:00\",\"1961-04-01T00:00:00\",\"1961-05-01T00:00:00\",\"1961-06-01T00:00:00\",\"1961-07-01T00:00:00\",\"1961-08-01T00:00:00\",\"1961-09-01T00:00:00\",\"1961-10-01T00:00:00\",\"1961-11-01T00:00:00\",\"1961-12-01T00:00:00\",\"1962-01-01T00:00:00\",\"1962-02-01T00:00:00\",\"1962-03-01T00:00:00\",\"1962-04-01T00:00:00\",\"1962-05-01T00:00:00\",\"1962-06-01T00:00:00\",\"1962-07-01T00:00:00\",\"1962-08-01T00:00:00\",\"1962-09-01T00:00:00\",\"1962-10-01T00:00:00\",\"1962-11-01T00:00:00\",\"1962-12-01T00:00:00\",\"1963-01-01T00:00:00\",\"1963-02-01T00:00:00\",\"1963-03-01T00:00:00\",\"1963-04-01T00:00:00\",\"1963-05-01T00:00:00\",\"1963-06-01T00:00:00\",\"1963-07-01T00:00:00\",\"1963-08-01T00:00:00\",\"1963-09-01T00:00:00\",\"1963-10-01T00:00:00\",\"1963-11-01T00:00:00\",\"1963-12-01T00:00:00\",\"1964-01-01T00:00:00\",\"1964-02-01T00:00:00\",\"1964-03-01T00:00:00\",\"1964-04-01T00:00:00\",\"1964-05-01T00:00:00\",\"1964-06-01T00:00:00\",\"1964-07-01T00:00:00\",\"1964-08-01T00:00:00\",\"1964-09-01T00:00:00\",\"1964-10-01T00:00:00\",\"1964-11-01T00:00:00\",\"1964-12-01T00:00:00\",\"1965-01-01T00:00:00\",\"1965-02-01T00:00:00\",\"1965-03-01T00:00:00\",\"1965-04-01T00:00:00\",\"1965-05-01T00:00:00\",\"1965-06-01T00:00:00\",\"1965-07-01T00:00:00\",\"1965-08-01T00:00:00\",\"1965-09-01T00:00:00\",\"1965-10-01T00:00:00\",\"1965-11-01T00:00:00\",\"1965-12-01T00:00:00\",\"1966-01-01T00:00:00\",\"1966-02-01T00:00:00\",\"1966-03-01T00:00:00\",\"1966-04-01T00:00:00\",\"1966-05-01T00:00:00\",\"1966-06-01T00:00:00\",\"1966-07-01T00:00:00\",\"1966-08-01T00:00:00\",\"1966-09-01T00:00:00\",\"1966-10-01T00:00:00\",\"1966-11-01T00:00:00\",\"1966-12-01T00:00:00\"],\"y\":[7718.390105397593,8087.35440765573,12353.368016129501,15227.590851902696,16601.551320396444,12953.243605541096,8956.513370848037,6194.532697325236,5142.798195475285,9654.491664693305,10865.020657958878,7987.599942277147,8157.449467199204,8585.30933440827,12889.458052631002,15606.603685008522,16758.599874780477,13369.034397997835,9287.403751004682,6820.0511202533,5574.545393373913,10117.19135742239,11332.298443522763,9117.720367506754,9140.815375015549,10143.110215668945,14491.772839744006,17646.838806404034,19120.20001164515,16383.406563058039,12245.299715077499,9417.6224541336,7882.123363894876,11496.029724436468,12745.262559522116,10115.034260721075,10312.380852235958,11098.830720977223,15234.256320822611,18032.707236983977,20156.850263151173,17013.970411665097,13083.994036187856,10090.460796446292,8312.30414443236,12350.036221041475,13958.159800025354,11895.475754030116,12184.47721516025,12899.739934122164,16998.550169674552,20451.532410729917,22280.232080586495,19122.981085277854,14926.253240910624,12198.220205221065,10353.948393471936,14599.82627026156,15922.257499811312,12948.60039085958,12788.631605019142,13321.270842655045,17404.333895668082,20968.742251081698,23073.976867589823,20065.743542973305,16248.313349851609,13229.700393590436,12153.657923613478,16039.754058343706,17582.46006245904,15140.573214575234,15621.748594586403,15684.98515655227,19227.957306786415,22456.757756021172,24006.691801728124,20126.387047635042,15950.686343512029,12985.30387438984,11986.104201285769,16424.31612570793,17626.81777336742,15104.006525981935],\"type\":\"scatter\"},{\"name\":\"Test forecast\",\"x\":[\"1967-01-01T00:00:00\",\"1967-02-01T00:00:00\",\"1967-03-01T00:00:00\",\"1967-04-01T00:00:00\",\"1967-05-01T00:00:00\",\"1967-06-01T00:00:00\",\"1967-07-01T00:00:00\",\"1967-08-01T00:00:00\",\"1967-09-01T00:00:00\",\"1967-10-01T00:00:00\",\"1967-11-01T00:00:00\",\"1967-12-01T00:00:00\",\"1968-01-01T00:00:00\",\"1968-02-01T00:00:00\",\"1968-03-01T00:00:00\",\"1968-04-01T00:00:00\",\"1968-05-01T00:00:00\",\"1968-06-01T00:00:00\",\"1968-07-01T00:00:00\",\"1968-08-01T00:00:00\",\"1968-09-01T00:00:00\",\"1968-10-01T00:00:00\",\"1968-11-01T00:00:00\",\"1968-12-01T00:00:00\"],\"y\":[15139.242592700328,15812.18758876808,19984.474242460812,22976.691165569697,24584.126705331655,21441.67872695938,17323.94104790428,14501.396149423841,13043.22731712713,17165.51657522142,18424.711546704737,15910.357722257835,16011.04964848603,16678.741907801632,20845.772976652916,23832.732246326123,25434.908829367672,22287.201342193614,18164.204339436124,15336.401025598092,13872.975395689464,17990.01016956809,19243.95365222987,16724.3520028013],\"type\":\"scatter\"}],                        {\"template\":{\"data\":{\"barpolar\":[{\"marker\":{\"line\":{\"color\":\"#E5ECF6\",\"width\":0.5},\"pattern\":{\"fillmode\":\"overlay\",\"size\":10,\"solidity\":0.2}},\"type\":\"barpolar\"}],\"bar\":[{\"error_x\":{\"color\":\"#2a3f5f\"},\"error_y\":{\"color\":\"#2a3f5f\"},\"marker\":{\"line\":{\"color\":\"#E5ECF6\",\"width\":0.5},\"pattern\":{\"fillmode\":\"overlay\",\"size\":10,\"solidity\":0.2}},\"type\":\"bar\"}],\"carpet\":[{\"aaxis\":{\"endlinecolor\":\"#2a3f5f\",\"gridcolor\":\"white\",\"linecolor\":\"white\",\"minorgridcolor\":\"white\",\"startlinecolor\":\"#2a3f5f\"},\"baxis\":{\"endlinecolor\":\"#2a3f5f\",\"gridcolor\":\"white\",\"linecolor\":\"white\",\"minorgridcolor\":\"white\",\"startlinecolor\":\"#2a3f5f\"},\"type\":\"carpet\"}],\"choropleth\":[{\"colorbar\":{\"outlinewidth\":0,\"ticks\":\"\"},\"type\":\"choropleth\"}],\"contourcarpet\":[{\"colorbar\":{\"outlinewidth\":0,\"ticks\":\"\"},\"type\":\"contourcarpet\"}],\"contour\":[{\"colorbar\":{\"outlinewidth\":0,\"ticks\":\"\"},\"colorscale\":[[0.0,\"#0d0887\"],[0.1111111111111111,\"#46039f\"],[0.2222222222222222,\"#7201a8\"],[0.3333333333333333,\"#9c179e\"],[0.4444444444444444,\"#bd3786\"],[0.5555555555555556,\"#d8576b\"],[0.6666666666666666,\"#ed7953\"],[0.7777777777777778,\"#fb9f3a\"],[0.8888888888888888,\"#fdca26\"],[1.0,\"#f0f921\"]],\"type\":\"contour\"}],\"heatmapgl\":[{\"colorbar\":{\"outlinewidth\":0,\"ticks\":\"\"},\"colorscale\":[[0.0,\"#0d0887\"],[0.1111111111111111,\"#46039f\"],[0.2222222222222222,\"#7201a8\"],[0.3333333333333333,\"#9c179e\"],[0.4444444444444444,\"#bd3786\"],[0.5555555555555556,\"#d8576b\"],[0.6666666666666666,\"#ed7953\"],[0.7777777777777778,\"#fb9f3a\"],[0.8888888888888888,\"#fdca26\"],[1.0,\"#f0f921\"]],\"type\":\"heatmapgl\"}],\"heatmap\":[{\"colorbar\":{\"outlinewidth\":0,\"ticks\":\"\"},\"colorscale\":[[0.0,\"#0d0887\"],[0.1111111111111111,\"#46039f\"],[0.2222222222222222,\"#7201a8\"],[0.3333333333333333,\"#9c179e\"],[0.4444444444444444,\"#bd3786\"],[0.5555555555555556,\"#d8576b\"],[0.6666666666666666,\"#ed7953\"],[0.7777777777777778,\"#fb9f3a\"],[0.8888888888888888,\"#fdca26\"],[1.0,\"#f0f921\"]],\"type\":\"heatmap\"}],\"histogram2dcontour\":[{\"colorbar\":{\"outlinewidth\":0,\"ticks\":\"\"},\"colorscale\":[[0.0,\"#0d0887\"],[0.1111111111111111,\"#46039f\"],[0.2222222222222222,\"#7201a8\"],[0.3333333333333333,\"#9c179e\"],[0.4444444444444444,\"#bd3786\"],[0.5555555555555556,\"#d8576b\"],[0.6666666666666666,\"#ed7953\"],[0.7777777777777778,\"#fb9f3a\"],[0.8888888888888888,\"#fdca26\"],[1.0,\"#f0f921\"]],\"type\":\"histogram2dcontour\"}],\"histogram2d\":[{\"colorbar\":{\"outlinewidth\":0,\"ticks\":\"\"},\"colorscale\":[[0.0,\"#0d0887\"],[0.1111111111111111,\"#46039f\"],[0.2222222222222222,\"#7201a8\"],[0.3333333333333333,\"#9c179e\"],[0.4444444444444444,\"#bd3786\"],[0.5555555555555556,\"#d8576b\"],[0.6666666666666666,\"#ed7953\"],[0.7777777777777778,\"#fb9f3a\"],[0.8888888888888888,\"#fdca26\"],[1.0,\"#f0f921\"]],\"type\":\"histogram2d\"}],\"histogram\":[{\"marker\":{\"pattern\":{\"fillmode\":\"overlay\",\"size\":10,\"solidity\":0.2}},\"type\":\"histogram\"}],\"mesh3d\":[{\"colorbar\":{\"outlinewidth\":0,\"ticks\":\"\"},\"type\":\"mesh3d\"}],\"parcoords\":[{\"line\":{\"colorbar\":{\"outlinewidth\":0,\"ticks\":\"\"}},\"type\":\"parcoords\"}],\"pie\":[{\"automargin\":true,\"type\":\"pie\"}],\"scatter3d\":[{\"line\":{\"colorbar\":{\"outlinewidth\":0,\"ticks\":\"\"}},\"marker\":{\"colorbar\":{\"outlinewidth\":0,\"ticks\":\"\"}},\"type\":\"scatter3d\"}],\"scattercarpet\":[{\"marker\":{\"colorbar\":{\"outlinewidth\":0,\"ticks\":\"\"}},\"type\":\"scattercarpet\"}],\"scattergeo\":[{\"marker\":{\"colorbar\":{\"outlinewidth\":0,\"ticks\":\"\"}},\"type\":\"scattergeo\"}],\"scattergl\":[{\"marker\":{\"colorbar\":{\"outlinewidth\":0,\"ticks\":\"\"}},\"type\":\"scattergl\"}],\"scattermapbox\":[{\"marker\":{\"colorbar\":{\"outlinewidth\":0,\"ticks\":\"\"}},\"type\":\"scattermapbox\"}],\"scatterpolargl\":[{\"marker\":{\"colorbar\":{\"outlinewidth\":0,\"ticks\":\"\"}},\"type\":\"scatterpolargl\"}],\"scatterpolar\":[{\"marker\":{\"colorbar\":{\"outlinewidth\":0,\"ticks\":\"\"}},\"type\":\"scatterpolar\"}],\"scatter\":[{\"fillpattern\":{\"fillmode\":\"overlay\",\"size\":10,\"solidity\":0.2},\"type\":\"scatter\"}],\"scatterternary\":[{\"marker\":{\"colorbar\":{\"outlinewidth\":0,\"ticks\":\"\"}},\"type\":\"scatterternary\"}],\"surface\":[{\"colorbar\":{\"outlinewidth\":0,\"ticks\":\"\"},\"colorscale\":[[0.0,\"#0d0887\"],[0.1111111111111111,\"#46039f\"],[0.2222222222222222,\"#7201a8\"],[0.3333333333333333,\"#9c179e\"],[0.4444444444444444,\"#bd3786\"],[0.5555555555555556,\"#d8576b\"],[0.6666666666666666,\"#ed7953\"],[0.7777777777777778,\"#fb9f3a\"],[0.8888888888888888,\"#fdca26\"],[1.0,\"#f0f921\"]],\"type\":\"surface\"}],\"table\":[{\"cells\":{\"fill\":{\"color\":\"#EBF0F8\"},\"line\":{\"color\":\"white\"}},\"header\":{\"fill\":{\"color\":\"#C8D4E3\"},\"line\":{\"color\":\"white\"}},\"type\":\"table\"}]},\"layout\":{\"annotationdefaults\":{\"arrowcolor\":\"#2a3f5f\",\"arrowhead\":0,\"arrowwidth\":1},\"autotypenumbers\":\"strict\",\"coloraxis\":{\"colorbar\":{\"outlinewidth\":0,\"ticks\":\"\"}},\"colorscale\":{\"diverging\":[[0,\"#8e0152\"],[0.1,\"#c51b7d\"],[0.2,\"#de77ae\"],[0.3,\"#f1b6da\"],[0.4,\"#fde0ef\"],[0.5,\"#f7f7f7\"],[0.6,\"#e6f5d0\"],[0.7,\"#b8e186\"],[0.8,\"#7fbc41\"],[0.9,\"#4d9221\"],[1,\"#276419\"]],\"sequential\":[[0.0,\"#0d0887\"],[0.1111111111111111,\"#46039f\"],[0.2222222222222222,\"#7201a8\"],[0.3333333333333333,\"#9c179e\"],[0.4444444444444444,\"#bd3786\"],[0.5555555555555556,\"#d8576b\"],[0.6666666666666666,\"#ed7953\"],[0.7777777777777778,\"#fb9f3a\"],[0.8888888888888888,\"#fdca26\"],[1.0,\"#f0f921\"]],\"sequentialminus\":[[0.0,\"#0d0887\"],[0.1111111111111111,\"#46039f\"],[0.2222222222222222,\"#7201a8\"],[0.3333333333333333,\"#9c179e\"],[0.4444444444444444,\"#bd3786\"],[0.5555555555555556,\"#d8576b\"],[0.6666666666666666,\"#ed7953\"],[0.7777777777777778,\"#fb9f3a\"],[0.8888888888888888,\"#fdca26\"],[1.0,\"#f0f921\"]]},\"colorway\":[\"#636efa\",\"#EF553B\",\"#00cc96\",\"#ab63fa\",\"#FFA15A\",\"#19d3f3\",\"#FF6692\",\"#B6E880\",\"#FF97FF\",\"#FECB52\"],\"font\":{\"color\":\"#2a3f5f\"},\"geo\":{\"bgcolor\":\"white\",\"lakecolor\":\"white\",\"landcolor\":\"#E5ECF6\",\"showlakes\":true,\"showland\":true,\"subunitcolor\":\"white\"},\"hoverlabel\":{\"align\":\"left\"},\"hovermode\":\"closest\",\"mapbox\":{\"style\":\"light\"},\"paper_bgcolor\":\"white\",\"plot_bgcolor\":\"#E5ECF6\",\"polar\":{\"angularaxis\":{\"gridcolor\":\"white\",\"linecolor\":\"white\",\"ticks\":\"\"},\"bgcolor\":\"#E5ECF6\",\"radialaxis\":{\"gridcolor\":\"white\",\"linecolor\":\"white\",\"ticks\":\"\"}},\"scene\":{\"xaxis\":{\"backgroundcolor\":\"#E5ECF6\",\"gridcolor\":\"white\",\"gridwidth\":2,\"linecolor\":\"white\",\"showbackground\":true,\"ticks\":\"\",\"zerolinecolor\":\"white\"},\"yaxis\":{\"backgroundcolor\":\"#E5ECF6\",\"gridcolor\":\"white\",\"gridwidth\":2,\"linecolor\":\"white\",\"showbackground\":true,\"ticks\":\"\",\"zerolinecolor\":\"white\"},\"zaxis\":{\"backgroundcolor\":\"#E5ECF6\",\"gridcolor\":\"white\",\"gridwidth\":2,\"linecolor\":\"white\",\"showbackground\":true,\"ticks\":\"\",\"zerolinecolor\":\"white\"}},\"shapedefaults\":{\"line\":{\"color\":\"#2a3f5f\"}},\"ternary\":{\"aaxis\":{\"gridcolor\":\"white\",\"linecolor\":\"white\",\"ticks\":\"\"},\"baxis\":{\"gridcolor\":\"white\",\"linecolor\":\"white\",\"ticks\":\"\"},\"bgcolor\":\"#E5ECF6\",\"caxis\":{\"gridcolor\":\"white\",\"linecolor\":\"white\",\"ticks\":\"\"}},\"title\":{\"x\":0.05},\"xaxis\":{\"automargin\":true,\"gridcolor\":\"white\",\"linecolor\":\"white\",\"ticks\":\"\",\"title\":{\"standoff\":15},\"zerolinecolor\":\"white\",\"zerolinewidth\":2},\"yaxis\":{\"automargin\":true,\"gridcolor\":\"white\",\"linecolor\":\"white\",\"ticks\":\"\",\"title\":{\"standoff\":15},\"zerolinecolor\":\"white\",\"zerolinewidth\":2}}},\"title\":{\"text\":\"Final model\"}},                        {\"responsive\": true}                    ).then(function(){\n",
       "                            \n",
       "var gd = document.getElementById('9a46251b-9776-4efe-aa0b-a75fbb20b694');\n",
       "var x = new MutationObserver(function (mutations, observer) {{\n",
       "        var display = window.getComputedStyle(gd).display;\n",
       "        if (!display || display === 'none') {{\n",
       "            console.log([gd, 'removed!']);\n",
       "            Plotly.purge(gd);\n",
       "            observer.disconnect();\n",
       "        }}\n",
       "}});\n",
       "\n",
       "// Listen for the removal of the full notebook cells\n",
       "var notebookContainer = gd.closest('#notebook-container');\n",
       "if (notebookContainer) {{\n",
       "    x.observe(notebookContainer, {childList: true});\n",
       "}}\n",
       "\n",
       "// Listen for the clearing of the current output cell\n",
       "var outputEl = gd.closest('.output');\n",
       "if (outputEl) {{\n",
       "    x.observe(outputEl, {childList: true});\n",
       "}}\n",
       "\n",
       "                        })                };                });            </script>        </div>"
      ]
     },
     "metadata": {},
     "output_type": "display_data"
    }
   ],
   "source": [
    "orig_trace = Scatter(x = orig_data.index, y = orig_data, name = 'Original data')\n",
    "train_trace = Scatter(x = orig_data[:-test_size].index, y = pred_data[:-test_size], name = 'Train prediction')\n",
    "pred_trace = Scatter(x=orig_data[-test_size:].index, y = pred_data[-test_size:], name = 'Test forecast')\n",
    "layout = Layout(title = 'Final model')\n",
    "iplot(Figure(data=[orig_trace, train_trace, pred_trace], \n",
    "            layout = layout))"
   ]
  },
  {
   "cell_type": "markdown",
   "id": "f689a328",
   "metadata": {},
   "source": [
    "Задание №4\n",
    "* Выбрать модель с наиболее подходящими параметрами среди предыдущих \n",
    "* Сделать цикл кросс-валидации, где размер test равен одному году\n",
    "* Посчитать среднее значение выбранных метрик"
   ]
  },
  {
   "cell_type": "code",
   "execution_count": 34,
   "id": "28f07bff",
   "metadata": {
    "scrolled": false
   },
   "outputs": [
    {
     "data": {
      "image/png": "[encoded data removed]",
      "text/plain": [
       "<Figure size 432x288 with 1 Axes>"
      ]
     },
     "metadata": {
      "needs_background": "light"
     },
     "output_type": "display_data"
    },
    {
     "data": {
      "image/png": "[encoded data removed]",
      "text/plain": [
       "<Figure size 432x288 with 1 Axes>"
      ]
     },
     "metadata": {
      "needs_background": "light"
     },
     "output_type": "display_data"
    },
    {
     "data": {
      "image/png": "[encoded data removed]",
      "text/plain": [
       "<Figure size 432x288 with 1 Axes>"
      ]
     },
     "metadata": {
      "needs_background": "light"
     },
     "output_type": "display_data"
    },
    {
     "data": {
      "image/png": "[encoded data removed]",
      "text/plain": [
       "<Figure size 432x288 with 1 Axes>"
      ]
     },
     "metadata": {
      "needs_background": "light"
     },
     "output_type": "display_data"
    },
    {
     "data": {
      "image/png": "[encoded data removed]",
      "text/plain": [
       "<Figure size 432x288 with 1 Axes>"
      ]
     },
     "metadata": {
      "needs_background": "light"
     },
     "output_type": "display_data"
    }
   ],
   "source": [
    "# your code\n",
    "r2_list = list()\n",
    "mae_list = list()\n",
    "n_splits = 5 \n",
    "test_size = 12 \n",
    "s = df['Sales']\n",
    "size = len(s)\n",
    "for i in reversed(range(n_splits)):\n",
    "    idx = size - (i+1)*test_size\n",
    "    train = s[0:idx]\n",
    "    test = s[idx:idx+test_size]\n",
    "    rest = s[idx+test_size:]\n",
    "    \n",
    "    mod_cv = ExponentialSmoothing(train, trend='mul', seasonal='add',seasonal_periods=12, \n",
    "                                 damped_trend=0.2).fit()\n",
    "    predictions = mod_cv.forecast(len(test))\n",
    "    \n",
    "    fig, ax = plt.subplots()\n",
    "    ax.plot(train, label='train', c = 'blue')\n",
    "    ax.plot(test, label = 'test', c = 'black')\n",
    "    ax.plot(predictions, label = 'forecast', c= 'red')\n",
    "    ax.plot(rest, label = 'rest', c = 'grey')\n",
    "    ax.legend()\n",
    "    plt.show()\n",
    "    \n",
    "    mae_list.append(mean_absolute_error(test, predictions))\n",
    "    r2_list.append(r2_score(test, predictions))"
   ]
  },
  {
   "cell_type": "code",
   "execution_count": 35,
   "id": "8b0500da",
   "metadata": {},
   "outputs": [
    {
     "name": "stdout",
     "output_type": "stream",
     "text": [
      ">>>>>>>>>>>RESULT<<<<<<<<<<<<\n",
      "MAE = 1808.2\n",
      "R2 = 0.62\n"
     ]
    }
   ],
   "source": [
    "print('>>>>>>>>>>>RESULT<<<<<<<<<<<<')\n",
    "    \n",
    "print(f'MAE = {np.round(np.mean(mae_list),2)}')\n",
    "print(f'R2 = {np.round(np.mean(r2_list),2)}')"
   ]
  },
  {
   "cell_type": "code",
   "execution_count": null,
   "id": "4462204d",
   "metadata": {},
   "outputs": [],
   "source": []
  }
 ],
 "metadata": {
  "kernelspec": {
   "display_name": "Python 3 (ipykernel)",
   "language": "python",
   "name": "python3"
  },
  "language_info": {
   "codemirror_mode": {
    "name": "ipython",
    "version": 3
   },
   "file_extension": ".py",
   "mimetype": "text/x-python",
   "name": "python",
   "nbconvert_exporter": "python",
   "pygments_lexer": "ipython3",
   "version": "3.8.13"
  }
 },
 "nbformat": 4,
 "nbformat_minor": 5
}
